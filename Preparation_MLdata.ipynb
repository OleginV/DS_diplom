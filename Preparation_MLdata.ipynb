{
 "cells": [
  {
   "cell_type": "markdown",
   "id": "e0e3b615",
   "metadata": {},
   "source": [
    "## Загрузка необходимых библиотек"
   ]
  },
  {
   "cell_type": "code",
   "execution_count": null,
   "id": "d2407d00",
   "metadata": {},
   "outputs": [],
   "source": [
    "import pandas as pd\n",
    "from pandas import MultiIndex, Int16Dtype\n",
    "import numpy as np\n",
    "import glob\n",
    "import datetime\n",
    "import joblib\n",
    "import matplotlib.pyplot as plt\n",
    "import seaborn as sns\n",
    "%matplotlib inline\n",
    "\n",
    "from catboost import Pool, CatBoostRegressor\n",
    "import xgboost as xgb\n",
    "\n",
    "from sklearn.metrics import r2_score, mean_squared_error\n",
    "from sklearn.model_selection import train_test_split, cross_validate\n",
    "from sklearn.preprocessing import StandardScaler, MinMaxScaler"
   ]
  },
  {
   "cell_type": "markdown",
   "id": "e4298329",
   "metadata": {},
   "source": [
    "## 1. Создание исходного набора данных"
   ]
  },
  {
   "cell_type": "markdown",
   "id": "81b7fd45",
   "metadata": {},
   "source": [
    "### Объединение данных по федеральным округам в единый набор"
   ]
  },
  {
   "cell_type": "code",
   "execution_count": null,
   "id": "1b103a3f",
   "metadata": {},
   "outputs": [],
   "source": [
    "## Создание объединенного датасета\n",
    "folder = 'Datasets'\n",
    "sets = []\n",
    "\n",
    "# чтение файлов с данными и добавленние их в общий df\n",
    "for f in glob.glob(\"{}/*fo.csv\".format(folder)):\n",
    "    try:\n",
    "        sample = pd.DataFrame(pd.read_csv(f, header=0, sep=';'))\n",
    "        sets.append(sample)\n",
    "    except:\n",
    "        pass\n",
    "weather = pd.concat(sets, ignore_index=True)\n",
    "weather.drop_duplicates(keep='first', inplace=True, ignore_index=True) # удаление дубликатов по строкам\n",
    "weather['date'] = pd.to_datetime(weather['date']) # формат дата-время для столбца\n",
    "weather['week_num'] = weather['date'].dt.isocalendar().week # добавление столбца с номером недели"
   ]
  },
  {
   "cell_type": "markdown",
   "id": "dca2d7f8",
   "metadata": {},
   "source": [
    "### Заполнение пустых значений"
   ]
  },
  {
   "cell_type": "code",
   "execution_count": null,
   "id": "245db85a",
   "metadata": {},
   "outputs": [],
   "source": [
    "means = pd.DataFrame(weather.groupby(['meteoid', 'week_num']).mean()[['min_air_temp', 'max_air_temp', 'avg_air_temp',\n",
    "       'min_temp', 'max_temp', 'min_dew_point_temp', 'max_dew_point_temp',\n",
    "       'avg_dew_point_temp', 'min_po_press', 'max_po_press', 'avg_po_press',\n",
    "       'min_p_press', 'max_p_press', 'avg_p_press', 'min_wind_speed', 'max_wind_speed', 'avg_wind_speed']].reset_index())"
   ]
  },
  {
   "cell_type": "code",
   "execution_count": null,
   "id": "74b04ebb",
   "metadata": {},
   "outputs": [],
   "source": [
    "drop_col = ['m_'+str(x) for x in list(means.columns)]\n",
    "means.columns = drop_col\n",
    "means.rename(columns={\"m_meteoid\": \"meteoid\", \"m_week_num\": \"week_num\"}, inplace=True)\n",
    "means.head()"
   ]
  },
  {
   "cell_type": "code",
   "execution_count": null,
   "id": "fd4c1005",
   "metadata": {},
   "outputs": [],
   "source": [
    "weather = pd.merge(weather, means, how='left', on=['meteoid', 'week_num'])"
   ]
  },
  {
   "cell_type": "code",
   "execution_count": null,
   "id": "9378ffdc",
   "metadata": {},
   "outputs": [],
   "source": [
    "## Заполнение Nan-значений\n",
    "# Температура воздуха\n",
    "# -замена пустых значений средними многолетними значениями по соответствующим неделям\n",
    "# -замена через зависимости от других показателей\n",
    "weather.loc[pd.isnull(weather['min_air_temp']), 'min_air_temp'] = weather.loc[pd.isnull(weather['min_air_temp']), 'm_min_air_temp']\n",
    "weather.loc[pd.isnull(weather['max_air_temp']), 'max_air_temp'] = weather.loc[pd.isnull(weather['max_air_temp']), 'm_max_air_temp']\n",
    "weather.loc[pd.isnull(weather['avg_air_temp']), 'avg_air_temp'] = weather.loc[pd.isnull(weather['avg_air_temp']), 'm_avg_air_temp']\n",
    "\n",
    "weather.loc[pd.isnull(weather['min_temp']), 'min_temp'] = weather.loc[pd.isnull(weather['min_temp']), 'min_air_temp']*1.05\n",
    "weather.loc[pd.isnull(weather['max_temp']), 'max_temp'] = weather.loc[pd.isnull(weather['max_temp']), 'max_air_temp']*1.05"
   ]
  },
  {
   "cell_type": "code",
   "execution_count": null,
   "id": "734439ed",
   "metadata": {},
   "outputs": [],
   "source": [
    "## Заполнение Nan-значений\n",
    "# Атмосферное давление\n",
    "# -замена пустых значений средними многолетними значениями по соответствующим неделям\n",
    "weather.loc[pd.isnull(weather['min_po_press']), 'min_po_press'] = weather.loc[pd.isnull(weather['min_po_press']), 'm_min_po_press']\n",
    "weather.loc[pd.isnull(weather['max_po_press']), 'max_po_press'] = weather.loc[pd.isnull(weather['max_po_press']), 'm_max_po_press']\n",
    "weather.loc[pd.isnull(weather['avg_po_press']), 'avg_po_press'] = weather.loc[pd.isnull(weather['avg_po_press']), 'm_avg_po_press']\n",
    "\n",
    "weather.loc[pd.isnull(weather['min_p_press']), 'min_p_press'] = weather.loc[pd.isnull(weather['min_p_press']), 'm_min_p_press']\n",
    "weather.loc[pd.isnull(weather['max_p_press']), 'max_p_press'] = weather.loc[pd.isnull(weather['max_p_press']), 'm_max_p_press']\n",
    "weather.loc[pd.isnull(weather['avg_p_press']), 'avg_p_press'] = weather.loc[pd.isnull(weather['avg_p_press']), 'm_avg_p_press']\n",
    "\n",
    "weather.loc[pd.isnull(weather['min_baric_tendency']), 'min_baric_tendency'] = 0\n",
    "weather.loc[pd.isnull(weather['max_baric_tendency']), 'max_baric_tendency'] = 0\n",
    "weather.loc[pd.isnull(weather['avg_baric_tendency']), 'avg_baric_tendency'] = 0"
   ]
  },
  {
   "cell_type": "code",
   "execution_count": null,
   "id": "4cd1f131",
   "metadata": {},
   "outputs": [],
   "source": [
    "## Заполнение Nan-значений\n",
    "# Температура точки росы\n",
    "# -замена пустых значений средними многолетними значениями по соответствующим неделям\n",
    "# -замена через зависимости от других показателей\n",
    "t_dew_min = weather.loc[pd.isnull(weather['min_dew_point_temp']), 'min_air_temp']-((1-(weather.loc[pd.isnull(weather['min_dew_point_temp']), 'min_u_humidity']/100))/0.05)\n",
    "t_dew_max = weather.loc[pd.isnull(weather['max_dew_point_temp']), 'max_air_temp']-((1-(weather.loc[pd.isnull(weather['max_dew_point_temp']), 'max_u_humidity']/100))/0.05)\n",
    "t_dew_avg = weather.loc[pd.isnull(weather['avg_dew_point_temp']), 'avg_air_temp']-((1-(weather.loc[pd.isnull(weather['avg_dew_point_temp']), 'avg_u_humidity']/100))/0.05)\n",
    "\n",
    "weather.loc[pd.isnull(weather['min_dew_point_temp']), 'min_dew_point_temp'] = t_dew_min\n",
    "weather.loc[pd.isnull(weather['max_dew_point_temp']), 'max_dew_point_temp'] = t_dew_max\n",
    "weather.loc[pd.isnull(weather['avg_dew_point_temp']), 'avg_dew_point_temp'] = t_dew_avg\n",
    "\n",
    "weather.loc[pd.isnull(weather['min_dew_point_temp']), 'min_dew_point_temp'] = weather.loc[pd.isnull(weather['min_dew_point_temp']), 'm_min_dew_point_temp']\n",
    "weather.loc[pd.isnull(weather['max_dew_point_temp']), 'max_dew_point_temp'] = weather.loc[pd.isnull(weather['max_dew_point_temp']), 'm_max_dew_point_temp']\n",
    "weather.loc[pd.isnull(weather['avg_dew_point_temp']), 'avg_dew_point_temp'] = weather.loc[pd.isnull(weather['avg_dew_point_temp']), 'm_avg_dew_point_temp']\n",
    "\n",
    "# все отрицательные значения температуры точки росы приводятся к 0\n",
    "weather.loc[(weather['min_dew_point_temp'] < 0), 'min_dew_point_temp'] = 0\n",
    "weather.loc[(weather['max_dew_point_temp'] < 0), 'max_dew_point_temp'] = 0\n",
    "weather.loc[(weather['avg_dew_point_temp'] < 0), 'avg_dew_point_temp'] = 0"
   ]
  },
  {
   "cell_type": "code",
   "execution_count": null,
   "id": "1a3dda33",
   "metadata": {},
   "outputs": [],
   "source": [
    "## Заполнение Nan-значений\n",
    "# Относительная влажность\n",
    "# -замена через зависимости от других показателей\n",
    "hum_min = (1-0.05*(weather.loc[pd.isnull(weather['min_u_humidity']), 'min_air_temp']-weather.loc[pd.isnull(weather['min_u_humidity']), 'min_dew_point_temp']))*100\n",
    "hum_max = (1-0.05*(weather.loc[pd.isnull(weather['max_u_humidity']), 'max_air_temp']-weather.loc[pd.isnull(weather['max_u_humidity']), 'max_dew_point_temp']))*100\n",
    "hum_avg = (1-0.05*(weather.loc[pd.isnull(weather['avg_u_humidity']), 'avg_air_temp']-weather.loc[pd.isnull(weather['avg_u_humidity']), 'avg_dew_point_temp']))*100\n",
    "\n",
    "weather.loc[pd.isnull(weather['min_u_humidity']), 'min_u_humidity'] = hum_min\n",
    "weather.loc[pd.isnull(weather['max_u_humidity']), 'max_u_humidity'] = hum_max\n",
    "weather.loc[pd.isnull(weather['avg_u_humidity']), 'avg_u_humidity'] = hum_avg\n",
    "\n",
    "weather.loc[pd.isnull(weather['min_u_humidity']), 'min_u_humidity'] = 0\n",
    "weather.loc[pd.isnull(weather['max_u_humidity']), 'max_u_humidity'] = 0\n",
    "weather.loc[pd.isnull(weather['avg_u_humidity']), 'avg_u_humidity'] = 0\n",
    "\n",
    "# все отрицательные значения относительной влажности приводятся к 0\n",
    "weather.loc[(weather['min_u_humidity'] < 0), 'min_u_humidity'] = 0\n",
    "weather.loc[(weather['max_u_humidity'] < 0), 'max_u_humidity'] = 0\n",
    "weather.loc[(weather['avg_u_humidity'] < 0), 'avg_u_humidity'] = 0"
   ]
  },
  {
   "cell_type": "code",
   "execution_count": null,
   "id": "148cf76c",
   "metadata": {},
   "outputs": [],
   "source": [
    "## Заполнение Nan-значений\n",
    "# Скорость ветра\n",
    "# -замена пустых значений средними многолетними значениями по соответствующим неделям\n",
    "# -замена через зависимости от других показателей\n",
    "weather.loc[pd.isnull(weather['min_wind_speed']), 'min_wind_speed'] = weather.loc[pd.isnull(weather['min_wind_speed']), 'm_min_wind_speed']\n",
    "weather.loc[pd.isnull(weather['max_wind_speed']), 'max_wind_speed'] = weather.loc[pd.isnull(weather['max_wind_speed']), 'm_max_wind_speed']\n",
    "weather.loc[pd.isnull(weather['avg_wind_speed']), 'avg_wind_speed'] = weather.loc[pd.isnull(weather['avg_wind_speed']), 'm_avg_wind_speed']\n",
    "\n",
    "weather.loc[pd.isnull(weather['min_wind_gust_before']), 'min_wind_gust_before'] = 0\n",
    "weather.loc[pd.isnull(weather['max_wind_gust_before']), 'max_wind_gust_before'] = 0\n",
    "weather.loc[pd.isnull(weather['avg_wind_gust_before']), 'avg_wind_gust_before'] = 0\n",
    "\n",
    "weather.loc[pd.isnull(weather['min_wind_gust_between']), 'min_wind_gust_between'] = 0\n",
    "weather.loc[pd.isnull(weather['max_wind_gust_between']), 'max_wind_gust_between'] = 0\n",
    "weather.loc[pd.isnull(weather['avg_wind_gust_between']), 'avg_wind_gust_between'] = 0"
   ]
  },
  {
   "cell_type": "code",
   "execution_count": null,
   "id": "8eb0e5ac",
   "metadata": {},
   "outputs": [],
   "source": [
    "## Заполнение Nan-значений\n",
    "# Температура почвы\n",
    "# -замена через зависимости от других показателей\n",
    "weather.loc[pd.isnull(weather['max_ground_temp']), 'max_ground_temp'] = weather.loc[pd.isnull(weather['max_ground_temp']), 'max_air_temp']*1.11\n",
    "weather.loc[pd.isnull(weather['min_ground_temp']), 'min_ground_temp'] = weather.loc[pd.isnull(weather['min_ground_temp']), 'min_air_temp']*0.90\n",
    "weather.loc[pd.isnull(weather['avg_ground_temp']), 'avg_ground_temp'] = weather.loc[pd.isnull(weather['avg_ground_temp']), 'avg_air_temp']*0.98"
   ]
  },
  {
   "cell_type": "code",
   "execution_count": null,
   "id": "47ea17c8",
   "metadata": {},
   "outputs": [],
   "source": [
    "## Заполнение Nan-значений\n",
    "# Осадки\n",
    "# -замена через зависимости от других показателей\n",
    "weather.loc[pd.isnull(weather['sum_precipitation']), 'sum_precipitation'] = 0\n",
    "weather.loc[pd.isnull(weather['avg_precipitation']), 'avg_precipitation'] = 0\n",
    "weather.loc[pd.isnull(weather['avg_precipitation_time']), 'avg_precipitation_time'] = 0"
   ]
  },
  {
   "cell_type": "markdown",
   "id": "6230893e",
   "metadata": {},
   "source": [
    "### Удаление лишних \"рабочих\" столбцов и сохранение данных в файл"
   ]
  },
  {
   "cell_type": "code",
   "execution_count": null,
   "id": "5bb6630c",
   "metadata": {
    "scrolled": false
   },
   "outputs": [],
   "source": [
    "## Удаление лишних столбцов\n",
    "weather.drop(columns=drop_col[2:], inplace=True)"
   ]
  },
  {
   "cell_type": "code",
   "execution_count": null,
   "id": "9321da88",
   "metadata": {
    "scrolled": true
   },
   "outputs": [],
   "source": [
    "## Информация о наборе данных\n",
    "weather.info()"
   ]
  },
  {
   "cell_type": "code",
   "execution_count": null,
   "id": "d8afaf51",
   "metadata": {},
   "outputs": [],
   "source": [
    "## Сохранение данных в файл \n",
    "# (csv-формат)\n",
    "#file_csv = pd.DataFrame(weather).to_csv('Datasets/weather_full.csv', sep=';', index=False)\n",
    "\n",
    "# (excel-формат)\n",
    "#file_excel = pd.DataFrame(weather).to_excel('Datasets/weather_full.xlsx')"
   ]
  },
  {
   "cell_type": "code",
   "execution_count": null,
   "id": "0d219c1e",
   "metadata": {},
   "outputs": [],
   "source": [
    "del sets"
   ]
  },
  {
   "cell_type": "markdown",
   "id": "3860127c",
   "metadata": {},
   "source": [
    "## 2. Создание набора данных для обучения предиктивной модели"
   ]
  },
  {
   "cell_type": "code",
   "execution_count": null,
   "id": "931c966b",
   "metadata": {},
   "outputs": [],
   "source": [
    "## Чтение данных\n",
    "#weather = pd.read_csv('Datasets/Weather.csv', header=0, sep=';')"
   ]
  },
  {
   "cell_type": "code",
   "execution_count": null,
   "id": "2661d431",
   "metadata": {},
   "outputs": [],
   "source": [
    "## Сортировка датафрейма по дате и метеостанциям\n",
    "weather = weather.sort_values(by=['meteoid', 'date'], ascending=True).reset_index()\n",
    "weather.drop(columns='index', inplace=True)\n",
    "weather.head()"
   ]
  },
  {
   "cell_type": "code",
   "execution_count": null,
   "id": "bcd99fcd",
   "metadata": {},
   "outputs": [],
   "source": [
    "## Удаление лишних столбцов\n",
    "# список столбцов на удаление\n",
    "drop_col = ['min_p_press', 'max_p_press', 'avg_p_press', 'min_visibility_range', 'max_visibility_range', 'avg_visibility_range']\n",
    "## Удаление лишних столбцов\n",
    "weather.drop(columns=drop_col, inplace=True)"
   ]
  },
  {
   "cell_type": "code",
   "execution_count": null,
   "id": "33dd2886",
   "metadata": {
    "scrolled": true
   },
   "outputs": [],
   "source": [
    "## Информация о наборе данных\n",
    "weather.info()"
   ]
  },
  {
   "cell_type": "code",
   "execution_count": null,
   "id": "64466ce0",
   "metadata": {},
   "outputs": [],
   "source": [
    "## Создать сэмпл по годам и метеостанциям\n",
    "season_data = []\n",
    "\n",
    "for m in weather['meteoid'].unique():\n",
    "    for y in weather['years'].unique():\n",
    "        try:\n",
    "            ds = weather.loc[(weather['years'] == y) & (weather['meteoid'] == m)]\n",
    "            i_start = int(min(ds.loc[(ds['min_ground_temp'] >= 8.)].index))\n",
    "            i_end = i_start+21\n",
    "            season = ds.loc[i_start:i_end]\n",
    "        except:\n",
    "            pass\n",
    "        # создаем датасет по сезонам\n",
    "        elem = []\n",
    "        for i in range(22):\n",
    "            try:\n",
    "                elem+=list(season.values[i])\n",
    "                season_data.append(elem)\n",
    "            except:\n",
    "                pass"
   ]
  },
  {
   "cell_type": "code",
   "execution_count": null,
   "id": "82e70f6d",
   "metadata": {},
   "outputs": [],
   "source": [
    "## Создание набора данных для обучения и тестирования предиктивной модели\n",
    "# создание списка с наименованием столбцов\n",
    "col = []\n",
    "\n",
    "for week in range(1,23):\n",
    "    for items in weather.columns:\n",
    "        c = 'w{}_{}'.format(week, items)\n",
    "        col.append(c)\n",
    "        \n",
    "# создание датафрейма для ML-модели\n",
    "weather = pd.DataFrame(season_data, columns = col)\n",
    "weather.drop_duplicates(keep='first', inplace=True, ignore_index=True)\n",
    "weather.tail()"
   ]
  },
  {
   "cell_type": "code",
   "execution_count": null,
   "id": "2a9fb48e",
   "metadata": {},
   "outputs": [],
   "source": [
    "del season_data"
   ]
  },
  {
   "cell_type": "code",
   "execution_count": null,
   "id": "57754916",
   "metadata": {},
   "outputs": [],
   "source": [
    "## Удаление неинформативных столбцов\n",
    "# создание списка неинформативных столбцов\n",
    "drop_col = []\n",
    "\n",
    "for week in range(2,22):\n",
    "    for items in ['date', 'years', 'meteoid', 'week_num']:\n",
    "        c = 'w{}_{}'.format(week, items)\n",
    "        drop_col.append(c)\n",
    "        \n",
    "# удаление столбцов\n",
    "weather.drop(columns=drop_col, inplace=True)\n",
    "weather.drop(columns=['w1_date', 'w1_years', 'w1_meteoid', 'w22_date'], inplace=True)\n",
    "weather.rename(columns={\"w1_week_num\": \"week_start\", \"w22_week_num\": \"week_end\", \"w22_years\": \"year\", \"w22_meteoid\": \"meteoid\"}, inplace=True)"
   ]
  },
  {
   "cell_type": "code",
   "execution_count": null,
   "id": "be9ddeb2",
   "metadata": {},
   "outputs": [],
   "source": [
    "## Информация о наборе данных\n",
    "weather.info()"
   ]
  },
  {
   "cell_type": "code",
   "execution_count": null,
   "id": "2424e00b",
   "metadata": {},
   "outputs": [],
   "source": [
    "weather.tail()"
   ]
  },
  {
   "cell_type": "code",
   "execution_count": null,
   "id": "86ebc38f",
   "metadata": {},
   "outputs": [],
   "source": [
    "## Сохранение набора данных для модели в файл \n",
    "# (csv-формат)\n",
    "file_csv = weather.to_csv('Datasets/weather_data.csv', sep=';', index=False)"
   ]
  },
  {
   "cell_type": "markdown",
   "id": "ea54cd2f",
   "metadata": {},
   "source": [
    "## 3. Обучение предиктивной модели"
   ]
  },
  {
   "cell_type": "code",
   "execution_count": 1,
   "id": "5748c723",
   "metadata": {},
   "outputs": [
    {
     "name": "stderr",
     "output_type": "stream",
     "text": [
      "C:\\Users\\uovorop\\Anaconda3\\lib\\site-packages\\xgboost\\compat.py:31: FutureWarning: pandas.Int64Index is deprecated and will be removed from pandas in a future version. Use pandas.Index with the appropriate dtype instead.\n",
      "  from pandas import MultiIndex, Int64Index\n"
     ]
    }
   ],
   "source": [
    "## Загрузка необходимых библиотек\n",
    "import pandas as pd\n",
    "from pandas import MultiIndex, Int16Dtype\n",
    "import numpy as np\n",
    "import glob\n",
    "import datetime\n",
    "import joblib\n",
    "import matplotlib.pyplot as plt\n",
    "import seaborn as sns\n",
    "%matplotlib inline\n",
    "\n",
    "from catboost import CatBoostRegressor, Pool, cv\n",
    "import xgboost as xgb\n",
    "\n",
    "from sklearn.metrics import r2_score, mean_squared_error\n",
    "from sklearn.model_selection import train_test_split, cross_validate\n",
    "from sklearn.preprocessing import StandardScaler, MinMaxScaler"
   ]
  },
  {
   "cell_type": "code",
   "execution_count": 2,
   "id": "e6bdb422",
   "metadata": {},
   "outputs": [],
   "source": [
    "## Чтение данных из файла\n",
    "weather = pd.read_csv('Datasets/weather_data.csv', header=0, sep=';')\n",
    "settl = pd.read_csv('Datasets/Settlement_Id.csv', header=0, sep=';')\n",
    "target = pd.read_csv('Datasets/Target.csv', header=0, sep=';')"
   ]
  },
  {
   "cell_type": "code",
   "execution_count": 3,
   "id": "db009ed6",
   "metadata": {},
   "outputs": [],
   "source": [
    "## Добавление id метеостанций к фрейму с целевой переменной\n",
    "target = target[['digit_id', 'year', 'category', 'yield']]\n",
    "meteo = settl[['digit_id', 'meteoid']].drop_duplicates()\n",
    "target = pd.merge(target, meteo, how='left', on=['digit_id'])\n",
    "target.drop_duplicates(keep='first', inplace=True, ignore_index=True)"
   ]
  },
  {
   "cell_type": "code",
   "execution_count": 4,
   "id": "19460aa2",
   "metadata": {},
   "outputs": [],
   "source": [
    "## Удаление лишних данных\n",
    "del settl\n",
    "del meteo"
   ]
  },
  {
   "cell_type": "code",
   "execution_count": 5,
   "id": "3e340ce4",
   "metadata": {},
   "outputs": [],
   "source": [
    "## Создание учебного датафрейма\n",
    "target.drop(columns=['digit_id'], inplace=True)\n",
    "data = pd.merge(weather, target, how='right', on=['year', 'meteoid'])\n",
    "data.drop_duplicates(keep='first', inplace=True, ignore_index=True)"
   ]
  },
  {
   "cell_type": "code",
   "execution_count": 6,
   "id": "8086f3eb",
   "metadata": {},
   "outputs": [],
   "source": [
    "del weather"
   ]
  },
  {
   "cell_type": "markdown",
   "id": "edd453cf",
   "metadata": {},
   "source": [
    "**Что делаем:** <br>\n",
    "- разбить данные на train и test (test: year=2021) <br>\n",
    "- назначить label (параметр \"yield\") <br>\n",
    "- удалить лишние столбцы ('digit_id', 'year', 'meteoid') <br>\n",
    "- ???номализовать данные (StandardScaler) <br>\n",
    "- форматировать данные с помощью Pool <br>"
   ]
  },
  {
   "cell_type": "code",
   "execution_count": 7,
   "id": "78c6f145",
   "metadata": {},
   "outputs": [],
   "source": [
    "## Разбиение данных на train и test\n",
    "train = data.loc[(data['year'] != 2021)]\n",
    "train_label = train['yield']\n",
    "test = data.loc[(data['year'] == 2021)]\n",
    "test_label = test['yield']\n",
    "\n",
    "# удаление лишних столбцов\n",
    "train = train.drop(columns=['year', 'meteoid', 'yield'])\n",
    "test = test.drop(columns=['year', 'meteoid', 'yield'])"
   ]
  },
  {
   "cell_type": "code",
   "execution_count": 8,
   "id": "5b0c56dc",
   "metadata": {},
   "outputs": [],
   "source": [
    "category = ['category']\n",
    "\n",
    "train_data = Pool(data=train,\n",
    "                  label= train_label,\n",
    "                  cat_features=category)\n",
    "\n",
    "test_data = Pool(data=test,\n",
    "                 cat_features=category)"
   ]
  },
  {
   "cell_type": "code",
   "execution_count": 25,
   "id": "022cc57e",
   "metadata": {},
   "outputs": [
    {
     "data": {
      "application/vnd.jupyter.widget-view+json": {
       "model_id": "5ac4c27d75af4ed79f9cdb0da1d34bf8",
       "version_major": 2,
       "version_minor": 0
      },
      "text/plain": [
       "MetricVisualizer(layout=Layout(align_self='stretch', height='500px'))"
      ]
     },
     "metadata": {},
     "output_type": "display_data"
    },
    {
     "data": {
      "text/plain": [
       "<catboost.core.CatBoostRegressor at 0x2c8fe3fac10>"
      ]
     },
     "execution_count": 25,
     "metadata": {},
     "output_type": "execute_result"
    }
   ],
   "source": [
    "cat = CatBoostRegressor(iterations=5000, loss_function='RMSE')\n",
    "cat.fit(train_data, verbose=False, plot=True)"
   ]
  },
  {
   "cell_type": "code",
   "execution_count": 27,
   "id": "1ce58381",
   "metadata": {},
   "outputs": [
    {
     "data": {
      "application/vnd.jupyter.widget-view+json": {
       "model_id": "c02591fb3b8a47d495e3f5616b300f2b",
       "version_major": 2,
       "version_minor": 0
      },
      "text/plain": [
       "MetricVisualizer(layout=Layout(align_self='stretch', height='500px'))"
      ]
     },
     "metadata": {},
     "output_type": "display_data"
    },
    {
     "name": "stdout",
     "output_type": "stream",
     "text": [
      "Training on fold [0/3]\n",
      "\n",
      "bestTest = 4.310993085\n",
      "bestIteration = 2865\n",
      "\n",
      "Training on fold [1/3]\n",
      "\n",
      "bestTest = 4.275437712\n",
      "bestIteration = 2571\n",
      "\n",
      "Training on fold [2/3]\n",
      "\n",
      "bestTest = 4.275863891\n",
      "bestIteration = 2897\n",
      "\n"
     ]
    }
   ],
   "source": [
    "train_data = Pool(data=train,\n",
    "                  label= train_label,\n",
    "                  cat_features=category)\n",
    "\n",
    "params = {\"iterations\": 5000,\n",
    "          \"loss_function\": 'RMSE',\n",
    "          \"verbose\": False}\n",
    "\n",
    "scores = cv(train_data,\n",
    "            params,\n",
    "            fold_count=3, \n",
    "            plot=\"True\")\n"
   ]
  },
  {
   "cell_type": "code",
   "execution_count": 10,
   "id": "aecc3b01",
   "metadata": {
    "scrolled": false
   },
   "outputs": [
    {
     "data": {
      "application/vnd.jupyter.widget-view+json": {
       "model_id": "f52a24caf2c846209e247b20759185a4",
       "version_major": 2,
       "version_minor": 0
      },
      "text/plain": [
       "MetricVisualizer(layout=Layout(align_self='stretch', height='500px'))"
      ]
     },
     "metadata": {},
     "output_type": "display_data"
    },
    {
     "name": "stdout",
     "output_type": "stream",
     "text": [
      "\n",
      "bestTest = 4.284136717\n",
      "bestIteration = 2954\n",
      "\n",
      "0:\tloss: 4.2841367\tbest: 4.2841367 (0)\ttotal: 10m 33s\tremaining: 1d 9h 38m 4s\n",
      "\n",
      "bestTest = 4.27857164\n",
      "bestIteration = 1396\n",
      "\n",
      "1:\tloss: 4.2785716\tbest: 4.2785716 (1)\ttotal: 21m 50s\tremaining: 1d 10h 34m 47s\n",
      "\n",
      "bestTest = 4.28677876\n",
      "bestIteration = 1028\n",
      "\n",
      "2:\tloss: 4.2867788\tbest: 4.2785716 (1)\ttotal: 32m 49s\tremaining: 1d 10h 28m 5s\n",
      "\n",
      "bestTest = 4.281994157\n",
      "bestIteration = 729\n",
      "\n",
      "3:\tloss: 4.2819942\tbest: 4.2785716 (1)\ttotal: 42m 25s\tremaining: 1d 9h 13m 55s\n",
      "\n",
      "bestTest = 4.284150748\n",
      "bestIteration = 2999\n",
      "\n",
      "4:\tloss: 4.2841507\tbest: 4.2785716 (1)\ttotal: 54m 23s\tremaining: 1d 9h 54m 18s\n",
      "\n",
      "bestTest = 4.28233531\n",
      "bestIteration = 1787\n",
      "\n",
      "5:\tloss: 4.2823353\tbest: 4.2785716 (1)\ttotal: 1h 4m 58s\tremaining: 1d 9h 34m 5s\n",
      "\n",
      "bestTest = 4.290433963\n",
      "bestIteration = 1191\n",
      "\n",
      "6:\tloss: 4.2904340\tbest: 4.2785716 (1)\ttotal: 1h 16m 11s\tremaining: 1d 9h 33m 42s\n",
      "\n",
      "bestTest = 4.290399659\n",
      "bestIteration = 940\n",
      "\n",
      "7:\tloss: 4.2903997\tbest: 4.2785716 (1)\ttotal: 1h 27m 43s\tremaining: 1d 9h 37m 31s\n",
      "\n",
      "bestTest = 4.290320657\n",
      "bestIteration = 2999\n",
      "\n",
      "8:\tloss: 4.2903207\tbest: 4.2785716 (1)\ttotal: 1h 38m 33s\tremaining: 1d 9h 23m 59s\n",
      "\n",
      "bestTest = 4.283050309\n",
      "bestIteration = 1980\n",
      "\n",
      "9:\tloss: 4.2830503\tbest: 4.2785716 (1)\ttotal: 1h 50m 1s\tremaining: 1d 9h 22m 25s\n",
      "\n",
      "bestTest = 4.285803128\n",
      "bestIteration = 1249\n",
      "\n",
      "10:\tloss: 4.2858031\tbest: 4.2785716 (1)\ttotal: 2h 2m\tremaining: 1d 9h 27m 29s\n",
      "\n",
      "bestTest = 4.293760688\n",
      "bestIteration = 1055\n",
      "\n",
      "11:\tloss: 4.2937607\tbest: 4.2785716 (1)\ttotal: 2h 14m 16s\tremaining: 1d 9h 34m 5s\n",
      "\n",
      "bestTest = 4.289595955\n",
      "bestIteration = 2997\n",
      "\n",
      "12:\tloss: 4.2895960\tbest: 4.2785716 (1)\ttotal: 2h 26m 23s\tremaining: 1d 9h 35m 43s\n",
      "\n",
      "bestTest = 4.285361857\n",
      "bestIteration = 2147\n",
      "\n",
      "13:\tloss: 4.2853619\tbest: 4.2785716 (1)\ttotal: 2h 37m 53s\tremaining: 1d 9h 27m 24s\n",
      "\n",
      "bestTest = 4.284740952\n",
      "bestIteration = 1340\n",
      "\n",
      "14:\tloss: 4.2847410\tbest: 4.2785716 (1)\ttotal: 2h 49m 49s\tremaining: 1d 9h 24m 1s\n",
      "\n",
      "bestTest = 4.28844937\n",
      "bestIteration = 1082\n",
      "\n",
      "15:\tloss: 4.2884494\tbest: 4.2785716 (1)\ttotal: 3h 1m 21s\tremaining: 1d 9h 15m 1s\n",
      "Estimating final quality...\n",
      "Training on fold [0/3]\n",
      "\n",
      "bestTest = 4.315680684\n",
      "bestIteration = 1562\n",
      "\n",
      "Training on fold [1/3]\n",
      "\n",
      "bestTest = 4.280016255\n",
      "bestIteration = 1479\n",
      "\n",
      "Training on fold [2/3]\n",
      "\n",
      "bestTest = 4.28041254\n",
      "bestIteration = 1397\n",
      "\n"
     ]
    }
   ],
   "source": [
    "model = CatBoostRegressor(iterations=3000, loss_function='RMSE', verbose=False) #, boosting_type='Ordered')\n",
    "\n",
    "grid = {'depth': [4, 6, 10, 15],\n",
    "        'l2_leaf_reg': [1, 3, 5, 7],\n",
    "        'learning_rate': [0.025, 0.05, 0.075, 0.1],\n",
    "        'max_leaves': [50, 64, 100]\n",
    "       }\n",
    "\n",
    "grid_result = model.grid_search(grid,\n",
    "                                train_data,\n",
    "                                cv=3,\n",
    "                                plot=True)"
   ]
  },
  {
   "cell_type": "code",
   "execution_count": 12,
   "id": "24394cbe",
   "metadata": {},
   "outputs": [
    {
     "data": {
      "application/vnd.jupyter.widget-view+json": {
       "model_id": "a0846be8c1744427b495a30b8f13a569",
       "version_major": 2,
       "version_minor": 0
      },
      "text/plain": [
       "MetricVisualizer(layout=Layout(align_self='stretch', height='500px'))"
      ]
     },
     "metadata": {},
     "output_type": "display_data"
    },
    {
     "name": "stdout",
     "output_type": "stream",
     "text": [
      "\n",
      "bestTest = 4.280293677\n",
      "bestIteration = 1657\n",
      "\n",
      "0:\tloss: 4.2802937\tbest: 4.2802937 (0)\ttotal: 9m 42s\tremaining: 12h 56m 17s\n",
      "\n",
      "bestTest = 4.283499996\n",
      "bestIteration = 1496\n",
      "\n",
      "1:\tloss: 4.2835000\tbest: 4.2802937 (0)\ttotal: 19m 56s\tremaining: 13h 7m 29s\n",
      "\n",
      "bestTest = 4.283779254\n",
      "bestIteration = 1265\n",
      "\n",
      "2:\tloss: 4.2837793\tbest: 4.2802937 (0)\ttotal: 30m 34s\tremaining: 13h 14m 51s\n",
      "\n",
      "bestTest = 4.278388806\n",
      "bestIteration = 1902\n",
      "\n",
      "3:\tloss: 4.2783888\tbest: 4.2783888 (3)\ttotal: 40m 10s\tremaining: 12h 53m 15s\n",
      "\n",
      "bestTest = 4.27857164\n",
      "bestIteration = 1396\n",
      "\n",
      "4:\tloss: 4.2785716\tbest: 4.2783888 (3)\ttotal: 50m 53s\tremaining: 12h 53m 26s\n",
      "\n",
      "bestTest = 4.281986587\n",
      "bestIteration = 1099\n",
      "\n",
      "5:\tloss: 4.2819866\tbest: 4.2783888 (3)\ttotal: 1h 1m 58s\tremaining: 12h 54m 35s\n",
      "\n",
      "bestTest = 4.280016739\n",
      "bestIteration = 1849\n",
      "\n",
      "6:\tloss: 4.2800167\tbest: 4.2783888 (3)\ttotal: 1h 12m\tremaining: 12h 41m 10s\n",
      "\n",
      "bestTest = 4.286722293\n",
      "bestIteration = 1445\n",
      "\n",
      "7:\tloss: 4.2867223\tbest: 4.2783888 (3)\ttotal: 1h 22m 6s\tremaining: 12h 29m 12s\n",
      "\n",
      "bestTest = 4.281366502\n",
      "bestIteration = 1342\n",
      "\n",
      "8:\tloss: 4.2813665\tbest: 4.2783888 (3)\ttotal: 1h 31m 50s\tremaining: 12h 14m 47s\n",
      "Estimating final quality...\n",
      "Training on fold [0/3]\n",
      "\n",
      "bestTest = 4.315958362\n",
      "bestIteration = 1691\n",
      "\n",
      "Training on fold [1/3]\n",
      "\n",
      "bestTest = 4.277696432\n",
      "bestIteration = 1791\n",
      "\n",
      "Training on fold [2/3]\n",
      "\n",
      "bestTest = 4.277293214\n",
      "bestIteration = 1969\n",
      "\n"
     ]
    }
   ],
   "source": [
    "model2 = CatBoostRegressor(iterations=3000, loss_function='RMSE', verbose=False) #, boosting_type='Ordered')\n",
    "grid2 = {'depth': [5, 6, 7],\n",
    "        'l2_leaf_reg': [0.75, 1, 1.25],\n",
    "        'learning_rate': [0.04, 0.05, 0.06],\n",
    "        'max_leaves': [63, 64, 65]\n",
    "       }\n",
    "\n",
    "grid_result2 = model2.grid_search(grid2,\n",
    "                                train_data,\n",
    "                                cv=3,\n",
    "                                plot=True)"
   ]
  },
  {
   "cell_type": "code",
   "execution_count": 34,
   "id": "12f8bde5",
   "metadata": {},
   "outputs": [
    {
     "data": {
      "text/plain": [
       "{'nan_mode': 'Min',\n",
       " 'eval_metric': 'RMSE',\n",
       " 'combinations_ctr': ['Borders:CtrBorderCount=15:CtrBorderType=Uniform:TargetBorderCount=1:TargetBorderType=MinEntropy:Prior=0/1:Prior=0.5/1:Prior=1/1',\n",
       "  'Counter:CtrBorderCount=15:CtrBorderType=Uniform:Prior=0/1'],\n",
       " 'iterations': 1000,\n",
       " 'sampling_frequency': 'PerTree',\n",
       " 'fold_permutation_block': 0,\n",
       " 'leaf_estimation_method': 'Newton',\n",
       " 'counter_calc_method': 'SkipTest',\n",
       " 'grow_policy': 'SymmetricTree',\n",
       " 'penalties_coefficient': 1,\n",
       " 'boosting_type': 'Plain',\n",
       " 'model_shrink_mode': 'Constant',\n",
       " 'feature_border_type': 'GreedyLogSum',\n",
       " 'ctr_leaf_count_limit': 18446744073709551615,\n",
       " 'bayesian_matrix_reg': 0.10000000149011612,\n",
       " 'one_hot_max_size': 2,\n",
       " 'force_unit_auto_pair_weights': False,\n",
       " 'l2_leaf_reg': 3,\n",
       " 'random_strength': 1,\n",
       " 'rsm': 1,\n",
       " 'boost_from_average': True,\n",
       " 'max_ctr_complexity': 4,\n",
       " 'model_size_reg': 0.5,\n",
       " 'simple_ctr': ['Borders:CtrBorderCount=15:CtrBorderType=Uniform:TargetBorderCount=1:TargetBorderType=MinEntropy:Prior=0/1:Prior=0.5/1:Prior=1/1',\n",
       "  'Counter:CtrBorderCount=15:CtrBorderType=Uniform:Prior=0/1'],\n",
       " 'pool_metainfo_options': {'tags': {}},\n",
       " 'subsample': 0.800000011920929,\n",
       " 'use_best_model': False,\n",
       " 'random_seed': 0,\n",
       " 'depth': 6,\n",
       " 'ctr_target_border_count': 1,\n",
       " 'posterior_sampling': False,\n",
       " 'has_time': False,\n",
       " 'store_all_simple_ctr': False,\n",
       " 'border_count': 254,\n",
       " 'classes_count': 0,\n",
       " 'auto_class_weights': 'None',\n",
       " 'sparse_features_conflict_fraction': 0,\n",
       " 'leaf_estimation_backtracking': 'AnyImprovement',\n",
       " 'best_model_min_trees': 1,\n",
       " 'model_shrink_rate': 0,\n",
       " 'min_data_in_leaf': 1,\n",
       " 'loss_function': 'RMSE',\n",
       " 'learning_rate': 0.07555700093507767,\n",
       " 'score_function': 'Cosine',\n",
       " 'task_type': 'CPU',\n",
       " 'leaf_estimation_iterations': 1,\n",
       " 'bootstrap_type': 'MVS',\n",
       " 'max_leaves': 64,\n",
       " 'permutation_count': 4}"
      ]
     },
     "execution_count": 34,
     "metadata": {},
     "output_type": "execute_result"
    }
   ],
   "source": [
    "cat.get_all_params()"
   ]
  },
  {
   "cell_type": "code",
   "execution_count": 21,
   "id": "5735f74a",
   "metadata": {
    "scrolled": true
   },
   "outputs": [
    {
     "name": "stdout",
     "output_type": "stream",
     "text": [
      "<class 'pandas.core.frame.DataFrame'>\n",
      "Int64Index: 4306 entries, 14 to 52628\n",
      "Columns: 1037 entries, w1_min_air_temp to category\n",
      "dtypes: float64(1036), object(1)\n",
      "memory usage: 34.1+ MB\n"
     ]
    }
   ],
   "source": [
    "test.info()"
   ]
  },
  {
   "cell_type": "code",
   "execution_count": 23,
   "id": "8e61cad7",
   "metadata": {},
   "outputs": [
    {
     "data": {
      "text/html": [
       "<div>\n",
       "<style scoped>\n",
       "    .dataframe tbody tr th:only-of-type {\n",
       "        vertical-align: middle;\n",
       "    }\n",
       "\n",
       "    .dataframe tbody tr th {\n",
       "        vertical-align: top;\n",
       "    }\n",
       "\n",
       "    .dataframe thead th {\n",
       "        text-align: right;\n",
       "    }\n",
       "</style>\n",
       "<table border=\"1\" class=\"dataframe\">\n",
       "  <thead>\n",
       "    <tr style=\"text-align: right;\">\n",
       "      <th></th>\n",
       "      <th>w1_min_air_temp</th>\n",
       "      <th>w1_max_air_temp</th>\n",
       "      <th>w1_avg_air_temp</th>\n",
       "      <th>w1_min_temp</th>\n",
       "      <th>w1_max_temp</th>\n",
       "      <th>w1_min_dew_point_temp</th>\n",
       "      <th>w1_max_dew_point_temp</th>\n",
       "      <th>w1_avg_dew_point_temp</th>\n",
       "      <th>w1_min_ground_temp</th>\n",
       "      <th>w1_max_ground_temp</th>\n",
       "      <th>...</th>\n",
       "      <th>w22_avg_height_clouds</th>\n",
       "      <th>w22_avg_cm_clouds</th>\n",
       "      <th>w22_avg_ch_clouds</th>\n",
       "      <th>w22_sum_precipitation</th>\n",
       "      <th>w22_avg_precipitation</th>\n",
       "      <th>w22_avg_precipitation_time</th>\n",
       "      <th>w22_avg_soil_surface</th>\n",
       "      <th>w22_avg_soil_surface_withsnow</th>\n",
       "      <th>week_end</th>\n",
       "      <th>category</th>\n",
       "    </tr>\n",
       "  </thead>\n",
       "  <tbody>\n",
       "    <tr>\n",
       "      <th>52623</th>\n",
       "      <td>15.1</td>\n",
       "      <td>32.3</td>\n",
       "      <td>23.708929</td>\n",
       "      <td>14.4</td>\n",
       "      <td>33.4</td>\n",
       "      <td>8.1</td>\n",
       "      <td>19.2</td>\n",
       "      <td>12.708929</td>\n",
       "      <td>11.0</td>\n",
       "      <td>19.0</td>\n",
       "      <td>...</td>\n",
       "      <td>803.571429</td>\n",
       "      <td>1.339286</td>\n",
       "      <td>1.089286</td>\n",
       "      <td>9.45</td>\n",
       "      <td>0.726923</td>\n",
       "      <td>12.0</td>\n",
       "      <td>0.0</td>\n",
       "      <td>1.035714</td>\n",
       "      <td>47.0</td>\n",
       "      <td>СХО</td>\n",
       "    </tr>\n",
       "    <tr>\n",
       "      <th>52624</th>\n",
       "      <td>13.8</td>\n",
       "      <td>32.6</td>\n",
       "      <td>23.867857</td>\n",
       "      <td>13.6</td>\n",
       "      <td>33.0</td>\n",
       "      <td>8.0</td>\n",
       "      <td>19.3</td>\n",
       "      <td>13.233929</td>\n",
       "      <td>12.0</td>\n",
       "      <td>18.0</td>\n",
       "      <td>...</td>\n",
       "      <td>1102.678571</td>\n",
       "      <td>4.035714</td>\n",
       "      <td>1.000000</td>\n",
       "      <td>8.45</td>\n",
       "      <td>0.603571</td>\n",
       "      <td>12.0</td>\n",
       "      <td>0.0</td>\n",
       "      <td>0.928571</td>\n",
       "      <td>47.0</td>\n",
       "      <td>СХО</td>\n",
       "    </tr>\n",
       "    <tr>\n",
       "      <th>52625</th>\n",
       "      <td>12.4</td>\n",
       "      <td>23.5</td>\n",
       "      <td>18.126786</td>\n",
       "      <td>12.0</td>\n",
       "      <td>24.7</td>\n",
       "      <td>6.5</td>\n",
       "      <td>16.9</td>\n",
       "      <td>11.132143</td>\n",
       "      <td>9.0</td>\n",
       "      <td>15.0</td>\n",
       "      <td>...</td>\n",
       "      <td>514.545455</td>\n",
       "      <td>1.290909</td>\n",
       "      <td>1.072727</td>\n",
       "      <td>12.50</td>\n",
       "      <td>0.892857</td>\n",
       "      <td>12.0</td>\n",
       "      <td>0.0</td>\n",
       "      <td>0.327273</td>\n",
       "      <td>47.0</td>\n",
       "      <td>Хозяйства всех категорий</td>\n",
       "    </tr>\n",
       "    <tr>\n",
       "      <th>52626</th>\n",
       "      <td>11.1</td>\n",
       "      <td>23.0</td>\n",
       "      <td>16.746429</td>\n",
       "      <td>10.4</td>\n",
       "      <td>23.9</td>\n",
       "      <td>6.1</td>\n",
       "      <td>13.6</td>\n",
       "      <td>10.348214</td>\n",
       "      <td>10.0</td>\n",
       "      <td>15.0</td>\n",
       "      <td>...</td>\n",
       "      <td>1363.392857</td>\n",
       "      <td>3.696429</td>\n",
       "      <td>1.000000</td>\n",
       "      <td>0.75</td>\n",
       "      <td>0.053571</td>\n",
       "      <td>12.0</td>\n",
       "      <td>0.0</td>\n",
       "      <td>0.160714</td>\n",
       "      <td>45.0</td>\n",
       "      <td>Хозяйства всех категорий</td>\n",
       "    </tr>\n",
       "    <tr>\n",
       "      <th>52629</th>\n",
       "      <td>13.8</td>\n",
       "      <td>32.6</td>\n",
       "      <td>23.867857</td>\n",
       "      <td>13.6</td>\n",
       "      <td>33.0</td>\n",
       "      <td>8.0</td>\n",
       "      <td>19.3</td>\n",
       "      <td>13.233929</td>\n",
       "      <td>12.0</td>\n",
       "      <td>18.0</td>\n",
       "      <td>...</td>\n",
       "      <td>1102.678571</td>\n",
       "      <td>4.035714</td>\n",
       "      <td>1.000000</td>\n",
       "      <td>8.45</td>\n",
       "      <td>0.603571</td>\n",
       "      <td>12.0</td>\n",
       "      <td>0.0</td>\n",
       "      <td>0.928571</td>\n",
       "      <td>47.0</td>\n",
       "      <td>Хозяйства всех категорий</td>\n",
       "    </tr>\n",
       "  </tbody>\n",
       "</table>\n",
       "<p>5 rows × 1037 columns</p>\n",
       "</div>"
      ],
      "text/plain": [
       "       w1_min_air_temp  w1_max_air_temp  w1_avg_air_temp  w1_min_temp  \\\n",
       "52623             15.1             32.3        23.708929         14.4   \n",
       "52624             13.8             32.6        23.867857         13.6   \n",
       "52625             12.4             23.5        18.126786         12.0   \n",
       "52626             11.1             23.0        16.746429         10.4   \n",
       "52629             13.8             32.6        23.867857         13.6   \n",
       "\n",
       "       w1_max_temp  w1_min_dew_point_temp  w1_max_dew_point_temp  \\\n",
       "52623         33.4                    8.1                   19.2   \n",
       "52624         33.0                    8.0                   19.3   \n",
       "52625         24.7                    6.5                   16.9   \n",
       "52626         23.9                    6.1                   13.6   \n",
       "52629         33.0                    8.0                   19.3   \n",
       "\n",
       "       w1_avg_dew_point_temp  w1_min_ground_temp  w1_max_ground_temp  ...  \\\n",
       "52623              12.708929                11.0                19.0  ...   \n",
       "52624              13.233929                12.0                18.0  ...   \n",
       "52625              11.132143                 9.0                15.0  ...   \n",
       "52626              10.348214                10.0                15.0  ...   \n",
       "52629              13.233929                12.0                18.0  ...   \n",
       "\n",
       "       w22_avg_height_clouds  w22_avg_cm_clouds  w22_avg_ch_clouds  \\\n",
       "52623             803.571429           1.339286           1.089286   \n",
       "52624            1102.678571           4.035714           1.000000   \n",
       "52625             514.545455           1.290909           1.072727   \n",
       "52626            1363.392857           3.696429           1.000000   \n",
       "52629            1102.678571           4.035714           1.000000   \n",
       "\n",
       "       w22_sum_precipitation  w22_avg_precipitation  \\\n",
       "52623                   9.45               0.726923   \n",
       "52624                   8.45               0.603571   \n",
       "52625                  12.50               0.892857   \n",
       "52626                   0.75               0.053571   \n",
       "52629                   8.45               0.603571   \n",
       "\n",
       "       w22_avg_precipitation_time  w22_avg_soil_surface  \\\n",
       "52623                        12.0                   0.0   \n",
       "52624                        12.0                   0.0   \n",
       "52625                        12.0                   0.0   \n",
       "52626                        12.0                   0.0   \n",
       "52629                        12.0                   0.0   \n",
       "\n",
       "       w22_avg_soil_surface_withsnow  week_end                  category  \n",
       "52623                       1.035714      47.0                       СХО  \n",
       "52624                       0.928571      47.0                       СХО  \n",
       "52625                       0.327273      47.0  Хозяйства всех категорий  \n",
       "52626                       0.160714      45.0  Хозяйства всех категорий  \n",
       "52629                       0.928571      47.0  Хозяйства всех категорий  \n",
       "\n",
       "[5 rows x 1037 columns]"
      ]
     },
     "execution_count": 23,
     "metadata": {},
     "output_type": "execute_result"
    }
   ],
   "source": [
    "train.tail()"
   ]
  },
  {
   "cell_type": "code",
   "execution_count": 10,
   "id": "d58791f9",
   "metadata": {},
   "outputs": [],
   "source": [
    "#data.columns[-60:]"
   ]
  },
  {
   "cell_type": "code",
   "execution_count": null,
   "id": "19897bb4",
   "metadata": {},
   "outputs": [],
   "source": []
  }
 ],
 "metadata": {
  "kernelspec": {
   "display_name": "Python 3 (ipykernel)",
   "language": "python",
   "name": "python3"
  },
  "language_info": {
   "codemirror_mode": {
    "name": "ipython",
    "version": 3
   },
   "file_extension": ".py",
   "mimetype": "text/x-python",
   "name": "python",
   "nbconvert_exporter": "python",
   "pygments_lexer": "ipython3",
   "version": "3.8.13"
  }
 },
 "nbformat": 4,
 "nbformat_minor": 5
}
