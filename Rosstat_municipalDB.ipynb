{
 "cells": [
  {
   "cell_type": "markdown",
   "metadata": {},
   "source": [
    "# Web-скрапер для получения статистических данных по урожайности сельскохозяйственных культур по муниципальным районам"
   ]
  },
  {
   "cell_type": "markdown",
   "metadata": {},
   "source": [
    "### Описание задачи:\n",
    "Из размещенной на сайте Федеральной службы государственной статистики <a href=\"https://rosstat.gov.ru/storage/mediabank/Munst.htm\">«Базы данных показателей муниципальных образований»</a> получить информацию об урожайности сельскохозяйственных культур по муниципальным районам субъектов РФ. Для решения данной задачи предполагается реализация следующих шагов:<br>\n",
    "1. Создание web-скрапера для скачивания данных по урожайности сельскохозяйственных культур в муниципальных районах.<br>\n",
    "2. Скачивание файлов с данными по субъектам РФ.<br>\n",
    "3. Создание единой базы данных по урожайности в РФ."
   ]
  },
  {
   "cell_type": "markdown",
   "metadata": {},
   "source": [
    "#### Загрузка необходимых библиотек"
   ]
  },
  {
   "cell_type": "code",
   "execution_count": 1,
   "metadata": {},
   "outputs": [],
   "source": [
    "import pandas as pd\n",
    "import numpy as np\n",
    "import glob\n",
    "import requests\n",
    "from selenium import webdriver\n",
    "from bs4 import BeautifulSoup"
   ]
  },
  {
   "cell_type": "markdown",
   "metadata": {},
   "source": [
    "#### 1. Создание web-скрапера для скачивания данных по урожайности сельскохозяйственных культур в муниципальных районах"
   ]
  },
  {
   "cell_type": "code",
   "execution_count": 2,
   "metadata": {},
   "outputs": [],
   "source": [
    "def load_yield_data (wd, URL):\n",
    "    try:\n",
    "        # запускаем selenium, выставляем неявное ожидание и переходим на страничку с архивом\n",
    "        wd.implicitly_wait(15)\n",
    "        wd.get(URL)\n",
    "        # здесь и далее для указания нужных элементов страницы используются XPath \n",
    "        # выделить нужный элемент -> Посмотреть код -> Copy -> Copy XPath\n",
    "        \n",
    "        # ПОИСК ID вкладки \"Сельское хозяйство\"\n",
    "        page = requests.get(URL)\n",
    "        soup = BeautifulSoup(page.content, \"lxml\")\n",
    "        commodity = soup.find('td', {'id': 't8007025'}).parent.parent.parent\n",
    "        id_yields = str(commodity.get('id'))\n",
    "        id_agri = id_yields[:-1]\n",
    "        \n",
    "        ### ОТКРЫТИЕ ВКЛАДКИ\n",
    "        # открываем ссылку «Сельское хозяйство»\n",
    "        #agri = wd.find_element_by_xpath('/html/body/div[2]/table/tbody/tr[3]/td/div[2]/span[14]/a')\n",
    "        agri = wd.find_element_by_xpath('//*[@id=\"{}\"]'.format(id_agri))\n",
    "        agri_link_href = agri.get_attribute(\"href\")\n",
    "        agro = wd.get(agri_link_href)\n",
    "        # переходим по вкладке «Сельское хозяйство»\n",
    "        #agro = wd.find_element_by_xpath('/html/body/div[2]/table/tbody/tr[3]/td/div[2]/span[14]')\n",
    "        agro = wd.find_element_by_xpath('//*[@id=\"{}\"]'.format(id_agri))\n",
    "        agro.click()\n",
    "        # переходим по вкладке «Урожайность сельхозкультур»\n",
    "        #yields = wd.find_element_by_xpath('/html/body/div[2]/table/tbody/tr[3]/td/div[2]/div[14]/table[11]/tbody/tr/td[1]/span')\n",
    "        yields = wd.find_element_by_xpath('//*[@name=\"p8007025\"]')\n",
    "        yields.click()\n",
    "        # переходим в таблицу с даннымипо вкладке «Сельское хозяйство»\n",
    "        knopka = wd.find_element_by_xpath('//*[@id=\"Knopka\"]')\n",
    "        knopka.click()\n",
    "        \n",
    "        ### МАКЕТИРОВАНИЕ ТАБЛИЦЫ\n",
    "        # ручное макетирование таблицы\n",
    "        manual = wd.find_element_by_xpath('//*[@id=\"Manual\"]')\n",
    "        manual.click()\n",
    "        # сброс показателей таблицы\n",
    "        pokaz = wd.find_element_by_xpath('//*[@id=\"form2\"]/table/tbody/tr[1]/td[1]/table/tbody/tr[3]/td[3]/input')\n",
    "        pokaz.click()\n",
    "        vhozh = wd.find_element_by_xpath('//*[@id=\"form2\"]/table/tbody/tr[1]/td[1]/table/tbody/tr[4]/td[3]/input')\n",
    "        vhozh.click()\n",
    "        tip = wd.find_element_by_xpath('//*[@id=\"form2\"]/table/tbody/tr[1]/td[1]/table/tbody/tr[5]/td[3]/input')\n",
    "        tip.click()\n",
    "        municip = wd.find_element_by_xpath('//*[@id=\"form2\"]/table/tbody/tr[1]/td[1]/table/tbody/tr[6]/td[3]/input')\n",
    "        municip.click()\n",
    "        categ = wd.find_element_by_xpath('//*[@id=\"form2\"]/table/tbody/tr[1]/td[1]/table/tbody/tr[7]/td[3]/input')\n",
    "        categ.click()\n",
    "        cultur = wd.find_element_by_xpath('//*[@id=\"form2\"]/table/tbody/tr[1]/td[1]/table/tbody/tr[8]/td[3]/input')\n",
    "        cultur.click()\n",
    "        gody = wd.find_element_by_xpath('//*[@id=\"form2\"]/table/tbody/tr[1]/td[1]/table/tbody/tr[9]/td[3]/input')\n",
    "        gody.click()\n",
    "        period = wd.find_element_by_xpath('//*[@id=\"form2\"]/table/tbody/tr[1]/td[1]/table/tbody/tr[10]/td[3]/input')\n",
    "        period.click()\n",
    "        # формирование макета таблицы\n",
    "        # заголовок\n",
    "        pokaz = wd.find_element_by_xpath('//*[@id=\"form2\"]/table/tbody/tr[1]/td[1]/table/tbody/tr[3]/td[2]/input')\n",
    "        pokaz.click()\n",
    "        period = wd.find_element_by_xpath('//*[@id=\"form2\"]/table/tbody/tr[1]/td[1]/table/tbody/tr[10]/td[2]/input')\n",
    "        period.click()\n",
    "        categ = wd.find_element_by_xpath('//*[@id=\"form2\"]/table/tbody/tr[1]/td[1]/table/tbody/tr[7]/td[2]/input')\n",
    "        categ.click()\n",
    "        # боковик\n",
    "        vhozh = wd.find_element_by_xpath('//*[@id=\"form2\"]/table/tbody/tr[1]/td[1]/table/tbody/tr[4]/td[4]/input')\n",
    "        vhozh.click()\n",
    "        tip = wd.find_element_by_xpath('//*[@id=\"form2\"]/table/tbody/tr[1]/td[1]/table/tbody/tr[5]/td[4]/input')\n",
    "        tip.click()\n",
    "        municip = wd.find_element_by_xpath('//*[@id=\"form2\"]/table/tbody/tr[1]/td[1]/table/tbody/tr[6]/td[4]/input')\n",
    "        municip.click()\n",
    "        cultur = wd.find_element_by_xpath('//*[@id=\"form2\"]/table/tbody/tr[1]/td[1]/table/tbody/tr[8]/td[4]/input')\n",
    "        cultur.click()\n",
    "        \n",
    "        ### ВЫБОР ДАННЫХ\n",
    "        # Вхождение муниципального образования\n",
    "        vhozh = wd.find_element_by_xpath('/html/body/div[2]/div/font/center/table/tbody/tr[1]/td/form/table[3]/tbody/tr[2]/td/input')\n",
    "        vhozh.click()\n",
    "        # Тип поселения\n",
    "        tip = wd.find_element_by_xpath('/html/body/div[2]/div/font/center/table/tbody/tr[1]/td/form/table[4]/tbody/tr[2]/td/input')\n",
    "        tip.click()\n",
    "        # Муниципальное образование\n",
    "        municip = wd.find_element_by_xpath('/html/body/div[2]/div/font/center/table/tbody/tr[1]/td/form/table[5]/tbody/tr[2]/td/input')\n",
    "        municip.click()\n",
    "        # Категории хозяйств\n",
    "        # хозяйства всех категорий\n",
    "        #categ = wd.find_element_by_xpath('/html/body/div[2]/div/font/center/table/tbody/tr[1]/td/form/table[6]/tbody/tr[2]/td/select/option[1]')\n",
    "        # сельскохозяйственные организации\n",
    "        #categ = wd.find_element_by_xpath('/html/body/div[2]/div/font/center/table/tbody/tr[1]/td/form/table[6]/tbody/tr[2]/td/select/option[2]')\n",
    "        # КФХ\n",
    "        categ = wd.find_element_by_xpath('/html/body/div[2]/div/font/center/table/tbody/tr[1]/td/form/table[6]/tbody/tr[2]/td/select/option[4]')\n",
    "        categ.click()\n",
    "        # Сельскохозяйственные культуры\n",
    "        cultur = wd.find_element_by_xpath('/html/body/div[2]/div/font/center/table/tbody/tr[1]/td/form/table[7]/tbody/tr[2]/td/input')\n",
    "        cultur.click()\n",
    "        # Годы \n",
    "        gody = wd.find_element_by_xpath('/html/body/div[2]/div/font/center/table/tbody/tr[1]/td/form/table[8]/tbody/tr[2]/td[1]/input')\n",
    "        gody.click()\n",
    "        # Периоды\n",
    "        #period = wd.find_element_by_xpath('/html/body/div[2]/div/font/center/table/tbody/tr[1]/td/form/table[8]/tbody/tr[2]/td[2]/input')\n",
    "        #period.click()\n",
    "        categ = wd.find_element_by_xpath('/html/body/div[2]/div/font/center/table/tbody/tr[1]/td/form/table[6]/tbody/tr[2]/td/select/option[1]')\n",
    "        categ.click()\n",
    "                \n",
    "        ### ЗАГРУЗКА ТАБЛИЦЫ\n",
    "        tabl = wd.find_element_by_xpath('/html/body/div[2]/div/font/center/table/tbody/tr[2]/td[1]/form/table/tbody/tr/td/input[1]')\n",
    "        tabl.click()\n",
    "        \n",
    "        ### СКАЧИВАНИЕ ФАЙЛА\n",
    "        try:\n",
    "            # переход в активное окно\n",
    "            wd.switch_to.window(wd.window_handles[1])\n",
    "            # выбор формата (Excel)\n",
    "            #excel = wd.find_element_by_xpath('/html/body/div[2]/form/table/tbody/tr[1]/td[2]/select/option[2]')\n",
    "            #excel.click()\n",
    "            # выбор формата (CSV)\n",
    "            csv = wd.find_element_by_xpath('/html/body/div[2]/form/table/tbody/tr[1]/td[2]/select/option[3]')\n",
    "            csv.click()\n",
    "            # скачиваем файл\n",
    "            result = wd.find_element_by_xpath('/html/body/div[2]/form/table/tbody/tr[1]/td[3]/input')\n",
    "            result.click()\n",
    "            wd.switch_to.window(wd.window_handles[0])\n",
    "            txt = 'Файл загружен'\n",
    "        except:\n",
    "            txt = 'Файл не был загружен'\n",
    "    except:\n",
    "        txt = 'Архив отсутствует'\n",
    "    return URL, txt"
   ]
  },
  {
   "cell_type": "markdown",
   "metadata": {},
   "source": [
    "#### 2. Скачивание файлов с данными по субъектам РФ"
   ]
  },
  {
   "cell_type": "code",
   "execution_count": 5,
   "metadata": {},
   "outputs": [],
   "source": [
    "# Создание списка с ID регионов\n",
    "l = pd.read_excel(\"DATA/Rosstat_link_municipal.xlsx\", sheet_name='Лист1', header=[0])\n",
    "links_municipal = l['Link'].tolist()"
   ]
  },
  {
   "cell_type": "code",
   "execution_count": 6,
   "metadata": {},
   "outputs": [],
   "source": [
    "# список не загруженных страниц\n",
    "municipal_empty = l[(l['Результат'] != 'Файл загружен')]\n",
    "links_municipal = municipal_empty['Link'].tolist()"
   ]
  },
  {
   "cell_type": "code",
   "execution_count": 8,
   "metadata": {},
   "outputs": [],
   "source": [
    "# создание словаря\n",
    "dicts = []\n",
    "\n",
    "# для селениума нужен driver web-браузера, прописываем к нему путь\n",
    "DRIVER = 'C:/Users/uovorop/Downloads/EdgeDriver/msedgedriver.exe'\n",
    "#DRIVER = 'C:/Users/uovorop/Downloads/ChromeDriver/chromedriver.exe'\n",
    "\n",
    "# запуск драйвера для браузера\n",
    "wd = webdriver.Edge(DRIVER)\n",
    "#wd = webdriver.Chrome(DRIVER)"
   ]
  },
  {
   "cell_type": "code",
   "execution_count": 9,
   "metadata": {},
   "outputs": [],
   "source": [
    "for link in links_municipal:\n",
    "    dicts.append(load_yield_data(wd, link))"
   ]
  },
  {
   "cell_type": "code",
   "execution_count": null,
   "metadata": {},
   "outputs": [],
   "source": [
    "wd.close()"
   ]
  },
  {
   "cell_type": "markdown",
   "metadata": {},
   "source": [
    "#### 3. Создание единой базы данных по урожайности в РФ"
   ]
  },
  {
   "cell_type": "code",
   "execution_count": 48,
   "metadata": {},
   "outputs": [],
   "source": [
    "## Объединение файлов в единую базу данных по урожайности\n",
    "# Для формата файлов Excel\n",
    "all_data = []\n",
    "for f in glob.glob(\"DATA/Урожайность по МР_xls/*.xls\"):\n",
    "    try:\n",
    "        sample = pd.DataFrame(pd.read_excel(f, sheet_name='Первый лист', header=1))\n",
    "        sample['Region'] = str(f[18:-4])\n",
    "        all_data.append(sample)\n",
    "    except:\n",
    "        pass\n",
    "municip = pd.concat(all_data, ignore_index=True)\n",
    "municip = municip.rename(columns = {'Unnamed: 0':'Agriculture'}, inplace=False)"
   ]
  },
  {
   "cell_type": "code",
   "execution_count": 58,
   "metadata": {},
   "outputs": [],
   "source": [
    "## Объединение файлов в единую базу данных по урожайности\n",
    "# Для формата файлов CSV\n",
    "folder = [f[27:] for f in glob.glob(\"DATA/Урожайность по МР_csv/*\")]\n",
    "all_data = []\n",
    "for p in folder:\n",
    "    for f in glob.glob(\"DATA/Урожайность по МР_csv/{}/*.csv\".format(p)):\n",
    "        try:\n",
    "            sample = pd.DataFrame(pd.read_csv(f, sep=';', header=1, encoding = 'cp1251'))\n",
    "            sample['Region'] = str(f[31:-4])\n",
    "            sample['Category'] = str(p)\n",
    "            all_data.append(sample)\n",
    "        except:\n",
    "            pass\n",
    "municip = pd.concat(all_data, ignore_index=True)\n",
    "municip = municip.rename(columns = {'Unnamed: 0':'Agriculture'}, inplace=False)"
   ]
  },
  {
   "cell_type": "code",
   "execution_count": 60,
   "metadata": {},
   "outputs": [
    {
     "name": "stdout",
     "output_type": "stream",
     "text": [
      "<class 'pandas.core.frame.DataFrame'>\n",
      "RangeIndex: 196627 entries, 0 to 196626\n",
      "Data columns (total 31 columns):\n",
      " #   Column       Non-Null Count   Dtype  \n",
      "---  ------       --------------   -----  \n",
      " 0   Agriculture  184057 non-null  object \n",
      " 1   2007         35428 non-null   object \n",
      " 2   2008         44409 non-null   object \n",
      " 3   2009         45299 non-null   object \n",
      " 4   2010         46561 non-null   object \n",
      " 5   2011         50988 non-null   object \n",
      " 6   2012         93949 non-null   object \n",
      " 7   2013         98443 non-null   object \n",
      " 8   2014         102008 non-null  object \n",
      " 9   2015         99460 non-null   object \n",
      " 10  2016         101277 non-null  object \n",
      " 11  2017         97200 non-null   object \n",
      " 12  2018         99843 non-null   object \n",
      " 13  2019         97130 non-null   object \n",
      " 14  2020         99644 non-null   object \n",
      " 15  2021         88626 non-null   object \n",
      " 16  Unnamed: 16  0 non-null       float64\n",
      " 17  Region       196627 non-null  object \n",
      " 18  Category     196627 non-null  object \n",
      " 19  Unnamed: 10  0 non-null       float64\n",
      " 20  Unnamed: 11  0 non-null       float64\n",
      " 21  Unnamed: 14  0 non-null       float64\n",
      " 22  Unnamed: 15  0 non-null       float64\n",
      " 23  Unnamed: 12  0 non-null       float64\n",
      " 24  Unnamed: 7   0 non-null       float64\n",
      " 25  Unnamed: 6   0 non-null       float64\n",
      " 26  Unnamed: 9   0 non-null       float64\n",
      " 27  Unnamed: 4   0 non-null       float64\n",
      " 28  Unnamed: 13  0 non-null       float64\n",
      " 29  Unnamed: 5   0 non-null       float64\n",
      " 30  Unnamed: 3   0 non-null       float64\n",
      "dtypes: float64(13), object(18)\n",
      "memory usage: 46.5+ MB\n"
     ]
    }
   ],
   "source": [
    "## Просмотр общего дата-фрейма\n",
    "municip.info()"
   ]
  },
  {
   "cell_type": "code",
   "execution_count": 61,
   "metadata": {},
   "outputs": [],
   "source": [
    "## Сохранение единой базы данных по урожайности в РФ в excel-файл\n",
    "file1 = pd.DataFrame(municip).to_excel('Урожайность по МР.xlsx', index=False)"
   ]
  },
  {
   "cell_type": "code",
   "execution_count": null,
   "metadata": {},
   "outputs": [],
   "source": []
  }
 ],
 "metadata": {
  "kernelspec": {
   "display_name": "Python 3 (ipykernel)",
   "language": "python",
   "name": "python3"
  },
  "language_info": {
   "codemirror_mode": {
    "name": "ipython",
    "version": 3
   },
   "file_extension": ".py",
   "mimetype": "text/x-python",
   "name": "python",
   "nbconvert_exporter": "python",
   "pygments_lexer": "ipython3",
   "version": "3.8.5"
  }
 },
 "nbformat": 4,
 "nbformat_minor": 4
}
