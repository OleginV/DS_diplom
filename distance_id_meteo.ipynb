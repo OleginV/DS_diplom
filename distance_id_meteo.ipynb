{
 "cells": [
  {
   "cell_type": "markdown",
   "metadata": {},
   "source": [
    "### Расчет минимального расстояния между муниципальными районами и метостанциями"
   ]
  },
  {
   "cell_type": "markdown",
   "metadata": {},
   "source": [
    "**Цели и задачи:**<br>\n",
    "1. Найти метеостанцию с ближайшим расстоянием к населенному пункту. На основе имеющихся гео-координат метеостанций и населенных пунктов, входящих в муниципальные районы, рассчитать минимальное расстояние между ними (используя формулу гаверсинуса).<br>\n",
    "2. К набору данных с населенными пунктами добавить id ближайшей метеостанции и сохранить данные в файл \"_**settle_ID.csv**_\"."
   ]
  },
  {
   "cell_type": "markdown",
   "metadata": {},
   "source": [
    "#### Загрузка необходимых библиотек"
   ]
  },
  {
   "cell_type": "code",
   "execution_count": 1,
   "metadata": {},
   "outputs": [],
   "source": [
    "from math import radians, cos, sin, asin, sqrt\n",
    "import pandas as pd\n",
    "import numpy as np\n",
    "import os\n",
    "import glob\n",
    "import json\n",
    "import io"
   ]
  },
  {
   "cell_type": "code",
   "execution_count": 2,
   "metadata": {},
   "outputs": [],
   "source": [
    "### Формула гаверсинуса, вычисляет расстояние по большой окружности между двумя точками на Земле\n",
    "def harvesine (lat1, lon1, lat2, lon2):\n",
    "    # преобразование градусов в радианы\n",
    "    lat1, lon1, lat2, lon2 = map(radians, [lat1, lon1, lat2, lon2])\n",
    "    # формула гаверсинуса\n",
    "    dlon = lon2 - lon1\n",
    "    dlat = lat2 - lat1\n",
    "    a = sin(dlat/2)**2 + sin(dlon/2)**2 * cos(lat1) * cos(lat2)\n",
    "    c = 2 * asin(sqrt(a))\n",
    "    r = 6371 # разиус планеты Земля в километрах. Используется значение 3956 миль.\n",
    "    return c*r "
   ]
  },
  {
   "cell_type": "code",
   "execution_count": 3,
   "metadata": {},
   "outputs": [],
   "source": [
    "### Формула для определения метеостанции с минимальным расстоянием\n",
    "def min_dist(id_dicts, lt1, ln1):\n",
    "    # создание пустого словаря\n",
    "    dicto = {}\n",
    "    # расчет расстяния между населенными пунктами и метеостанциями из словаря\n",
    "    for i in id_dicts:\n",
    "        dicto[i] = harvesine (float(lt1), float(ln1), float(id_dicts[i][0]), float(id_dicts[i][1]))\n",
    "    # найти ключ с наименьшим значением\n",
    "    best_key = min(dicto, key=dicto.get)\n",
    "    return best_key"
   ]
  },
  {
   "cell_type": "code",
   "execution_count": 4,
   "metadata": {},
   "outputs": [],
   "source": [
    "# Чтение данных из файла с информацией о метеостанциях\n",
    "path = \"INPUT/Meteo_link_full.zip\"\n",
    "meteo = pd.read_csv(path, compression='zip', sep=';', header=0, quotechar='\"')\n",
    "meteo = meteo.drop(['Link'], axis=1)\n",
    "meteo['Latitude'] = meteo['Latitude'].str.replace(\",\", \".\")\n",
    "meteo['Longitude'] = meteo['Longitude'].str.replace(\",\", \".\")\n",
    "dicts= meteo.set_index('ID').T.to_dict('list')"
   ]
  },
  {
   "cell_type": "code",
   "execution_count": 5,
   "metadata": {},
   "outputs": [],
   "source": [
    "# Чтение данных из файла с информацией о населенных пунктах\n",
    "path = \"INPUT/settl_converter.zip\"\n",
    "settl = pd.read_csv(path, compression='zip', sep=';', header=0, quotechar='\"')"
   ]
  },
  {
   "cell_type": "code",
   "execution_count": 6,
   "metadata": {
    "scrolled": true
   },
   "outputs": [],
   "source": [
    "# Добавление id ближайшей метеостанции\n",
    "settl['ID'] = settl.apply(lambda row: min_dist(dicts, row.latitude_dd, row.longitude_dd), axis=1)"
   ]
  },
  {
   "cell_type": "code",
   "execution_count": 7,
   "metadata": {},
   "outputs": [],
   "source": [
    "file = settl.to_csv(\"INPUT/settle_ID.csv.gz\", sep=';', index=False, compression=\"gzip\")"
   ]
  },
  {
   "cell_type": "code",
   "execution_count": null,
   "metadata": {},
   "outputs": [],
   "source": []
  }
 ],
 "metadata": {
  "kernelspec": {
   "display_name": "Python 3 (ipykernel)",
   "language": "python",
   "name": "python3"
  },
  "language_info": {
   "codemirror_mode": {
    "name": "ipython",
    "version": 3
   },
   "file_extension": ".py",
   "mimetype": "text/x-python",
   "name": "python",
   "nbconvert_exporter": "python",
   "pygments_lexer": "ipython3",
   "version": "3.8.13"
  }
 },
 "nbformat": 4,
 "nbformat_minor": 4
}
