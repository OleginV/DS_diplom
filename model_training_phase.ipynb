{
 "cells": [
  {
   "cell_type": "markdown",
   "id": "33589344",
   "metadata": {},
   "source": [
    "# Селекция и обучение предиктивных моделей"
   ]
  },
  {
   "cell_type": "markdown",
   "id": "a3015e70",
   "metadata": {},
   "source": [
    "**Цели и задачи:**<br>\n",
    "1. Создать датасеты для обучения и тестирования моделей:<br>\n",
    "- создать и протестировать датасеты с разным набором переменных (большой - \"phase\" и сокращенный - \"total\").<br>\n",
    "2. Провести селекцию моделей с целью выбора наиболее эффективной.<br>\n",
    "3. Обучить и протестировать модель для прогнозирования урожайности:<br>\n",
    "- обучение модели на общих данных (по всем регионам) и на данных по отдельным регионам.<br>"
   ]
  },
  {
   "cell_type": "markdown",
   "id": "5033a0bf",
   "metadata": {},
   "source": [
    "## Загрузка необходимых библиотек"
   ]
  },
  {
   "cell_type": "code",
   "execution_count": 1,
   "id": "c570b398",
   "metadata": {},
   "outputs": [
    {
     "name": "stderr",
     "output_type": "stream",
     "text": [
      "C:\\Users\\uovorop\\Anaconda3\\lib\\site-packages\\xgboost\\compat.py:31: FutureWarning: pandas.Int64Index is deprecated and will be removed from pandas in a future version. Use pandas.Index with the appropriate dtype instead.\n",
      "  from pandas import MultiIndex, Int64Index\n"
     ]
    }
   ],
   "source": [
    "## Загрузка необходимых библиотек\n",
    "import pandas as pd\n",
    "import numpy as np\n",
    "import matplotlib.pyplot as plt\n",
    "%matplotlib inline\n",
    "\n",
    "from catboost import CatBoostRegressor, Pool, cv\n",
    "import xgboost as xgb\n",
    "\n",
    "from sklearn.linear_model import LinearRegression\n",
    "from sklearn.metrics import r2_score, mean_squared_error\n",
    "from sklearn.model_selection import train_test_split, cross_validate, GridSearchCV\n",
    "from sklearn.preprocessing import LabelEncoder, StandardScaler"
   ]
  },
  {
   "cell_type": "markdown",
   "id": "ed59c0b8",
   "metadata": {},
   "source": [
    "## 1. Подготовка датасета для обучения и тестирования"
   ]
  },
  {
   "cell_type": "markdown",
   "id": "579c4993",
   "metadata": {},
   "source": [
    "### 1.1 Датасет типа \"total\""
   ]
  },
  {
   "cell_type": "markdown",
   "id": "f66671dd",
   "metadata": {},
   "source": [
    "**Комментарий:**<br>\n",
    "С цель сокращения использования вычислительных ресурсов, оптимизации при построении моделей и улучшения их интерретации, предлагается использовать датасет с сокращенным количеством переменных (датасет типа \"total\" - 45 переменных). С этой целью предлагается обучать модели только на переменных имеющих агрегацию значений по всему сезону (см. набор данных \"_total_data_\" из ноутбука \"_**preparation_mldata_4phase.ipynb**_\")."
   ]
  },
  {
   "cell_type": "code",
   "execution_count": 2,
   "id": "3ea7fb3c",
   "metadata": {},
   "outputs": [],
   "source": [
    "## Чтение данных из файла\n",
    "weather = pd.read_csv('DATA/weather_data_total4.csv.gz', compression='gzip', header=0, sep=';'\n",
    "                      , quotechar='\"')\n",
    "municip = pd.read_csv('INPUT/id_муниципалитета.csv.zip', compression='zip', header=0, sep=';'\n",
    "                      , dtype={'digit_id': 'object'}, quotechar='\"')\n",
    "settl = pd.read_csv('DATA/Settlement_Id.zip', compression='zip', header=0, sep=';'\n",
    "                    , dtype={'digit_id': 'object'}, quotechar='\"')\n",
    "target = pd.read_csv('INPUT/target.csv.zip', compression='zip', header=0, sep=';', decimal=','\n",
    "                     , dtype={'digit_id': 'object'}, quotechar='\"')\n",
    "diff_trend = pd.read_csv('DATA/data_ssa.csv.gz', compression='gzip', header=0, sep=';'\n",
    "                         , dtype={'yield_code': 'object'}, quotechar='\"')"
   ]
  },
  {
   "cell_type": "code",
   "execution_count": 3,
   "id": "fc935a50",
   "metadata": {},
   "outputs": [],
   "source": [
    "## Добавление id метеостанций к фрейму с целевой переменной\n",
    "# добавление данных по урожайности и накопленного тренда урожайности\n",
    "target = target.loc[~target['check'].isin([0])]\n",
    "target['triplet'] = target['digit_id'].astype(str).str[:3]\n",
    "target['solo'] = target['digit_id'].astype(str).str[0]+'00'\n",
    "diff_trend = diff_trend.loc[pd.notnull(diff_trend['diff_cumulative']), ['year', 'yield_code', 'diff_cumulative']]\n",
    "# создание массива по урожайности\n",
    "target = pd.merge(target, diff_trend, how='left', left_on=['year', 'triplet'], right_on=['year', 'yield_code'])\n",
    "target = pd.merge(target, diff_trend, how='left', left_on=['year', 'solo'], right_on=['year', 'yield_code'])\n",
    "\n",
    "# очистка урожайности от тренда\n",
    "target['trendless'] = np.nan\n",
    "target.loc[pd.isnull(target['trendless']), 'trendless'] = target.loc[pd.isnull(target['trendless']), 'yield'] - target.loc[pd.isnull(target['trendless']), 'diff_cumulative_x']\n",
    "target.loc[pd.isnull(target['trendless']), 'trendless'] = target.loc[pd.isnull(target['trendless']), 'yield'] - target.loc[pd.isnull(target['trendless']), 'diff_cumulative_y']\n",
    "target.dropna(subset=['trendless'], inplace=True)\n",
    "target = target[['digit_id', 'year', 'federal_distr', 'region', 'category', 'trendless']]\n",
    "\n",
    "# добавление данных по метеостанциям\n",
    "meteo = settl[['digit_id', 'meteoid']].drop_duplicates()\n",
    "target = pd.merge(target, meteo, how='left', on=['digit_id'])\n",
    "\n",
    "# добавление данных с идентификаторами муниципалитетов\n",
    "target = pd.merge(target, municip[['digit_id', 'id_municip']], how='left', on=['digit_id'])\n",
    "target.drop_duplicates(keep='first', inplace=True, ignore_index=True) # удаление дубликатов"
   ]
  },
  {
   "cell_type": "code",
   "execution_count": 4,
   "id": "2e80bfd0",
   "metadata": {},
   "outputs": [],
   "source": [
    "## Средние значения показателей для заполнения значений Nan\n",
    "geolocation = settl.groupby(['digit_id']).agg(\n",
    "    north_border = pd.NamedAgg(column = 'latitude', aggfunc = 'max'),\n",
    "    south_border = pd.NamedAgg(column = 'latitude', aggfunc = 'min'),\n",
    "    east_border = pd.NamedAgg(column = 'longitude', aggfunc = 'max'),\n",
    "    west_border = pd.NamedAgg(column = 'longitude', aggfunc = 'min'),\n",
    "    central_lat = pd.NamedAgg(column = 'latitude', aggfunc = 'mean'),\n",
    "    central_lon = pd.NamedAgg(column = 'longitude', aggfunc = 'mean'),\n",
    "    settl_count = pd.NamedAgg(column = 'settlement', aggfunc = 'count')\n",
    ")\n",
    "geolocation.reset_index(inplace=True) # перевод индексов группировки в столбцы\n",
    "target = pd.merge(target, geolocation, how='left', on=['digit_id'])"
   ]
  },
  {
   "cell_type": "code",
   "execution_count": 5,
   "id": "c5984e1d",
   "metadata": {},
   "outputs": [],
   "source": [
    "## Создание учебного датафрейма\n",
    "target['rotation'] = target['year']%4 # добавление фичи по севообороту\n",
    "target.drop(columns=['digit_id'], inplace=True)\n",
    "data = pd.merge(weather, target, how='right', on=['year', 'meteoid'])\n",
    "data.drop_duplicates(keep='first', inplace=True, ignore_index=True)\n",
    "data.dropna(axis=0, how='any', inplace=True)\n",
    "#data['region_id'] = data['region_id'].astype(int)\n",
    "data.rename(columns={\"trendless\": \"target\"}, inplace=True)"
   ]
  },
  {
   "cell_type": "code",
   "execution_count": 6,
   "id": "92e827f6",
   "metadata": {},
   "outputs": [],
   "source": [
    "## Список неинформативных столбцов\n",
    "antitop = [\n",
    "    'min_baric_tendency',\n",
    "    'min_u_humidity',\n",
    "    'max_baric_tendency',\n",
    "    'max_wind_speed',\n",
    "    'max_wind_gust_between',\n",
    "    'diff_cloudiness',\n",
    "    'max_height_clouds',\n",
    "    'diff_height_clouds',\n",
    "    'min_cloudiness',\n",
    "    'min_height_clouds',\n",
    "    'min_wind_speed'\n",
    "]"
   ]
  },
  {
   "cell_type": "code",
   "execution_count": 7,
   "id": "a60d380f",
   "metadata": {},
   "outputs": [],
   "source": [
    "## Удаление неинформативных столбцов из датафрейма total (для датафрейма \"weather_data_total4.csv.gz\")\n",
    "# создание списка неинформативных столбцов\n",
    "drop_col_tot = []\n",
    "\n",
    "for items in antitop:\n",
    "    c = 'total_{}'.format(items)\n",
    "    drop_col_tot.append(c)\n",
    "\n",
    "data.drop(columns=drop_col_tot, inplace=True)"
   ]
  },
  {
   "cell_type": "code",
   "execution_count": 8,
   "id": "e29e39b7",
   "metadata": {},
   "outputs": [],
   "source": [
    "data = data.loc[(data['category'] !='КФХ')]\n",
    "## Преобразование категориальных переменных признака \"category\" в числовые значения\n",
    "le = LabelEncoder() # метод преобразования категориальных признаков\n",
    "# преобразование в числовые значения\n",
    "data['category'] = le.fit_transform(data['category'])\n",
    "data['federal_distr'] = le.fit_transform(data['federal_distr'])\n",
    "data['region'] = le.fit_transform(data['region'])"
   ]
  },
  {
   "cell_type": "code",
   "execution_count": 9,
   "id": "94350649",
   "metadata": {},
   "outputs": [],
   "source": [
    "## Удаление лишних данных\n",
    "del settl\n",
    "del meteo\n",
    "del weather\n",
    "del municip"
   ]
  },
  {
   "cell_type": "code",
   "execution_count": 10,
   "id": "6e653132",
   "metadata": {},
   "outputs": [
    {
     "name": "stdout",
     "output_type": "stream",
     "text": [
      "<class 'pandas.core.frame.DataFrame'>\n",
      "Int64Index: 31248 entries, 13361 to 48067\n",
      "Data columns (total 45 columns):\n",
      " #   Column                        Non-Null Count  Dtype  \n",
      "---  ------                        --------------  -----  \n",
      " 0   year                          31248 non-null  float64\n",
      " 1   meteoid                       31248 non-null  int64  \n",
      " 2   total_min_air_temp            31248 non-null  float64\n",
      " 3   total_min_ground_temp         31248 non-null  float64\n",
      " 4   total_min_po_press            31248 non-null  float64\n",
      " 5   total_max_air_temp            31248 non-null  float64\n",
      " 6   total_max_po_press            31248 non-null  float64\n",
      " 7   total_max_u_humidity          31248 non-null  float64\n",
      " 8   total_max_cloudiness          31248 non-null  float64\n",
      " 9   total_avg_air_temp            31248 non-null  float64\n",
      " 10  total_avg_po_press            31248 non-null  float64\n",
      " 11  total_avg_baric_tendency      31248 non-null  float64\n",
      " 12  total_wind_rumb_radians       31248 non-null  float64\n",
      " 13  total_avg_u_humidity          31248 non-null  float64\n",
      " 14  total_avg_wind_speed          31248 non-null  float64\n",
      " 15  total_avg_cloudiness          31248 non-null  float64\n",
      " 16  total_avg_nh_clouds           31248 non-null  float64\n",
      " 17  total_avg_height_clouds       31248 non-null  float64\n",
      " 18  total_avg_precipitation       31248 non-null  float64\n",
      " 19  total_avg_soil_surface        31248 non-null  float64\n",
      " 20  total_avg_all_clouds          31248 non-null  float64\n",
      " 21  total_sum_air_temp            31248 non-null  float64\n",
      " 22  total_sum_wind_speed          31248 non-null  float64\n",
      " 23  total_sum_precipitation       31248 non-null  float64\n",
      " 24  total_sum_precipitation_time  31248 non-null  float64\n",
      " 25  total_GTK                     31248 non-null  float64\n",
      " 26  total_precipitation_speed     31248 non-null  float64\n",
      " 27  total_dry_wind                31248 non-null  float64\n",
      " 28  total_diff_air_temp           31248 non-null  float64\n",
      " 29  total_diff_po_press           31248 non-null  float64\n",
      " 30  total_diff_baric_tendency     31248 non-null  float64\n",
      " 31  total_diff_u_humidity         31248 non-null  float64\n",
      " 32  federal_distr                 31248 non-null  int32  \n",
      " 33  region                        31248 non-null  int32  \n",
      " 34  category                      31248 non-null  int32  \n",
      " 35  target                        31248 non-null  float64\n",
      " 36  id_municip                    31248 non-null  int64  \n",
      " 37  north_border                  31248 non-null  float64\n",
      " 38  south_border                  31248 non-null  float64\n",
      " 39  east_border                   31248 non-null  float64\n",
      " 40  west_border                   31248 non-null  float64\n",
      " 41  central_lat                   31248 non-null  float64\n",
      " 42  central_lon                   31248 non-null  float64\n",
      " 43  settl_count                   31248 non-null  int64  \n",
      " 44  rotation                      31248 non-null  int64  \n",
      "dtypes: float64(38), int32(3), int64(4)\n",
      "memory usage: 10.6 MB\n"
     ]
    }
   ],
   "source": [
    "data.info()"
   ]
  },
  {
   "cell_type": "code",
   "execution_count": 11,
   "id": "456ad12c",
   "metadata": {},
   "outputs": [],
   "source": [
    "## Формирование датасета и вектора целевой переменной\n",
    "train_data = data.copy()\n",
    "train_label = data['target']\n",
    "\n",
    "# удаление лишних столбцов\n",
    "train_data = train_data.drop(columns=['year', 'meteoid', 'target'])"
   ]
  },
  {
   "cell_type": "code",
   "execution_count": 12,
   "id": "44568402",
   "metadata": {},
   "outputs": [],
   "source": [
    "# разделение выборки на обучающую и тестовую (80/20) \n",
    "X_train, X_test, y_train, y_test = train_test_split(train_data, train_label, test_size=0.25, random_state=42) "
   ]
  },
  {
   "cell_type": "code",
   "execution_count": 14,
   "id": "02422134",
   "metadata": {},
   "outputs": [],
   "source": [
    "# Тренировочный и тестовый датасет для модели CatBoost (для типа \"total\")\n",
    "category = ['category', 'federal_distr', 'region', 'rotation']\n",
    "\n",
    "train_data = Pool(data=X_train,\n",
    "                  label= y_train,\n",
    "                  cat_features=category)\n",
    "\n",
    "test_data = Pool(data=X_test,\n",
    "                 cat_features=category)\n",
    "\n",
    "eval_data = Pool(data=X_test,\n",
    "                 label=y_test,\n",
    "                 cat_features=category)"
   ]
  },
  {
   "cell_type": "markdown",
   "id": "a51b0ec6",
   "metadata": {},
   "source": [
    "### 1.2 Датасет типа \"phase\""
   ]
  },
  {
   "cell_type": "markdown",
   "id": "9c306010",
   "metadata": {},
   "source": [
    "**Комментарий:**<br>\n",
    "Датасет с полным набором переменных (датасет типа \"phase\" - 165 переменных). Модель обучается на переменных имеющих агрегацию значений по фазам (4 фазы) и по всему сезону (см. набор данных \"_weather_\" из ноутбука \"_**preparation_mldata_4phase.ipynb**_\")."
   ]
  },
  {
   "cell_type": "code",
   "execution_count": 15,
   "id": "6005ae23",
   "metadata": {},
   "outputs": [],
   "source": [
    "## Чтение данных из файла\n",
    "weather_ph = pd.read_csv('DATA/weather_data_phase4.csv.gz', compression='gzip', header=0, sep=';'\n",
    "                      , quotechar='\"')\n",
    "municip_ph = pd.read_csv('INPUT/id_муниципалитета.csv.zip', compression='zip', header=0, sep=';'\n",
    "                      , dtype={'digit_id': 'object'}, quotechar='\"')\n",
    "settl_ph = pd.read_csv('DATA/Settlement_Id.zip', compression='zip', header=0, sep=';'\n",
    "                    , dtype={'digit_id': 'object'}, quotechar='\"')\n",
    "target_ph = pd.read_csv('INPUT/target.csv.zip', compression='zip', header=0, sep=';', decimal=','\n",
    "                     , dtype={'digit_id': 'object'}, quotechar='\"')\n",
    "diff_trend_ph = pd.read_csv('DATA/data_ssa.csv.gz', compression='gzip', header=0, sep=';'\n",
    "                         , dtype={'yield_code': 'object'}, quotechar='\"')"
   ]
  },
  {
   "cell_type": "code",
   "execution_count": 16,
   "id": "10853af8",
   "metadata": {},
   "outputs": [],
   "source": [
    "## Добавление id метеостанций к фрейму с целевой переменной\n",
    "# добавление данных по урожайности и накопленного тренда урожайности\n",
    "target_ph = target_ph.loc[~target_ph['check'].isin([0])]\n",
    "target_ph['triplet'] = target_ph['digit_id'].astype(str).str[:3]\n",
    "target_ph['solo'] = target_ph['digit_id'].astype(str).str[0]+'00'\n",
    "diff_trend_ph = diff_trend_ph.loc[pd.notnull(diff_trend_ph['diff_cumulative']), ['year', 'yield_code', 'diff_cumulative']]\n",
    "# создание массива по урожайности\n",
    "target_ph = pd.merge(target_ph, diff_trend_ph, how='left', left_on=['year', 'triplet'], right_on=['year', 'yield_code'])\n",
    "target_ph = pd.merge(target_ph, diff_trend_ph, how='left', left_on=['year', 'solo'], right_on=['year', 'yield_code'])\n",
    "\n",
    "# очистка урожайности от тренда\n",
    "target_ph['trendless'] = np.nan\n",
    "target_ph.loc[pd.isnull(target_ph['trendless']), 'trendless'] = target_ph.loc[pd.isnull(target_ph['trendless']), 'yield'] - target_ph.loc[pd.isnull(target_ph['trendless']), 'diff_cumulative_x']\n",
    "target_ph.loc[pd.isnull(target_ph['trendless']), 'trendless'] = target_ph.loc[pd.isnull(target_ph['trendless']), 'yield'] - target_ph.loc[pd.isnull(target_ph['trendless']), 'diff_cumulative_y']\n",
    "target_ph.dropna(subset=['trendless'], inplace=True)\n",
    "target_ph = target_ph[['digit_id', 'year', 'federal_distr', 'region', 'category', 'trendless']]\n",
    "\n",
    "# добавление данных по метеостанциям\n",
    "meteo_ph = settl_ph[['digit_id', 'meteoid']].drop_duplicates()\n",
    "target_ph = pd.merge(target_ph, meteo_ph, how='left', on=['digit_id'])\n",
    "\n",
    "# добавление данных с идентификаторами муниципалитетов\n",
    "target_ph = pd.merge(target_ph, municip_ph[['digit_id', 'id_municip']], how='left', on=['digit_id'])\n",
    "target_ph.drop_duplicates(keep='first', inplace=True, ignore_index=True) # удаление дубликатов"
   ]
  },
  {
   "cell_type": "code",
   "execution_count": 17,
   "id": "5e984fa9",
   "metadata": {},
   "outputs": [],
   "source": [
    "## Средние значения показателей для заполнения значений Nan\n",
    "geolocation_ph = settl_ph.groupby(['digit_id']).agg(\n",
    "    north_border = pd.NamedAgg(column = 'latitude', aggfunc = 'max'),\n",
    "    south_border = pd.NamedAgg(column = 'latitude', aggfunc = 'min'),\n",
    "    east_border = pd.NamedAgg(column = 'longitude', aggfunc = 'max'),\n",
    "    west_border = pd.NamedAgg(column = 'longitude', aggfunc = 'min'),\n",
    "    central_lat = pd.NamedAgg(column = 'latitude', aggfunc = 'mean'),\n",
    "    central_lon = pd.NamedAgg(column = 'longitude', aggfunc = 'mean'),\n",
    "    settl_count = pd.NamedAgg(column = 'settlement', aggfunc = 'count')\n",
    ")\n",
    "geolocation_ph.reset_index(inplace=True) # перевод индексов группировки в столбцы\n",
    "target_ph = pd.merge(target_ph, geolocation_ph, how='left', on=['digit_id'])"
   ]
  },
  {
   "cell_type": "code",
   "execution_count": 18,
   "id": "5474b4e3",
   "metadata": {},
   "outputs": [],
   "source": [
    "## Создание учебного датафрейма\n",
    "target_ph['rotation'] = target_ph['year']%4 # добавление фичи по севообороту\n",
    "target_ph.drop(columns=['digit_id'], inplace=True)\n",
    "data_ph = pd.merge(weather_ph, target_ph, how='right', on=['year', 'meteoid'])\n",
    "data_ph.drop_duplicates(keep='first', inplace=True, ignore_index=True)\n",
    "data_ph.dropna(axis=0, how='any', inplace=True)\n",
    "data_ph.rename(columns={\"trendless\": \"target\"}, inplace=True)"
   ]
  },
  {
   "cell_type": "code",
   "execution_count": 19,
   "id": "7539032e",
   "metadata": {},
   "outputs": [],
   "source": [
    "## Список неинформативных столбцов\n",
    "antitop_ph = [\n",
    "    'min_baric_tendency',\n",
    "    'min_u_humidity',\n",
    "    'max_baric_tendency',\n",
    "    'max_wind_speed',\n",
    "    'max_wind_gust_between',\n",
    "    'diff_cloudiness',\n",
    "    'max_height_clouds',\n",
    "    'diff_height_clouds',\n",
    "    'min_cloudiness',\n",
    "    'min_height_clouds',\n",
    "    'min_wind_speed'\n",
    "]"
   ]
  },
  {
   "cell_type": "code",
   "execution_count": 20,
   "id": "3afc1d97",
   "metadata": {},
   "outputs": [],
   "source": [
    "## Удаление неинформативных столбцов из датафрейма total (для датафрейма \"weather_data_total4.csv.gz\")\n",
    "# создание списка неинформативных столбцов\n",
    "drop_col_tot = []\n",
    "\n",
    "for items in antitop_ph:\n",
    "    c = 'total_{}'.format(items)\n",
    "    drop_col_tot.append(c)\n",
    "\n",
    "data_ph.drop(columns=drop_col_tot, inplace=True)"
   ]
  },
  {
   "cell_type": "code",
   "execution_count": 21,
   "id": "9525bdfe",
   "metadata": {},
   "outputs": [],
   "source": [
    "## Удаление неинформативных столбцов датафрейма phase (для датафрейма \"weather_data_phase4.csv.gz\")\n",
    "# создание списка неинформативных столбцов\n",
    "drop_col_ph = []\n",
    "\n",
    "for phase in range(1,5):\n",
    "    for items in antitop_ph:\n",
    "        c = 'ph{}_{}'.format(phase, items)\n",
    "        drop_col_ph.append(c)\n",
    "        \n",
    "# удаление столбцов\n",
    "data_ph.drop(columns=drop_col_ph, inplace=True)"
   ]
  },
  {
   "cell_type": "code",
   "execution_count": 22,
   "id": "cfeae2f9",
   "metadata": {},
   "outputs": [],
   "source": [
    "data_ph = data_ph.loc[(data_ph['category'] !='КФХ')]\n",
    "## Преобразование категориальных переменных признака \"category\" в числовые значения\n",
    "le_ph = LabelEncoder() # метод преобразования категориальных признаков\n",
    "# преобразование в числовые значения\n",
    "data_ph['category'] = le_ph.fit_transform(data_ph['category'])\n",
    "data_ph['federal_distr'] = le_ph.fit_transform(data_ph['federal_distr'])\n",
    "data_ph['region'] = le_ph.fit_transform(data_ph['region'])"
   ]
  },
  {
   "cell_type": "code",
   "execution_count": 23,
   "id": "f7a2d4a2",
   "metadata": {},
   "outputs": [],
   "source": [
    "## Удаление лишних данных\n",
    "del settl_ph\n",
    "del meteo_ph\n",
    "del weather_ph\n",
    "del municip_ph"
   ]
  },
  {
   "cell_type": "code",
   "execution_count": 24,
   "id": "6adadae9",
   "metadata": {},
   "outputs": [
    {
     "name": "stdout",
     "output_type": "stream",
     "text": [
      "<class 'pandas.core.frame.DataFrame'>\n",
      "Int64Index: 29981 entries, 13361 to 48067\n",
      "Columns: 165 entries, year to rotation\n",
      "dtypes: float64(159), int32(3), int64(3)\n",
      "memory usage: 37.6 MB\n"
     ]
    }
   ],
   "source": [
    "data_ph.info()"
   ]
  },
  {
   "cell_type": "code",
   "execution_count": 25,
   "id": "5379c546",
   "metadata": {},
   "outputs": [],
   "source": [
    "## Формирование датасета и вектора целевой переменной\n",
    "train_data_ph = data_ph.copy()\n",
    "train_label_ph = data_ph['target']\n",
    "\n",
    "# удаление лишних столбцов\n",
    "train_data_ph = train_data_ph.drop(columns=['year', 'meteoid', 'target'])"
   ]
  },
  {
   "cell_type": "code",
   "execution_count": 26,
   "id": "b402886a",
   "metadata": {},
   "outputs": [],
   "source": [
    "# разделение выборки на обучающую и тестовую (80/20) \n",
    "X_train_ph, X_test_ph, y_train_ph, y_test_ph = train_test_split(train_data_ph, train_label_ph, \n",
    "                                                                test_size=0.25, random_state=42) "
   ]
  },
  {
   "cell_type": "code",
   "execution_count": 27,
   "id": "ad904e17",
   "metadata": {},
   "outputs": [],
   "source": [
    "# Тренировочный и тестовый датасет для модели CatBoost (для типа \"phase\")\n",
    "category = ['category', 'federal_distr', 'region', 'rotation']\n",
    "\n",
    "train_data_ph = Pool(data=X_train_ph,\n",
    "                     label= y_train_ph,\n",
    "                     cat_features=category)\n",
    "\n",
    "test_data_ph = Pool(data=X_test_ph,\n",
    "                    cat_features=category)\n",
    "\n",
    "eval_data_ph = Pool(data=X_test_ph,\n",
    "                    label=y_test_ph,\n",
    "                    cat_features=category)"
   ]
  },
  {
   "cell_type": "markdown",
   "id": "ae615f12",
   "metadata": {},
   "source": [
    "## 2. Предварительное обучение моделей"
   ]
  },
  {
   "cell_type": "markdown",
   "id": "424dfcee",
   "metadata": {},
   "source": [
    "### 2.1 Обучение моделей на датасете \"total\""
   ]
  },
  {
   "cell_type": "markdown",
   "id": "e540fd80",
   "metadata": {},
   "source": [
    "#### 2.1.1 Обучение модели CatBoost regressor"
   ]
  },
  {
   "cell_type": "code",
   "execution_count": 28,
   "id": "41954f7d",
   "metadata": {},
   "outputs": [
    {
     "data": {
      "application/vnd.jupyter.widget-view+json": {
       "model_id": "6e3eb7caec014a14af7fa1a9f297ff5b",
       "version_major": 2,
       "version_minor": 0
      },
      "text/plain": [
       "MetricVisualizer(layout=Layout(align_self='stretch', height='500px'))"
      ]
     },
     "metadata": {},
     "output_type": "display_data"
    },
    {
     "data": {
      "text/plain": [
       "<catboost.core.CatBoostRegressor at 0x14ec352dca0>"
      ]
     },
     "execution_count": 28,
     "metadata": {},
     "output_type": "execute_result"
    }
   ],
   "source": [
    "cat_tot = CatBoostRegressor(iterations=1000,\n",
    "                            loss_function=\"RMSE\",\n",
    "                            verbose=False,\n",
    "                            random_seed=2)\n",
    "cat_tot.fit(train_data, eval_set=eval_data, verbose=False, plot=True)"
   ]
  },
  {
   "cell_type": "code",
   "execution_count": 29,
   "id": "7e046414",
   "metadata": {},
   "outputs": [
    {
     "name": "stdout",
     "output_type": "stream",
     "text": [
      "CatBoost RMSE :  2.811611\n"
     ]
    }
   ],
   "source": [
    "# Прогнозмрование с помощью модели CatBoost\n",
    "cat_pred_tot = cat_tot.predict(test_data)\n",
    "# Вычисление RMSE \n",
    "cat_rmse_tot = mean_squared_error(y_test, cat_pred_tot, squared=False)\n",
    "print(\"CatBoost RMSE : % f\" %(cat_rmse_tot))"
   ]
  },
  {
   "cell_type": "markdown",
   "id": "f22206fc",
   "metadata": {},
   "source": [
    "#### 2.1.2 Обучение модели XGBoost"
   ]
  },
  {
   "cell_type": "code",
   "execution_count": 30,
   "id": "0ec0f4ea",
   "metadata": {},
   "outputs": [
    {
     "name": "stderr",
     "output_type": "stream",
     "text": [
      "C:\\Users\\uovorop\\Anaconda3\\lib\\site-packages\\xgboost\\data.py:192: FutureWarning: pandas.Int64Index is deprecated and will be removed from pandas in a future version. Use pandas.Index with the appropriate dtype instead.\n",
      "  from pandas import MultiIndex, Int64Index\n"
     ]
    },
    {
     "data": {
      "text/plain": [
       "XGBRegressor(base_score=0.5, booster='gbtree', colsample_bylevel=1,\n",
       "             colsample_bynode=1, colsample_bytree=1, gamma=0, gpu_id=-1,\n",
       "             importance_type='gain', interaction_constraints='',\n",
       "             learning_rate=0.300000012, max_delta_step=0, max_depth=6,\n",
       "             min_child_weight=1, missing=nan, monotone_constraints='()',\n",
       "             n_estimators=1000, n_jobs=8, num_parallel_tree=1, random_state=2,\n",
       "             reg_alpha=0, reg_lambda=1, scale_pos_weight=1, subsample=1,\n",
       "             tree_method='exact', validate_parameters=1, verbosity=None)"
      ]
     },
     "execution_count": 30,
     "metadata": {},
     "output_type": "execute_result"
    }
   ],
   "source": [
    "# Обучение модели XGBoost\n",
    "xgb_tot = xgb.XGBRegressor(objective='reg:squarederror', n_estimators=1000, random_state=2)\n",
    "xgb_tot.fit(X_train, y_train)"
   ]
  },
  {
   "cell_type": "code",
   "execution_count": 31,
   "id": "fe5ddde2",
   "metadata": {},
   "outputs": [
    {
     "name": "stdout",
     "output_type": "stream",
     "text": [
      "XGBoost RMSE :  2.147377\n"
     ]
    }
   ],
   "source": [
    "# Прогнозмрование с помощью модели XGBoost\n",
    "xgb_pred_tot = xgb_tot.predict(X_test)\n",
    "# Вычисление RMSE \n",
    "xgb_rmse_tot = mean_squared_error(y_test, xgb_pred_tot, squared=False)\n",
    "print(\"XGBoost RMSE : % f\" %(xgb_rmse_tot))"
   ]
  },
  {
   "cell_type": "markdown",
   "id": "d474b710",
   "metadata": {},
   "source": [
    "#### 2.1.3 Обучение модели LinearRegression"
   ]
  },
  {
   "cell_type": "code",
   "execution_count": 32,
   "id": "32b5ecba",
   "metadata": {},
   "outputs": [],
   "source": [
    "reg = LinearRegression() # инициализация модели\n",
    "scaler = StandardScaler() # метод нормализации данных\n",
    "reg_train = scaler.fit_transform(X_train) # нормализация X_train\n",
    "reg_test = scaler.fit_transform(X_test) # нормализация X_test\n",
    "linreg_tot = reg.fit(reg_train, y_train) # обучение модели"
   ]
  },
  {
   "cell_type": "code",
   "execution_count": 33,
   "id": "b0f07695",
   "metadata": {},
   "outputs": [
    {
     "name": "stdout",
     "output_type": "stream",
     "text": [
      "LinearRegression RMSE :  114676.876400\n"
     ]
    },
    {
     "name": "stderr",
     "output_type": "stream",
     "text": [
      "C:\\Users\\uovorop\\Anaconda3\\lib\\site-packages\\sklearn\\base.py:443: UserWarning: X has feature names, but LinearRegression was fitted without feature names\n",
      "  warnings.warn(\n"
     ]
    }
   ],
   "source": [
    "# Прогнозмрование с помощью модели LinearRegression\n",
    "lin_pred_tot = linreg_tot.predict(X_test)\n",
    "# Вычисление RMSE \n",
    "linreg_rmse_tot = mean_squared_error(y_test, lin_pred_tot, squared=False)\n",
    "print(\"LinearRegression RMSE : % f\" %(linreg_rmse_tot))"
   ]
  },
  {
   "cell_type": "code",
   "execution_count": 34,
   "id": "e80d59e6",
   "metadata": {},
   "outputs": [
    {
     "data": {
      "text/plain": [
       "0.20165664118832172"
      ]
     },
     "execution_count": 34,
     "metadata": {},
     "output_type": "execute_result"
    }
   ],
   "source": [
    "# Коэффициент детерминации модели (оценка качества модели)\n",
    "linreg_tot.score(reg_train, y_train)"
   ]
  },
  {
   "cell_type": "markdown",
   "id": "298e2c34",
   "metadata": {},
   "source": [
    "#### 2.1.4 Сравнение результатов моделей"
   ]
  },
  {
   "cell_type": "code",
   "execution_count": 35,
   "id": "e1c1fcb7",
   "metadata": {},
   "outputs": [
    {
     "name": "stdout",
     "output_type": "stream",
     "text": [
      "CatBoost RMSE :  2.811611\n",
      "XGBoost RMSE :  2.147377\n",
      "LinReg RMSE :  114676.876400\n"
     ]
    }
   ],
   "source": [
    "# Сравнение значений RMSE для тестовой выборки по моделям\n",
    "print(\"CatBoost RMSE : % f\" %(cat_rmse_tot), \n",
    "      \"XGBoost RMSE : % f\" %(xgb_rmse_tot), \n",
    "      \"LinReg RMSE : % f\" %(linreg_rmse_tot), \n",
    "      sep='\\n')"
   ]
  },
  {
   "cell_type": "markdown",
   "id": "5262bd5e",
   "metadata": {},
   "source": [
    "**Краткие выводы:**<br>\n",
    "1. Для обучения были выбраны три регрессионых модели - CatBoost, XGBoost и LinearRegression.<br>\n",
    "2. По результатам обучения (на default параметрах) наиболее лучшее качество показала модель XGBoost, значение метрики RMSE составило 2.147377.<br>\n",
    "3. Модель LinearRegression показала очень низкое качество, коэффициент детерминации составил 0.2, в дальнейшем ее использование для обучения на данных не целесообразно."
   ]
  },
  {
   "cell_type": "markdown",
   "id": "e5714d33",
   "metadata": {},
   "source": [
    "### 2.2 Обучение моделей на датасете \"phase\""
   ]
  },
  {
   "cell_type": "markdown",
   "id": "624dfaf9",
   "metadata": {},
   "source": [
    "#### 2.2.1 Обучение модели CatBoost regressor¶"
   ]
  },
  {
   "cell_type": "code",
   "execution_count": 36,
   "id": "54f622ab",
   "metadata": {},
   "outputs": [
    {
     "data": {
      "application/vnd.jupyter.widget-view+json": {
       "model_id": "989348ff651e41ae96ee68f4ab107357",
       "version_major": 2,
       "version_minor": 0
      },
      "text/plain": [
       "MetricVisualizer(layout=Layout(align_self='stretch', height='500px'))"
      ]
     },
     "metadata": {},
     "output_type": "display_data"
    },
    {
     "data": {
      "text/plain": [
       "<catboost.core.CatBoostRegressor at 0x14ec96a8b80>"
      ]
     },
     "execution_count": 36,
     "metadata": {},
     "output_type": "execute_result"
    }
   ],
   "source": [
    "cat_ph = CatBoostRegressor(iterations=1000,\n",
    "                            loss_function=\"RMSE\",\n",
    "                            verbose=False,\n",
    "                            random_seed=2)\n",
    "cat_ph.fit(train_data_ph, eval_set=eval_data_ph, verbose=False, plot=True)"
   ]
  },
  {
   "cell_type": "code",
   "execution_count": 37,
   "id": "b863df6a",
   "metadata": {},
   "outputs": [
    {
     "name": "stdout",
     "output_type": "stream",
     "text": [
      "CatBoost RMSE :  2.746527\n"
     ]
    }
   ],
   "source": [
    "# Прогнозмрование с помощью модели CatBoost\n",
    "cat_pred_ph = cat_ph.predict(test_data_ph)\n",
    "# Вычисление RMSE \n",
    "cat_rmse_ph = mean_squared_error(y_test_ph, cat_pred_ph, squared=False)\n",
    "print(\"CatBoost RMSE : % f\" %(cat_rmse_ph))"
   ]
  },
  {
   "cell_type": "markdown",
   "id": "ebe7d2d4",
   "metadata": {},
   "source": [
    "#### 2.2.2 Обучение модели XGBoost"
   ]
  },
  {
   "cell_type": "code",
   "execution_count": 38,
   "id": "4b9b60dc",
   "metadata": {},
   "outputs": [
    {
     "name": "stderr",
     "output_type": "stream",
     "text": [
      "C:\\Users\\uovorop\\Anaconda3\\lib\\site-packages\\xgboost\\data.py:192: FutureWarning: pandas.Int64Index is deprecated and will be removed from pandas in a future version. Use pandas.Index with the appropriate dtype instead.\n",
      "  from pandas import MultiIndex, Int64Index\n"
     ]
    },
    {
     "data": {
      "text/plain": [
       "XGBRegressor(base_score=0.5, booster='gbtree', colsample_bylevel=1,\n",
       "             colsample_bynode=1, colsample_bytree=1, gamma=0, gpu_id=-1,\n",
       "             importance_type='gain', interaction_constraints='',\n",
       "             learning_rate=0.300000012, max_delta_step=0, max_depth=6,\n",
       "             min_child_weight=1, missing=nan, monotone_constraints='()',\n",
       "             n_estimators=1000, n_jobs=8, num_parallel_tree=1, random_state=2,\n",
       "             reg_alpha=0, reg_lambda=1, scale_pos_weight=1, subsample=1,\n",
       "             tree_method='exact', validate_parameters=1, verbosity=None)"
      ]
     },
     "execution_count": 38,
     "metadata": {},
     "output_type": "execute_result"
    }
   ],
   "source": [
    "# Обучение модели XGBoost\n",
    "xgb_ph = xgb.XGBRegressor(objective='reg:squarederror', n_estimators=1000, random_state=2)\n",
    "xgb_ph.fit(X_train_ph, y_train_ph)"
   ]
  },
  {
   "cell_type": "code",
   "execution_count": 39,
   "id": "235b0699",
   "metadata": {},
   "outputs": [
    {
     "name": "stdout",
     "output_type": "stream",
     "text": [
      "XGBoost RMSE :  2.119496\n"
     ]
    }
   ],
   "source": [
    "# Прогнозмрование с помощью модели XGBoost\n",
    "xgb_pred_ph = xgb_ph.predict(X_test_ph)\n",
    "# Вычисление RMSE \n",
    "xgb_rmse_ph = mean_squared_error(y_test_ph, xgb_pred_ph, squared=False)\n",
    "print(\"XGBoost RMSE : % f\" %(xgb_rmse_ph))"
   ]
  },
  {
   "cell_type": "markdown",
   "id": "46f98f2a",
   "metadata": {},
   "source": [
    "#### 2.2.3 Сравнение результатов моделей"
   ]
  },
  {
   "cell_type": "code",
   "execution_count": 40,
   "id": "3d3a165f",
   "metadata": {},
   "outputs": [
    {
     "name": "stdout",
     "output_type": "stream",
     "text": [
      "CatBoost RMSE :  2.746527\n",
      "XGBoost RMSE :  2.119496\n"
     ]
    }
   ],
   "source": [
    "# Сравнение значений RMSE для тестовой выборки по моделям\n",
    "print(\"CatBoost RMSE : % f\" %(cat_rmse_ph), \n",
    "      \"XGBoost RMSE : % f\" %(xgb_rmse_ph), \n",
    "      sep='\\n')"
   ]
  },
  {
   "cell_type": "markdown",
   "id": "cd0d0f0a",
   "metadata": {},
   "source": [
    "**Краткие выводы:**<br>\n",
    "1. Для обучения были выбраны две регрессионых модели - CatBoost и XGBoost.<br>\n",
    "2. По результатам обучения (на default параметрах) наиболее лучшее качество показала модель XGBoost, значение метрики RMSE составило 2.119496."
   ]
  },
  {
   "cell_type": "markdown",
   "id": "be7e09b4",
   "metadata": {},
   "source": [
    "### 2.3 Сравнение результатов на разных датасетах"
   ]
  },
  {
   "cell_type": "code",
   "execution_count": 41,
   "id": "0272a09c",
   "metadata": {},
   "outputs": [
    {
     "name": "stdout",
     "output_type": "stream",
     "text": [
      "Датасет типа \"total\":\n",
      "CatBoost RMSE :  2.811611\n",
      "XGBoost RMSE :  2.147377\n",
      "LinReg RMSE :  114676.876400\n",
      "\n",
      "Датасет типа \"phase\":\n",
      "CatBoost RMSE :  2.746527\n",
      "XGBoost RMSE :  2.119496\n"
     ]
    }
   ],
   "source": [
    "# Сравнение значений RMSE для тестовой выборки по моделям и датасетам\n",
    "print('Датасет типа \"total\":', \"CatBoost RMSE : % f\" %(cat_rmse_tot), \"XGBoost RMSE : % f\" %(xgb_rmse_tot), \n",
    "      \"LinReg RMSE : % f\" %(linreg_rmse_tot), \"\", \n",
    "      'Датасет типа \"phase\":', \"CatBoost RMSE : % f\" %(cat_rmse_ph), \"XGBoost RMSE : % f\" %(xgb_rmse_ph), \n",
    "      sep='\\n')"
   ]
  },
  {
   "cell_type": "markdown",
   "id": "24745aec",
   "metadata": {},
   "source": [
    "**Краткие выводы:**<br>\n",
    "1. Более лучшие результаты на default параметрах показала модель XGBoost, она имеет самые низкие значения метрики RMSE как на датасете \"total\", так и на датасете \"phase\".<br>\n",
    "2. Выбранные модели показывают более лучшие результаты на датасете типа \"phase\" (здесь значения RMSE обоих моделей ниже)."
   ]
  },
  {
   "cell_type": "markdown",
   "id": "3000b343",
   "metadata": {},
   "source": [
    "## 3. Обучение и тестирование моделей"
   ]
  },
  {
   "cell_type": "markdown",
   "id": "3ea9b2a2",
   "metadata": {},
   "source": [
    "### 3.1 Настройка гиперпараметров моделей"
   ]
  },
  {
   "cell_type": "markdown",
   "id": "b52d43dd",
   "metadata": {},
   "source": [
    "#### 3.1.1 XGBoost"
   ]
  },
  {
   "cell_type": "code",
   "execution_count": 42,
   "id": "8309a3ba",
   "metadata": {
    "scrolled": true
   },
   "outputs": [],
   "source": [
    "# Инициализация модели\n",
    "xgb_reg = xgb.XGBRegressor()\n",
    "# Версия для GPU\n",
    "#xgb_reg = xgb.XGBRegressor(tree_method='gpu_hist', gpu_id=0)\n",
    "\n",
    "parameters = {'objective':['reg:squarederror'],\n",
    "              'random_state':[2],\n",
    "              'learning_rate': [0.075, 0.3], \n",
    "              'max_depth': [6, 10], \n",
    "              'min_child_weight': [1], \n",
    "              'subsample': [1], \n",
    "              'colsample_bytree': [0.6, 1], \n",
    "              'gamma': [0, 0.05], \n",
    "              'n_estimators': [1000]} \n",
    "\n",
    "xgb_grid = GridSearchCV(xgb_reg,\n",
    "                        parameters,\n",
    "                        cv=4,\n",
    "                        verbose=True)"
   ]
  },
  {
   "cell_type": "code",
   "execution_count": 43,
   "id": "38d71c0e",
   "metadata": {
    "scrolled": true
   },
   "outputs": [
    {
     "name": "stdout",
     "output_type": "stream",
     "text": [
      "Fitting 4 folds for each of 16 candidates, totalling 64 fits\n"
     ]
    },
    {
     "name": "stderr",
     "output_type": "stream",
     "text": [
      "C:\\Users\\uovorop\\Anaconda3\\lib\\site-packages\\xgboost\\data.py:192: FutureWarning: pandas.Int64Index is deprecated and will be removed from pandas in a future version. Use pandas.Index with the appropriate dtype instead.\n",
      "  from pandas import MultiIndex, Int64Index\n",
      "C:\\Users\\uovorop\\Anaconda3\\lib\\site-packages\\xgboost\\data.py:192: FutureWarning: pandas.Int64Index is deprecated and will be removed from pandas in a future version. Use pandas.Index with the appropriate dtype instead.\n",
      "  from pandas import MultiIndex, Int64Index\n",
      "C:\\Users\\uovorop\\Anaconda3\\lib\\site-packages\\xgboost\\data.py:192: FutureWarning: pandas.Int64Index is deprecated and will be removed from pandas in a future version. Use pandas.Index with the appropriate dtype instead.\n",
      "  from pandas import MultiIndex, Int64Index\n",
      "C:\\Users\\uovorop\\Anaconda3\\lib\\site-packages\\xgboost\\data.py:192: FutureWarning: pandas.Int64Index is deprecated and will be removed from pandas in a future version. Use pandas.Index with the appropriate dtype instead.\n",
      "  from pandas import MultiIndex, Int64Index\n",
      "C:\\Users\\uovorop\\Anaconda3\\lib\\site-packages\\xgboost\\data.py:192: FutureWarning: pandas.Int64Index is deprecated and will be removed from pandas in a future version. Use pandas.Index with the appropriate dtype instead.\n",
      "  from pandas import MultiIndex, Int64Index\n",
      "C:\\Users\\uovorop\\Anaconda3\\lib\\site-packages\\xgboost\\data.py:192: FutureWarning: pandas.Int64Index is deprecated and will be removed from pandas in a future version. Use pandas.Index with the appropriate dtype instead.\n",
      "  from pandas import MultiIndex, Int64Index\n",
      "C:\\Users\\uovorop\\Anaconda3\\lib\\site-packages\\xgboost\\data.py:192: FutureWarning: pandas.Int64Index is deprecated and will be removed from pandas in a future version. Use pandas.Index with the appropriate dtype instead.\n",
      "  from pandas import MultiIndex, Int64Index\n",
      "C:\\Users\\uovorop\\Anaconda3\\lib\\site-packages\\xgboost\\data.py:192: FutureWarning: pandas.Int64Index is deprecated and will be removed from pandas in a future version. Use pandas.Index with the appropriate dtype instead.\n",
      "  from pandas import MultiIndex, Int64Index\n",
      "C:\\Users\\uovorop\\Anaconda3\\lib\\site-packages\\xgboost\\data.py:192: FutureWarning: pandas.Int64Index is deprecated and will be removed from pandas in a future version. Use pandas.Index with the appropriate dtype instead.\n",
      "  from pandas import MultiIndex, Int64Index\n",
      "C:\\Users\\uovorop\\Anaconda3\\lib\\site-packages\\xgboost\\data.py:192: FutureWarning: pandas.Int64Index is deprecated and will be removed from pandas in a future version. Use pandas.Index with the appropriate dtype instead.\n",
      "  from pandas import MultiIndex, Int64Index\n",
      "C:\\Users\\uovorop\\Anaconda3\\lib\\site-packages\\xgboost\\data.py:192: FutureWarning: pandas.Int64Index is deprecated and will be removed from pandas in a future version. Use pandas.Index with the appropriate dtype instead.\n",
      "  from pandas import MultiIndex, Int64Index\n",
      "C:\\Users\\uovorop\\Anaconda3\\lib\\site-packages\\xgboost\\data.py:192: FutureWarning: pandas.Int64Index is deprecated and will be removed from pandas in a future version. Use pandas.Index with the appropriate dtype instead.\n",
      "  from pandas import MultiIndex, Int64Index\n",
      "C:\\Users\\uovorop\\Anaconda3\\lib\\site-packages\\xgboost\\data.py:192: FutureWarning: pandas.Int64Index is deprecated and will be removed from pandas in a future version. Use pandas.Index with the appropriate dtype instead.\n",
      "  from pandas import MultiIndex, Int64Index\n",
      "C:\\Users\\uovorop\\Anaconda3\\lib\\site-packages\\xgboost\\data.py:192: FutureWarning: pandas.Int64Index is deprecated and will be removed from pandas in a future version. Use pandas.Index with the appropriate dtype instead.\n",
      "  from pandas import MultiIndex, Int64Index\n",
      "C:\\Users\\uovorop\\Anaconda3\\lib\\site-packages\\xgboost\\data.py:192: FutureWarning: pandas.Int64Index is deprecated and will be removed from pandas in a future version. Use pandas.Index with the appropriate dtype instead.\n",
      "  from pandas import MultiIndex, Int64Index\n",
      "C:\\Users\\uovorop\\Anaconda3\\lib\\site-packages\\xgboost\\data.py:192: FutureWarning: pandas.Int64Index is deprecated and will be removed from pandas in a future version. Use pandas.Index with the appropriate dtype instead.\n",
      "  from pandas import MultiIndex, Int64Index\n",
      "C:\\Users\\uovorop\\Anaconda3\\lib\\site-packages\\xgboost\\data.py:192: FutureWarning: pandas.Int64Index is deprecated and will be removed from pandas in a future version. Use pandas.Index with the appropriate dtype instead.\n",
      "  from pandas import MultiIndex, Int64Index\n",
      "C:\\Users\\uovorop\\Anaconda3\\lib\\site-packages\\xgboost\\data.py:192: FutureWarning: pandas.Int64Index is deprecated and will be removed from pandas in a future version. Use pandas.Index with the appropriate dtype instead.\n",
      "  from pandas import MultiIndex, Int64Index\n",
      "C:\\Users\\uovorop\\Anaconda3\\lib\\site-packages\\xgboost\\data.py:192: FutureWarning: pandas.Int64Index is deprecated and will be removed from pandas in a future version. Use pandas.Index with the appropriate dtype instead.\n",
      "  from pandas import MultiIndex, Int64Index\n",
      "C:\\Users\\uovorop\\Anaconda3\\lib\\site-packages\\xgboost\\data.py:192: FutureWarning: pandas.Int64Index is deprecated and will be removed from pandas in a future version. Use pandas.Index with the appropriate dtype instead.\n",
      "  from pandas import MultiIndex, Int64Index\n",
      "C:\\Users\\uovorop\\Anaconda3\\lib\\site-packages\\xgboost\\data.py:192: FutureWarning: pandas.Int64Index is deprecated and will be removed from pandas in a future version. Use pandas.Index with the appropriate dtype instead.\n",
      "  from pandas import MultiIndex, Int64Index\n",
      "C:\\Users\\uovorop\\Anaconda3\\lib\\site-packages\\xgboost\\data.py:192: FutureWarning: pandas.Int64Index is deprecated and will be removed from pandas in a future version. Use pandas.Index with the appropriate dtype instead.\n",
      "  from pandas import MultiIndex, Int64Index\n",
      "C:\\Users\\uovorop\\Anaconda3\\lib\\site-packages\\xgboost\\data.py:192: FutureWarning: pandas.Int64Index is deprecated and will be removed from pandas in a future version. Use pandas.Index with the appropriate dtype instead.\n",
      "  from pandas import MultiIndex, Int64Index\n",
      "C:\\Users\\uovorop\\Anaconda3\\lib\\site-packages\\xgboost\\data.py:192: FutureWarning: pandas.Int64Index is deprecated and will be removed from pandas in a future version. Use pandas.Index with the appropriate dtype instead.\n",
      "  from pandas import MultiIndex, Int64Index\n",
      "C:\\Users\\uovorop\\Anaconda3\\lib\\site-packages\\xgboost\\data.py:192: FutureWarning: pandas.Int64Index is deprecated and will be removed from pandas in a future version. Use pandas.Index with the appropriate dtype instead.\n",
      "  from pandas import MultiIndex, Int64Index\n",
      "C:\\Users\\uovorop\\Anaconda3\\lib\\site-packages\\xgboost\\data.py:192: FutureWarning: pandas.Int64Index is deprecated and will be removed from pandas in a future version. Use pandas.Index with the appropriate dtype instead.\n",
      "  from pandas import MultiIndex, Int64Index\n",
      "C:\\Users\\uovorop\\Anaconda3\\lib\\site-packages\\xgboost\\data.py:192: FutureWarning: pandas.Int64Index is deprecated and will be removed from pandas in a future version. Use pandas.Index with the appropriate dtype instead.\n",
      "  from pandas import MultiIndex, Int64Index\n",
      "C:\\Users\\uovorop\\Anaconda3\\lib\\site-packages\\xgboost\\data.py:192: FutureWarning: pandas.Int64Index is deprecated and will be removed from pandas in a future version. Use pandas.Index with the appropriate dtype instead.\n",
      "  from pandas import MultiIndex, Int64Index\n",
      "C:\\Users\\uovorop\\Anaconda3\\lib\\site-packages\\xgboost\\data.py:192: FutureWarning: pandas.Int64Index is deprecated and will be removed from pandas in a future version. Use pandas.Index with the appropriate dtype instead.\n",
      "  from pandas import MultiIndex, Int64Index\n",
      "C:\\Users\\uovorop\\Anaconda3\\lib\\site-packages\\xgboost\\data.py:192: FutureWarning: pandas.Int64Index is deprecated and will be removed from pandas in a future version. Use pandas.Index with the appropriate dtype instead.\n",
      "  from pandas import MultiIndex, Int64Index\n",
      "C:\\Users\\uovorop\\Anaconda3\\lib\\site-packages\\xgboost\\data.py:192: FutureWarning: pandas.Int64Index is deprecated and will be removed from pandas in a future version. Use pandas.Index with the appropriate dtype instead.\n",
      "  from pandas import MultiIndex, Int64Index\n",
      "C:\\Users\\uovorop\\Anaconda3\\lib\\site-packages\\xgboost\\data.py:192: FutureWarning: pandas.Int64Index is deprecated and will be removed from pandas in a future version. Use pandas.Index with the appropriate dtype instead.\n",
      "  from pandas import MultiIndex, Int64Index\n"
     ]
    },
    {
     "name": "stderr",
     "output_type": "stream",
     "text": [
      "C:\\Users\\uovorop\\Anaconda3\\lib\\site-packages\\xgboost\\data.py:192: FutureWarning: pandas.Int64Index is deprecated and will be removed from pandas in a future version. Use pandas.Index with the appropriate dtype instead.\n",
      "  from pandas import MultiIndex, Int64Index\n",
      "C:\\Users\\uovorop\\Anaconda3\\lib\\site-packages\\xgboost\\data.py:192: FutureWarning: pandas.Int64Index is deprecated and will be removed from pandas in a future version. Use pandas.Index with the appropriate dtype instead.\n",
      "  from pandas import MultiIndex, Int64Index\n",
      "C:\\Users\\uovorop\\Anaconda3\\lib\\site-packages\\xgboost\\data.py:192: FutureWarning: pandas.Int64Index is deprecated and will be removed from pandas in a future version. Use pandas.Index with the appropriate dtype instead.\n",
      "  from pandas import MultiIndex, Int64Index\n",
      "C:\\Users\\uovorop\\Anaconda3\\lib\\site-packages\\xgboost\\data.py:192: FutureWarning: pandas.Int64Index is deprecated and will be removed from pandas in a future version. Use pandas.Index with the appropriate dtype instead.\n",
      "  from pandas import MultiIndex, Int64Index\n",
      "C:\\Users\\uovorop\\Anaconda3\\lib\\site-packages\\xgboost\\data.py:192: FutureWarning: pandas.Int64Index is deprecated and will be removed from pandas in a future version. Use pandas.Index with the appropriate dtype instead.\n",
      "  from pandas import MultiIndex, Int64Index\n",
      "C:\\Users\\uovorop\\Anaconda3\\lib\\site-packages\\xgboost\\data.py:192: FutureWarning: pandas.Int64Index is deprecated and will be removed from pandas in a future version. Use pandas.Index with the appropriate dtype instead.\n",
      "  from pandas import MultiIndex, Int64Index\n",
      "C:\\Users\\uovorop\\Anaconda3\\lib\\site-packages\\xgboost\\data.py:192: FutureWarning: pandas.Int64Index is deprecated and will be removed from pandas in a future version. Use pandas.Index with the appropriate dtype instead.\n",
      "  from pandas import MultiIndex, Int64Index\n",
      "C:\\Users\\uovorop\\Anaconda3\\lib\\site-packages\\xgboost\\data.py:192: FutureWarning: pandas.Int64Index is deprecated and will be removed from pandas in a future version. Use pandas.Index with the appropriate dtype instead.\n",
      "  from pandas import MultiIndex, Int64Index\n",
      "C:\\Users\\uovorop\\Anaconda3\\lib\\site-packages\\xgboost\\data.py:192: FutureWarning: pandas.Int64Index is deprecated and will be removed from pandas in a future version. Use pandas.Index with the appropriate dtype instead.\n",
      "  from pandas import MultiIndex, Int64Index\n",
      "C:\\Users\\uovorop\\Anaconda3\\lib\\site-packages\\xgboost\\data.py:192: FutureWarning: pandas.Int64Index is deprecated and will be removed from pandas in a future version. Use pandas.Index with the appropriate dtype instead.\n",
      "  from pandas import MultiIndex, Int64Index\n",
      "C:\\Users\\uovorop\\Anaconda3\\lib\\site-packages\\xgboost\\data.py:192: FutureWarning: pandas.Int64Index is deprecated and will be removed from pandas in a future version. Use pandas.Index with the appropriate dtype instead.\n",
      "  from pandas import MultiIndex, Int64Index\n",
      "C:\\Users\\uovorop\\Anaconda3\\lib\\site-packages\\xgboost\\data.py:192: FutureWarning: pandas.Int64Index is deprecated and will be removed from pandas in a future version. Use pandas.Index with the appropriate dtype instead.\n",
      "  from pandas import MultiIndex, Int64Index\n",
      "C:\\Users\\uovorop\\Anaconda3\\lib\\site-packages\\xgboost\\data.py:192: FutureWarning: pandas.Int64Index is deprecated and will be removed from pandas in a future version. Use pandas.Index with the appropriate dtype instead.\n",
      "  from pandas import MultiIndex, Int64Index\n",
      "C:\\Users\\uovorop\\Anaconda3\\lib\\site-packages\\xgboost\\data.py:192: FutureWarning: pandas.Int64Index is deprecated and will be removed from pandas in a future version. Use pandas.Index with the appropriate dtype instead.\n",
      "  from pandas import MultiIndex, Int64Index\n",
      "C:\\Users\\uovorop\\Anaconda3\\lib\\site-packages\\xgboost\\data.py:192: FutureWarning: pandas.Int64Index is deprecated and will be removed from pandas in a future version. Use pandas.Index with the appropriate dtype instead.\n",
      "  from pandas import MultiIndex, Int64Index\n",
      "C:\\Users\\uovorop\\Anaconda3\\lib\\site-packages\\xgboost\\data.py:192: FutureWarning: pandas.Int64Index is deprecated and will be removed from pandas in a future version. Use pandas.Index with the appropriate dtype instead.\n",
      "  from pandas import MultiIndex, Int64Index\n",
      "C:\\Users\\uovorop\\Anaconda3\\lib\\site-packages\\xgboost\\data.py:192: FutureWarning: pandas.Int64Index is deprecated and will be removed from pandas in a future version. Use pandas.Index with the appropriate dtype instead.\n",
      "  from pandas import MultiIndex, Int64Index\n",
      "C:\\Users\\uovorop\\Anaconda3\\lib\\site-packages\\xgboost\\data.py:192: FutureWarning: pandas.Int64Index is deprecated and will be removed from pandas in a future version. Use pandas.Index with the appropriate dtype instead.\n",
      "  from pandas import MultiIndex, Int64Index\n",
      "C:\\Users\\uovorop\\Anaconda3\\lib\\site-packages\\xgboost\\data.py:192: FutureWarning: pandas.Int64Index is deprecated and will be removed from pandas in a future version. Use pandas.Index with the appropriate dtype instead.\n",
      "  from pandas import MultiIndex, Int64Index\n",
      "C:\\Users\\uovorop\\Anaconda3\\lib\\site-packages\\xgboost\\data.py:192: FutureWarning: pandas.Int64Index is deprecated and will be removed from pandas in a future version. Use pandas.Index with the appropriate dtype instead.\n",
      "  from pandas import MultiIndex, Int64Index\n",
      "C:\\Users\\uovorop\\Anaconda3\\lib\\site-packages\\xgboost\\data.py:192: FutureWarning: pandas.Int64Index is deprecated and will be removed from pandas in a future version. Use pandas.Index with the appropriate dtype instead.\n",
      "  from pandas import MultiIndex, Int64Index\n",
      "C:\\Users\\uovorop\\Anaconda3\\lib\\site-packages\\xgboost\\data.py:192: FutureWarning: pandas.Int64Index is deprecated and will be removed from pandas in a future version. Use pandas.Index with the appropriate dtype instead.\n",
      "  from pandas import MultiIndex, Int64Index\n",
      "C:\\Users\\uovorop\\Anaconda3\\lib\\site-packages\\xgboost\\data.py:192: FutureWarning: pandas.Int64Index is deprecated and will be removed from pandas in a future version. Use pandas.Index with the appropriate dtype instead.\n",
      "  from pandas import MultiIndex, Int64Index\n",
      "C:\\Users\\uovorop\\Anaconda3\\lib\\site-packages\\xgboost\\data.py:192: FutureWarning: pandas.Int64Index is deprecated and will be removed from pandas in a future version. Use pandas.Index with the appropriate dtype instead.\n",
      "  from pandas import MultiIndex, Int64Index\n",
      "C:\\Users\\uovorop\\Anaconda3\\lib\\site-packages\\xgboost\\data.py:192: FutureWarning: pandas.Int64Index is deprecated and will be removed from pandas in a future version. Use pandas.Index with the appropriate dtype instead.\n",
      "  from pandas import MultiIndex, Int64Index\n",
      "C:\\Users\\uovorop\\Anaconda3\\lib\\site-packages\\xgboost\\data.py:192: FutureWarning: pandas.Int64Index is deprecated and will be removed from pandas in a future version. Use pandas.Index with the appropriate dtype instead.\n",
      "  from pandas import MultiIndex, Int64Index\n",
      "C:\\Users\\uovorop\\Anaconda3\\lib\\site-packages\\xgboost\\data.py:192: FutureWarning: pandas.Int64Index is deprecated and will be removed from pandas in a future version. Use pandas.Index with the appropriate dtype instead.\n",
      "  from pandas import MultiIndex, Int64Index\n",
      "C:\\Users\\uovorop\\Anaconda3\\lib\\site-packages\\xgboost\\data.py:192: FutureWarning: pandas.Int64Index is deprecated and will be removed from pandas in a future version. Use pandas.Index with the appropriate dtype instead.\n",
      "  from pandas import MultiIndex, Int64Index\n",
      "C:\\Users\\uovorop\\Anaconda3\\lib\\site-packages\\xgboost\\data.py:192: FutureWarning: pandas.Int64Index is deprecated and will be removed from pandas in a future version. Use pandas.Index with the appropriate dtype instead.\n",
      "  from pandas import MultiIndex, Int64Index\n",
      "C:\\Users\\uovorop\\Anaconda3\\lib\\site-packages\\xgboost\\data.py:192: FutureWarning: pandas.Int64Index is deprecated and will be removed from pandas in a future version. Use pandas.Index with the appropriate dtype instead.\n",
      "  from pandas import MultiIndex, Int64Index\n",
      "C:\\Users\\uovorop\\Anaconda3\\lib\\site-packages\\xgboost\\data.py:192: FutureWarning: pandas.Int64Index is deprecated and will be removed from pandas in a future version. Use pandas.Index with the appropriate dtype instead.\n",
      "  from pandas import MultiIndex, Int64Index\n",
      "C:\\Users\\uovorop\\Anaconda3\\lib\\site-packages\\xgboost\\data.py:192: FutureWarning: pandas.Int64Index is deprecated and will be removed from pandas in a future version. Use pandas.Index with the appropriate dtype instead.\n",
      "  from pandas import MultiIndex, Int64Index\n"
     ]
    },
    {
     "name": "stderr",
     "output_type": "stream",
     "text": [
      "C:\\Users\\uovorop\\Anaconda3\\lib\\site-packages\\xgboost\\data.py:192: FutureWarning: pandas.Int64Index is deprecated and will be removed from pandas in a future version. Use pandas.Index with the appropriate dtype instead.\n",
      "  from pandas import MultiIndex, Int64Index\n"
     ]
    },
    {
     "data": {
      "text/plain": [
       "GridSearchCV(cv=4,\n",
       "             estimator=XGBRegressor(base_score=None, booster=None,\n",
       "                                    colsample_bylevel=None,\n",
       "                                    colsample_bynode=None,\n",
       "                                    colsample_bytree=None, gamma=None,\n",
       "                                    gpu_id=None, importance_type='gain',\n",
       "                                    interaction_constraints=None,\n",
       "                                    learning_rate=None, max_delta_step=None,\n",
       "                                    max_depth=None, min_child_weight=None,\n",
       "                                    missing=nan, monotone_constraints=None,\n",
       "                                    n_estimators=100, n_jobs=...\n",
       "                                    reg_alpha=None, reg_lambda=None,\n",
       "                                    scale_pos_weight=None, subsample=None,\n",
       "                                    tree_method=None, validate_parameters=None,\n",
       "                                    verbosity=None),\n",
       "             param_grid={'colsample_bytree': [0.6, 1], 'gamma': [0, 0.05],\n",
       "                         'learning_rate': [0.075, 0.3], 'max_depth': [6, 10],\n",
       "                         'min_child_weight': [1], 'n_estimators': [1000],\n",
       "                         'objective': ['reg:squarederror'], 'random_state': [2],\n",
       "                         'subsample': [1]},\n",
       "             verbose=True)"
      ]
     },
     "execution_count": 43,
     "metadata": {},
     "output_type": "execute_result"
    }
   ],
   "source": [
    "# Обучение модели\n",
    "xgb_grid.fit(X_train_ph, y_train_ph)"
   ]
  },
  {
   "cell_type": "code",
   "execution_count": 44,
   "id": "38c5a251",
   "metadata": {},
   "outputs": [
    {
     "name": "stdout",
     "output_type": "stream",
     "text": [
      "XGBoost RMSE :  1.992068\n"
     ]
    }
   ],
   "source": [
    "# Прогнозмрование с помощью модели XGBoost\n",
    "xgb_predict = xgb_grid.predict(X_test_ph)\n",
    "# Вычисление RMSE \n",
    "xgb_rmse = mean_squared_error(y_test_ph, xgb_predict, squared=False)\n",
    "print(\"XGBoost RMSE : % f\" %(xgb_rmse))"
   ]
  },
  {
   "cell_type": "code",
   "execution_count": 45,
   "id": "0bde8b61",
   "metadata": {},
   "outputs": [
    {
     "name": "stdout",
     "output_type": "stream",
     "text": [
      "Best parameters: {'colsample_bytree': 0.6, 'gamma': 0.05, 'learning_rate': 0.075, 'max_depth': 10, 'min_child_weight': 1, 'n_estimators': 1000, 'objective': 'reg:squarederror', 'random_state': 2, 'subsample': 1}\n",
      "Best Score (R2):  0.8318900533998042\n"
     ]
    }
   ],
   "source": [
    "print(\"Best parameters:\", xgb_grid.best_params_)\n",
    "print(\"Best Score (R2): \", (xgb_grid.best_score_))"
   ]
  },
  {
   "cell_type": "markdown",
   "id": "7a9818ce",
   "metadata": {},
   "source": [
    "#### 3.1.2 CatBoost"
   ]
  },
  {
   "cell_type": "code",
   "execution_count": 48,
   "id": "2db1309c",
   "metadata": {},
   "outputs": [
    {
     "data": {
      "application/vnd.jupyter.widget-view+json": {
       "model_id": "9f86d41a14914d24ae5db3fa554321db",
       "version_major": 2,
       "version_minor": 0
      },
      "text/plain": [
       "MetricVisualizer(layout=Layout(align_self='stretch', height='500px'))"
      ]
     },
     "metadata": {},
     "output_type": "display_data"
    },
    {
     "name": "stdout",
     "output_type": "stream",
     "text": [
      "\n",
      "bestTest = 2.825876675\n",
      "bestIteration = 999\n",
      "\n",
      "0:\tloss: 2.8258767\tbest: 2.8258767 (0)\ttotal: 3m 51s\tremaining: 57m 48s\n",
      "\n",
      "bestTest = 2.818104753\n",
      "bestIteration = 999\n",
      "\n",
      "1:\tloss: 2.8181048\tbest: 2.8181048 (1)\ttotal: 7m 6s\tremaining: 49m 45s\n",
      "\n",
      "bestTest = 2.824871779\n",
      "bestIteration = 999\n",
      "\n",
      "2:\tloss: 2.8248718\tbest: 2.8181048 (1)\ttotal: 9m 41s\tremaining: 42m\n",
      "\n",
      "bestTest = 2.842257275\n",
      "bestIteration = 999\n",
      "\n",
      "3:\tloss: 2.8422573\tbest: 2.8181048 (1)\ttotal: 12m\tremaining: 36m 1s\n",
      "Estimating final quality...\n",
      "Training on fold [0/4]\n",
      "\n",
      "bestTest = 2.889562722\n",
      "bestIteration = 999\n",
      "\n",
      "Training on fold [1/4]\n",
      "\n",
      "bestTest = 2.950846423\n",
      "bestIteration = 999\n",
      "\n",
      "Training on fold [2/4]\n",
      "\n",
      "bestTest = 2.750495025\n",
      "bestIteration = 999\n",
      "\n",
      "Training on fold [3/4]\n",
      "\n",
      "bestTest = 2.859778435\n",
      "bestIteration = 999\n",
      "\n"
     ]
    }
   ],
   "source": [
    "# инициализация модели\n",
    "cat_reg = CatBoostRegressor(loss_function='RMSE', verbose=False)\n",
    "\n",
    "# параметры grid_search\n",
    "grid = {'iterations': [1000],\n",
    "        'random_seed': [2],\n",
    "        'depth': [6, 10],\n",
    "        'l2_leaf_reg': [0.07, 0.71],\n",
    "        'learning_rate': [0.0745, 0.0750],\n",
    "        'max_leaves': [50, 64]\n",
    "       }\n",
    "# подбор лучших парамтров для модели\n",
    "cat_grid = cat_reg.grid_search(grid,\n",
    "                               train_data_ph,\n",
    "                               cv=4,\n",
    "                               plot=True)"
   ]
  },
  {
   "cell_type": "code",
   "execution_count": 49,
   "id": "f27084e8",
   "metadata": {},
   "outputs": [
    {
     "name": "stdout",
     "output_type": "stream",
     "text": [
      "CatBoost RMSE :  2.685339\n"
     ]
    }
   ],
   "source": [
    "# Прогнозмрование с помощью модели CatBoost\n",
    "cat_predict = cat_reg.predict(X_test_ph)\n",
    "# Вычисление RMSE \n",
    "cat_rmse = mean_squared_error(y_test_ph, cat_predict, squared=False)\n",
    "print(\"CatBoost RMSE : % f\" %(cat_rmse))"
   ]
  },
  {
   "cell_type": "code",
   "execution_count": 50,
   "id": "777fa478",
   "metadata": {},
   "outputs": [
    {
     "name": "stdout",
     "output_type": "stream",
     "text": [
      "Best parameters: {'loss_function': 'RMSE', 'verbose': False, 'max_leaves': 64, 'depth': 6, 'random_seed': 2, 'iterations': 1000, 'learning_rate': 0.075, 'l2_leaf_reg': 0.07}\n"
     ]
    }
   ],
   "source": [
    "print(\"Best parameters:\", cat_reg.get_params())"
   ]
  },
  {
   "cell_type": "markdown",
   "id": "19932beb",
   "metadata": {},
   "source": [
    "### 3.2 Обучение модели на общих данных (по муниципалитетам всех регионов)"
   ]
  },
  {
   "cell_type": "markdown",
   "id": "c4d60028",
   "metadata": {},
   "source": [
    "#### 3.2.1 XGBoost"
   ]
  },
  {
   "cell_type": "code",
   "execution_count": 51,
   "id": "9669b107",
   "metadata": {},
   "outputs": [
    {
     "name": "stderr",
     "output_type": "stream",
     "text": [
      "C:\\Users\\uovorop\\Anaconda3\\lib\\site-packages\\xgboost\\data.py:192: FutureWarning: pandas.Int64Index is deprecated and will be removed from pandas in a future version. Use pandas.Index with the appropriate dtype instead.\n",
      "  from pandas import MultiIndex, Int64Index\n"
     ]
    },
    {
     "data": {
      "text/plain": [
       "XGBRegressor(base_score=0.5, booster='gbtree', colsample_bylevel=1,\n",
       "             colsample_bynode=1, colsample_bytree=0.6, gamma=0.05, gpu_id=-1,\n",
       "             importance_type='gain', interaction_constraints='',\n",
       "             learning_rate=0.075, max_delta_step=0, max_depth=10,\n",
       "             min_child_weight=1, missing=nan, monotone_constraints='()',\n",
       "             n_estimators=5000, n_jobs=8, num_parallel_tree=1, random_state=2,\n",
       "             reg_alpha=0, reg_lambda=1, scale_pos_weight=1, subsample=1,\n",
       "             tree_method='exact', validate_parameters=1, verbosity=None)"
      ]
     },
     "execution_count": 51,
     "metadata": {},
     "output_type": "execute_result"
    }
   ],
   "source": [
    "# Словарь с оптимизированными параметрами модели\n",
    "params = xgb_grid.best_params_\n",
    "params['n_estimators'] = 5000\n",
    "\n",
    "# Инициализация модели для обучения на данных по всем регионам\n",
    "xgb_all_regions = xgb_reg.set_params(**params)\n",
    "\n",
    "# Обучение модели\n",
    "xgb_all_regions.fit(X_train_ph, y_train_ph)"
   ]
  },
  {
   "cell_type": "code",
   "execution_count": 52,
   "id": "abc5109f",
   "metadata": {},
   "outputs": [
    {
     "name": "stdout",
     "output_type": "stream",
     "text": [
      "XGBoost RMSE :  1.979383\n"
     ]
    }
   ],
   "source": [
    "# Прогнозирование модели XGBoost\n",
    "xgb_pred_tot = xgb_all_regions.predict(X_test_ph)\n",
    "# Вычисление RMSE \n",
    "xgb_rmse_tot = mean_squared_error(y_test_ph, xgb_pred_tot, squared=False)\n",
    "print(\"XGBoost RMSE : % f\" %(xgb_rmse_tot))"
   ]
  },
  {
   "cell_type": "code",
   "execution_count": 53,
   "id": "344a5f57",
   "metadata": {},
   "outputs": [
    {
     "data": {
      "text/html": [
       "<div>\n",
       "<style scoped>\n",
       "    .dataframe tbody tr th:only-of-type {\n",
       "        vertical-align: middle;\n",
       "    }\n",
       "\n",
       "    .dataframe tbody tr th {\n",
       "        vertical-align: top;\n",
       "    }\n",
       "\n",
       "    .dataframe thead th {\n",
       "        text-align: right;\n",
       "    }\n",
       "</style>\n",
       "<table border=\"1\" class=\"dataframe\">\n",
       "  <thead>\n",
       "    <tr style=\"text-align: right;\">\n",
       "      <th></th>\n",
       "      <th>features</th>\n",
       "      <th>importance</th>\n",
       "    </tr>\n",
       "  </thead>\n",
       "  <tbody>\n",
       "    <tr>\n",
       "      <th>151</th>\n",
       "      <td>region</td>\n",
       "      <td>0.062004</td>\n",
       "    </tr>\n",
       "    <tr>\n",
       "      <th>131</th>\n",
       "      <td>total_avg_u_humidity</td>\n",
       "      <td>0.047133</td>\n",
       "    </tr>\n",
       "    <tr>\n",
       "      <th>161</th>\n",
       "      <td>rotation</td>\n",
       "      <td>0.046951</td>\n",
       "    </tr>\n",
       "    <tr>\n",
       "      <th>159</th>\n",
       "      <td>central_lon</td>\n",
       "      <td>0.029819</td>\n",
       "    </tr>\n",
       "    <tr>\n",
       "      <th>157</th>\n",
       "      <td>west_border</td>\n",
       "      <td>0.028159</td>\n",
       "    </tr>\n",
       "    <tr>\n",
       "      <th>145</th>\n",
       "      <td>total_dry_wind</td>\n",
       "      <td>0.020108</td>\n",
       "    </tr>\n",
       "    <tr>\n",
       "      <th>139</th>\n",
       "      <td>total_sum_air_temp</td>\n",
       "      <td>0.018027</td>\n",
       "    </tr>\n",
       "    <tr>\n",
       "      <th>150</th>\n",
       "      <td>federal_distr</td>\n",
       "      <td>0.016633</td>\n",
       "    </tr>\n",
       "    <tr>\n",
       "      <th>128</th>\n",
       "      <td>total_avg_po_press</td>\n",
       "      <td>0.016369</td>\n",
       "    </tr>\n",
       "    <tr>\n",
       "      <th>107</th>\n",
       "      <td>ph4_avg_soil_surface</td>\n",
       "      <td>0.016010</td>\n",
       "    </tr>\n",
       "    <tr>\n",
       "      <th>49</th>\n",
       "      <td>ph2_sum_air_temp</td>\n",
       "      <td>0.014429</td>\n",
       "    </tr>\n",
       "    <tr>\n",
       "      <th>38</th>\n",
       "      <td>ph2_avg_po_press</td>\n",
       "      <td>0.014289</td>\n",
       "    </tr>\n",
       "    <tr>\n",
       "      <th>85</th>\n",
       "      <td>ph3_dry_wind</td>\n",
       "      <td>0.012001</td>\n",
       "    </tr>\n",
       "    <tr>\n",
       "      <th>127</th>\n",
       "      <td>total_avg_air_temp</td>\n",
       "      <td>0.011983</td>\n",
       "    </tr>\n",
       "    <tr>\n",
       "      <th>67</th>\n",
       "      <td>ph3_avg_air_temp</td>\n",
       "      <td>0.010762</td>\n",
       "    </tr>\n",
       "    <tr>\n",
       "      <th>137</th>\n",
       "      <td>total_avg_soil_surface</td>\n",
       "      <td>0.010620</td>\n",
       "    </tr>\n",
       "    <tr>\n",
       "      <th>61</th>\n",
       "      <td>ph3_min_ground_temp</td>\n",
       "      <td>0.010616</td>\n",
       "    </tr>\n",
       "    <tr>\n",
       "      <th>129</th>\n",
       "      <td>total_avg_baric_tendency</td>\n",
       "      <td>0.010474</td>\n",
       "    </tr>\n",
       "    <tr>\n",
       "      <th>115</th>\n",
       "      <td>ph4_dry_wind</td>\n",
       "      <td>0.010109</td>\n",
       "    </tr>\n",
       "    <tr>\n",
       "      <th>82</th>\n",
       "      <td>ph3_sum_precipitation_time</td>\n",
       "      <td>0.009979</td>\n",
       "    </tr>\n",
       "    <tr>\n",
       "      <th>97</th>\n",
       "      <td>ph4_avg_air_temp</td>\n",
       "      <td>0.009544</td>\n",
       "    </tr>\n",
       "    <tr>\n",
       "      <th>123</th>\n",
       "      <td>total_max_air_temp</td>\n",
       "      <td>0.009238</td>\n",
       "    </tr>\n",
       "    <tr>\n",
       "      <th>98</th>\n",
       "      <td>ph4_avg_po_press</td>\n",
       "      <td>0.008973</td>\n",
       "    </tr>\n",
       "    <tr>\n",
       "      <th>109</th>\n",
       "      <td>ph4_sum_air_temp</td>\n",
       "      <td>0.008436</td>\n",
       "    </tr>\n",
       "    <tr>\n",
       "      <th>117</th>\n",
       "      <td>ph4_diff_po_press</td>\n",
       "      <td>0.007906</td>\n",
       "    </tr>\n",
       "    <tr>\n",
       "      <th>144</th>\n",
       "      <td>total_precipitation_speed</td>\n",
       "      <td>0.007728</td>\n",
       "    </tr>\n",
       "    <tr>\n",
       "      <th>77</th>\n",
       "      <td>ph3_avg_soil_surface</td>\n",
       "      <td>0.007381</td>\n",
       "    </tr>\n",
       "    <tr>\n",
       "      <th>79</th>\n",
       "      <td>ph3_sum_air_temp</td>\n",
       "      <td>0.007373</td>\n",
       "    </tr>\n",
       "    <tr>\n",
       "      <th>90</th>\n",
       "      <td>ph4_min_air_temp</td>\n",
       "      <td>0.007143</td>\n",
       "    </tr>\n",
       "    <tr>\n",
       "      <th>91</th>\n",
       "      <td>ph4_min_ground_temp</td>\n",
       "      <td>0.007063</td>\n",
       "    </tr>\n",
       "  </tbody>\n",
       "</table>\n",
       "</div>"
      ],
      "text/plain": [
       "                       features  importance\n",
       "151                      region    0.062004\n",
       "131        total_avg_u_humidity    0.047133\n",
       "161                    rotation    0.046951\n",
       "159                 central_lon    0.029819\n",
       "157                 west_border    0.028159\n",
       "145              total_dry_wind    0.020108\n",
       "139          total_sum_air_temp    0.018027\n",
       "150               federal_distr    0.016633\n",
       "128          total_avg_po_press    0.016369\n",
       "107        ph4_avg_soil_surface    0.016010\n",
       "49             ph2_sum_air_temp    0.014429\n",
       "38             ph2_avg_po_press    0.014289\n",
       "85                 ph3_dry_wind    0.012001\n",
       "127          total_avg_air_temp    0.011983\n",
       "67             ph3_avg_air_temp    0.010762\n",
       "137      total_avg_soil_surface    0.010620\n",
       "61          ph3_min_ground_temp    0.010616\n",
       "129    total_avg_baric_tendency    0.010474\n",
       "115                ph4_dry_wind    0.010109\n",
       "82   ph3_sum_precipitation_time    0.009979\n",
       "97             ph4_avg_air_temp    0.009544\n",
       "123          total_max_air_temp    0.009238\n",
       "98             ph4_avg_po_press    0.008973\n",
       "109            ph4_sum_air_temp    0.008436\n",
       "117           ph4_diff_po_press    0.007906\n",
       "144   total_precipitation_speed    0.007728\n",
       "77         ph3_avg_soil_surface    0.007381\n",
       "79             ph3_sum_air_temp    0.007373\n",
       "90             ph4_min_air_temp    0.007143\n",
       "91          ph4_min_ground_temp    0.007063"
      ]
     },
     "execution_count": 53,
     "metadata": {},
     "output_type": "execute_result"
    }
   ],
   "source": [
    "importance = xgb_all_regions.feature_importances_\n",
    "features = X_test_ph.columns\n",
    "feature_importance = pd.DataFrame(zip(features,importance), columns=['features', 'importance'])\n",
    "feature_importance = feature_importance.sort_values(by=['importance'], ascending=False)\n",
    "feature_importance.head(30)"
   ]
  },
  {
   "cell_type": "code",
   "execution_count": 54,
   "id": "aaeff0b7",
   "metadata": {},
   "outputs": [
    {
     "data": {
      "text/plain": [
       "Text(0.5, 1.0, 'Feature Importance')"
      ]
     },
     "execution_count": 54,
     "metadata": {},
     "output_type": "execute_result"
    },
    {
     "data": {
      "image/png": "[encoded data removed]",
      "text/plain": [
       "<Figure size 1080x720 with 1 Axes>"
      ]
     },
     "metadata": {
      "needs_background": "light"
     },
     "output_type": "display_data"
    }
   ],
   "source": [
    "feature_importance = xgb_all_regions.feature_importances_\n",
    "sorted_idx = np.argsort(feature_importance)\n",
    "fig = plt.figure(figsize=(15,10))\n",
    "plt.barh(range(len(sorted_idx)), feature_importance[sorted_idx], align='center')\n",
    "plt.yticks(range(len(sorted_idx)), np.array(X_test_ph.columns)[sorted_idx])\n",
    "plt.title('Feature Importance')"
   ]
  },
  {
   "cell_type": "code",
   "execution_count": 55,
   "id": "a7716d75",
   "metadata": {},
   "outputs": [],
   "source": [
    "xgb_all_regions.save_model(\"RESULTS/MODELS/xgb_all_regions_ph.json\")"
   ]
  },
  {
   "cell_type": "markdown",
   "id": "91082b91",
   "metadata": {},
   "source": [
    "#### 3.2.2 CatBoost"
   ]
  },
  {
   "cell_type": "code",
   "execution_count": 56,
   "id": "25e1b713",
   "metadata": {},
   "outputs": [
    {
     "data": {
      "application/vnd.jupyter.widget-view+json": {
       "model_id": "98cf296ebca14c8d9a3834771a099581",
       "version_major": 2,
       "version_minor": 0
      },
      "text/plain": [
       "MetricVisualizer(layout=Layout(align_self='stretch', height='500px'))"
      ]
     },
     "metadata": {},
     "output_type": "display_data"
    },
    {
     "data": {
      "text/plain": [
       "<catboost.core.CatBoostRegressor at 0x14e807bba90>"
      ]
     },
     "execution_count": 56,
     "metadata": {},
     "output_type": "execute_result"
    }
   ],
   "source": [
    "# Словарь с оптимизированными параметрами модели\n",
    "params = cat_reg.get_params()\n",
    "params['iterations'] = 5000\n",
    "\n",
    "# Инициализация модели для обучения на данных по всем регионам\n",
    "cat_all_regions = CatBoostRegressor().set_params(**params)\n",
    "\n",
    "# Обучение модели\n",
    "cat_all_regions.fit(train_data_ph, eval_set=eval_data_ph, plot=True)"
   ]
  },
  {
   "cell_type": "code",
   "execution_count": 57,
   "id": "9c33415e",
   "metadata": {},
   "outputs": [
    {
     "name": "stdout",
     "output_type": "stream",
     "text": [
      "CatBoost RMSE :  2.163949\n"
     ]
    }
   ],
   "source": [
    "# Прогнозирование модели XGBoost\n",
    "cat_pred_tot = cat_all_regions.predict(X_test_ph)\n",
    "# Вычисление RMSE \n",
    "cat_rmse_tot = mean_squared_error(y_test_ph, cat_pred_tot, squared=False)\n",
    "print(\"CatBoost RMSE : % f\" %(cat_rmse_tot))"
   ]
  },
  {
   "cell_type": "code",
   "execution_count": 58,
   "id": "0ce80069",
   "metadata": {},
   "outputs": [
    {
     "data": {
      "text/html": [
       "<div>\n",
       "<style scoped>\n",
       "    .dataframe tbody tr th:only-of-type {\n",
       "        vertical-align: middle;\n",
       "    }\n",
       "\n",
       "    .dataframe tbody tr th {\n",
       "        vertical-align: top;\n",
       "    }\n",
       "\n",
       "    .dataframe thead th {\n",
       "        text-align: right;\n",
       "    }\n",
       "</style>\n",
       "<table border=\"1\" class=\"dataframe\">\n",
       "  <thead>\n",
       "    <tr style=\"text-align: right;\">\n",
       "      <th></th>\n",
       "      <th>features</th>\n",
       "      <th>importance</th>\n",
       "    </tr>\n",
       "  </thead>\n",
       "  <tbody>\n",
       "    <tr>\n",
       "      <th>151</th>\n",
       "      <td>region</td>\n",
       "      <td>13.287899</td>\n",
       "    </tr>\n",
       "    <tr>\n",
       "      <th>153</th>\n",
       "      <td>id_municip</td>\n",
       "      <td>7.673191</td>\n",
       "    </tr>\n",
       "    <tr>\n",
       "      <th>160</th>\n",
       "      <td>settl_count</td>\n",
       "      <td>7.353376</td>\n",
       "    </tr>\n",
       "    <tr>\n",
       "      <th>159</th>\n",
       "      <td>central_lon</td>\n",
       "      <td>5.984670</td>\n",
       "    </tr>\n",
       "    <tr>\n",
       "      <th>154</th>\n",
       "      <td>north_border</td>\n",
       "      <td>5.653917</td>\n",
       "    </tr>\n",
       "    <tr>\n",
       "      <th>155</th>\n",
       "      <td>south_border</td>\n",
       "      <td>5.355830</td>\n",
       "    </tr>\n",
       "    <tr>\n",
       "      <th>157</th>\n",
       "      <td>west_border</td>\n",
       "      <td>5.207186</td>\n",
       "    </tr>\n",
       "    <tr>\n",
       "      <th>156</th>\n",
       "      <td>east_border</td>\n",
       "      <td>5.175137</td>\n",
       "    </tr>\n",
       "    <tr>\n",
       "      <th>158</th>\n",
       "      <td>central_lat</td>\n",
       "      <td>4.459459</td>\n",
       "    </tr>\n",
       "    <tr>\n",
       "      <th>161</th>\n",
       "      <td>rotation</td>\n",
       "      <td>2.229032</td>\n",
       "    </tr>\n",
       "    <tr>\n",
       "      <th>150</th>\n",
       "      <td>federal_distr</td>\n",
       "      <td>1.060955</td>\n",
       "    </tr>\n",
       "    <tr>\n",
       "      <th>116</th>\n",
       "      <td>ph4_diff_air_temp</td>\n",
       "      <td>1.006338</td>\n",
       "    </tr>\n",
       "    <tr>\n",
       "      <th>145</th>\n",
       "      <td>total_dry_wind</td>\n",
       "      <td>0.784037</td>\n",
       "    </tr>\n",
       "    <tr>\n",
       "      <th>57</th>\n",
       "      <td>ph2_diff_po_press</td>\n",
       "      <td>0.717562</td>\n",
       "    </tr>\n",
       "    <tr>\n",
       "      <th>152</th>\n",
       "      <td>category</td>\n",
       "      <td>0.664311</td>\n",
       "    </tr>\n",
       "    <tr>\n",
       "      <th>17</th>\n",
       "      <td>ph1_avg_soil_surface</td>\n",
       "      <td>0.578182</td>\n",
       "    </tr>\n",
       "    <tr>\n",
       "      <th>107</th>\n",
       "      <td>ph4_avg_soil_surface</td>\n",
       "      <td>0.571995</td>\n",
       "    </tr>\n",
       "    <tr>\n",
       "      <th>123</th>\n",
       "      <td>total_max_air_temp</td>\n",
       "      <td>0.560473</td>\n",
       "    </tr>\n",
       "    <tr>\n",
       "      <th>131</th>\n",
       "      <td>total_avg_u_humidity</td>\n",
       "      <td>0.524787</td>\n",
       "    </tr>\n",
       "    <tr>\n",
       "      <th>117</th>\n",
       "      <td>ph4_diff_po_press</td>\n",
       "      <td>0.521327</td>\n",
       "    </tr>\n",
       "    <tr>\n",
       "      <th>27</th>\n",
       "      <td>ph1_diff_po_press</td>\n",
       "      <td>0.514883</td>\n",
       "    </tr>\n",
       "    <tr>\n",
       "      <th>63</th>\n",
       "      <td>ph3_max_air_temp</td>\n",
       "      <td>0.497456</td>\n",
       "    </tr>\n",
       "    <tr>\n",
       "      <th>47</th>\n",
       "      <td>ph2_avg_soil_surface</td>\n",
       "      <td>0.479055</td>\n",
       "    </tr>\n",
       "    <tr>\n",
       "      <th>74</th>\n",
       "      <td>ph3_avg_nh_clouds</td>\n",
       "      <td>0.476703</td>\n",
       "    </tr>\n",
       "    <tr>\n",
       "      <th>87</th>\n",
       "      <td>ph3_diff_po_press</td>\n",
       "      <td>0.448451</td>\n",
       "    </tr>\n",
       "    <tr>\n",
       "      <th>147</th>\n",
       "      <td>total_diff_po_press</td>\n",
       "      <td>0.442190</td>\n",
       "    </tr>\n",
       "    <tr>\n",
       "      <th>29</th>\n",
       "      <td>ph1_diff_u_humidity</td>\n",
       "      <td>0.433016</td>\n",
       "    </tr>\n",
       "    <tr>\n",
       "      <th>85</th>\n",
       "      <td>ph3_dry_wind</td>\n",
       "      <td>0.418145</td>\n",
       "    </tr>\n",
       "    <tr>\n",
       "      <th>127</th>\n",
       "      <td>total_avg_air_temp</td>\n",
       "      <td>0.415401</td>\n",
       "    </tr>\n",
       "    <tr>\n",
       "      <th>11</th>\n",
       "      <td>ph1_avg_u_humidity</td>\n",
       "      <td>0.410833</td>\n",
       "    </tr>\n",
       "  </tbody>\n",
       "</table>\n",
       "</div>"
      ],
      "text/plain": [
       "                 features  importance\n",
       "151                region   13.287899\n",
       "153            id_municip    7.673191\n",
       "160           settl_count    7.353376\n",
       "159           central_lon    5.984670\n",
       "154          north_border    5.653917\n",
       "155          south_border    5.355830\n",
       "157           west_border    5.207186\n",
       "156           east_border    5.175137\n",
       "158           central_lat    4.459459\n",
       "161              rotation    2.229032\n",
       "150         federal_distr    1.060955\n",
       "116     ph4_diff_air_temp    1.006338\n",
       "145        total_dry_wind    0.784037\n",
       "57      ph2_diff_po_press    0.717562\n",
       "152              category    0.664311\n",
       "17   ph1_avg_soil_surface    0.578182\n",
       "107  ph4_avg_soil_surface    0.571995\n",
       "123    total_max_air_temp    0.560473\n",
       "131  total_avg_u_humidity    0.524787\n",
       "117     ph4_diff_po_press    0.521327\n",
       "27      ph1_diff_po_press    0.514883\n",
       "63       ph3_max_air_temp    0.497456\n",
       "47   ph2_avg_soil_surface    0.479055\n",
       "74      ph3_avg_nh_clouds    0.476703\n",
       "87      ph3_diff_po_press    0.448451\n",
       "147   total_diff_po_press    0.442190\n",
       "29    ph1_diff_u_humidity    0.433016\n",
       "85           ph3_dry_wind    0.418145\n",
       "127    total_avg_air_temp    0.415401\n",
       "11     ph1_avg_u_humidity    0.410833"
      ]
     },
     "execution_count": 58,
     "metadata": {},
     "output_type": "execute_result"
    }
   ],
   "source": [
    "importance = cat_all_regions.feature_importances_\n",
    "features = X_test_ph.columns\n",
    "feature_importance = pd.DataFrame(zip(features,importance), columns=['features', 'importance'])\n",
    "feature_importance = feature_importance.sort_values(by=['importance'], ascending=False)\n",
    "feature_importance.head(30)"
   ]
  },
  {
   "cell_type": "code",
   "execution_count": 59,
   "id": "94d64f00",
   "metadata": {},
   "outputs": [
    {
     "data": {
      "text/plain": [
       "Text(0.5, 1.0, 'Feature Importance')"
      ]
     },
     "execution_count": 59,
     "metadata": {},
     "output_type": "execute_result"
    },
    {
     "data": {
      "image/png": "[encoded data removed]",
      "text/plain": [
       "<Figure size 1080x720 with 1 Axes>"
      ]
     },
     "metadata": {
      "needs_background": "light"
     },
     "output_type": "display_data"
    }
   ],
   "source": [
    "feature_importance = cat_all_regions.feature_importances_\n",
    "sorted_idx = np.argsort(feature_importance)\n",
    "fig = plt.figure(figsize=(15,10))\n",
    "plt.barh(range(len(sorted_idx)), feature_importance[sorted_idx], align='center')\n",
    "plt.yticks(range(len(sorted_idx)), np.array(X_test_ph.columns)[sorted_idx])\n",
    "plt.title('Feature Importance')"
   ]
  },
  {
   "cell_type": "code",
   "execution_count": 60,
   "id": "9b911e09",
   "metadata": {},
   "outputs": [],
   "source": [
    "cat_all_regions.save_model(\"RESULTS/MODELS/cat_all_regions_ph\", format=\"cbm\")"
   ]
  },
  {
   "cell_type": "markdown",
   "id": "30faaca6",
   "metadata": {},
   "source": [
    "### 3.3 Обучение модели на данных по регионам (по муниципалитетам отдельного региона)"
   ]
  },
  {
   "cell_type": "markdown",
   "id": "17c67d2c",
   "metadata": {},
   "source": [
    "#### 3.3.1 XGBoost"
   ]
  },
  {
   "cell_type": "code",
   "execution_count": 61,
   "id": "beb09e71",
   "metadata": {
    "scrolled": true
   },
   "outputs": [
    {
     "name": "stderr",
     "output_type": "stream",
     "text": [
      "C:\\Users\\uovorop\\Anaconda3\\lib\\site-packages\\xgboost\\data.py:192: FutureWarning: pandas.Int64Index is deprecated and will be removed from pandas in a future version. Use pandas.Index with the appropriate dtype instead.\n",
      "  from pandas import MultiIndex, Int64Index\n",
      "C:\\Users\\uovorop\\Anaconda3\\lib\\site-packages\\xgboost\\data.py:192: FutureWarning: pandas.Int64Index is deprecated and will be removed from pandas in a future version. Use pandas.Index with the appropriate dtype instead.\n",
      "  from pandas import MultiIndex, Int64Index\n",
      "C:\\Users\\uovorop\\Anaconda3\\lib\\site-packages\\xgboost\\data.py:192: FutureWarning: pandas.Int64Index is deprecated and will be removed from pandas in a future version. Use pandas.Index with the appropriate dtype instead.\n",
      "  from pandas import MultiIndex, Int64Index\n",
      "C:\\Users\\uovorop\\Anaconda3\\lib\\site-packages\\xgboost\\data.py:192: FutureWarning: pandas.Int64Index is deprecated and will be removed from pandas in a future version. Use pandas.Index with the appropriate dtype instead.\n",
      "  from pandas import MultiIndex, Int64Index\n",
      "C:\\Users\\uovorop\\Anaconda3\\lib\\site-packages\\xgboost\\data.py:192: FutureWarning: pandas.Int64Index is deprecated and will be removed from pandas in a future version. Use pandas.Index with the appropriate dtype instead.\n",
      "  from pandas import MultiIndex, Int64Index\n",
      "C:\\Users\\uovorop\\Anaconda3\\lib\\site-packages\\xgboost\\data.py:192: FutureWarning: pandas.Int64Index is deprecated and will be removed from pandas in a future version. Use pandas.Index with the appropriate dtype instead.\n",
      "  from pandas import MultiIndex, Int64Index\n",
      "C:\\Users\\uovorop\\Anaconda3\\lib\\site-packages\\xgboost\\data.py:192: FutureWarning: pandas.Int64Index is deprecated and will be removed from pandas in a future version. Use pandas.Index with the appropriate dtype instead.\n",
      "  from pandas import MultiIndex, Int64Index\n",
      "C:\\Users\\uovorop\\Anaconda3\\lib\\site-packages\\xgboost\\data.py:192: FutureWarning: pandas.Int64Index is deprecated and will be removed from pandas in a future version. Use pandas.Index with the appropriate dtype instead.\n",
      "  from pandas import MultiIndex, Int64Index\n",
      "C:\\Users\\uovorop\\Anaconda3\\lib\\site-packages\\xgboost\\data.py:192: FutureWarning: pandas.Int64Index is deprecated and will be removed from pandas in a future version. Use pandas.Index with the appropriate dtype instead.\n",
      "  from pandas import MultiIndex, Int64Index\n",
      "C:\\Users\\uovorop\\Anaconda3\\lib\\site-packages\\xgboost\\data.py:192: FutureWarning: pandas.Int64Index is deprecated and will be removed from pandas in a future version. Use pandas.Index with the appropriate dtype instead.\n",
      "  from pandas import MultiIndex, Int64Index\n",
      "C:\\Users\\uovorop\\Anaconda3\\lib\\site-packages\\xgboost\\data.py:192: FutureWarning: pandas.Int64Index is deprecated and will be removed from pandas in a future version. Use pandas.Index with the appropriate dtype instead.\n",
      "  from pandas import MultiIndex, Int64Index\n",
      "C:\\Users\\uovorop\\Anaconda3\\lib\\site-packages\\xgboost\\data.py:192: FutureWarning: pandas.Int64Index is deprecated and will be removed from pandas in a future version. Use pandas.Index with the appropriate dtype instead.\n",
      "  from pandas import MultiIndex, Int64Index\n",
      "C:\\Users\\uovorop\\Anaconda3\\lib\\site-packages\\xgboost\\data.py:192: FutureWarning: pandas.Int64Index is deprecated and will be removed from pandas in a future version. Use pandas.Index with the appropriate dtype instead.\n",
      "  from pandas import MultiIndex, Int64Index\n",
      "C:\\Users\\uovorop\\Anaconda3\\lib\\site-packages\\xgboost\\data.py:192: FutureWarning: pandas.Int64Index is deprecated and will be removed from pandas in a future version. Use pandas.Index with the appropriate dtype instead.\n",
      "  from pandas import MultiIndex, Int64Index\n",
      "C:\\Users\\uovorop\\Anaconda3\\lib\\site-packages\\xgboost\\data.py:192: FutureWarning: pandas.Int64Index is deprecated and will be removed from pandas in a future version. Use pandas.Index with the appropriate dtype instead.\n",
      "  from pandas import MultiIndex, Int64Index\n",
      "C:\\Users\\uovorop\\Anaconda3\\lib\\site-packages\\xgboost\\data.py:192: FutureWarning: pandas.Int64Index is deprecated and will be removed from pandas in a future version. Use pandas.Index with the appropriate dtype instead.\n",
      "  from pandas import MultiIndex, Int64Index\n",
      "C:\\Users\\uovorop\\Anaconda3\\lib\\site-packages\\xgboost\\data.py:192: FutureWarning: pandas.Int64Index is deprecated and will be removed from pandas in a future version. Use pandas.Index with the appropriate dtype instead.\n",
      "  from pandas import MultiIndex, Int64Index\n",
      "C:\\Users\\uovorop\\Anaconda3\\lib\\site-packages\\xgboost\\data.py:192: FutureWarning: pandas.Int64Index is deprecated and will be removed from pandas in a future version. Use pandas.Index with the appropriate dtype instead.\n",
      "  from pandas import MultiIndex, Int64Index\n",
      "C:\\Users\\uovorop\\Anaconda3\\lib\\site-packages\\xgboost\\data.py:192: FutureWarning: pandas.Int64Index is deprecated and will be removed from pandas in a future version. Use pandas.Index with the appropriate dtype instead.\n",
      "  from pandas import MultiIndex, Int64Index\n",
      "C:\\Users\\uovorop\\Anaconda3\\lib\\site-packages\\xgboost\\data.py:192: FutureWarning: pandas.Int64Index is deprecated and will be removed from pandas in a future version. Use pandas.Index with the appropriate dtype instead.\n",
      "  from pandas import MultiIndex, Int64Index\n",
      "C:\\Users\\uovorop\\Anaconda3\\lib\\site-packages\\xgboost\\data.py:192: FutureWarning: pandas.Int64Index is deprecated and will be removed from pandas in a future version. Use pandas.Index with the appropriate dtype instead.\n",
      "  from pandas import MultiIndex, Int64Index\n",
      "C:\\Users\\uovorop\\Anaconda3\\lib\\site-packages\\xgboost\\data.py:192: FutureWarning: pandas.Int64Index is deprecated and will be removed from pandas in a future version. Use pandas.Index with the appropriate dtype instead.\n",
      "  from pandas import MultiIndex, Int64Index\n",
      "C:\\Users\\uovorop\\Anaconda3\\lib\\site-packages\\xgboost\\data.py:192: FutureWarning: pandas.Int64Index is deprecated and will be removed from pandas in a future version. Use pandas.Index with the appropriate dtype instead.\n",
      "  from pandas import MultiIndex, Int64Index\n",
      "C:\\Users\\uovorop\\Anaconda3\\lib\\site-packages\\xgboost\\data.py:192: FutureWarning: pandas.Int64Index is deprecated and will be removed from pandas in a future version. Use pandas.Index with the appropriate dtype instead.\n",
      "  from pandas import MultiIndex, Int64Index\n",
      "C:\\Users\\uovorop\\Anaconda3\\lib\\site-packages\\xgboost\\data.py:192: FutureWarning: pandas.Int64Index is deprecated and will be removed from pandas in a future version. Use pandas.Index with the appropriate dtype instead.\n",
      "  from pandas import MultiIndex, Int64Index\n",
      "C:\\Users\\uovorop\\Anaconda3\\lib\\site-packages\\xgboost\\data.py:192: FutureWarning: pandas.Int64Index is deprecated and will be removed from pandas in a future version. Use pandas.Index with the appropriate dtype instead.\n",
      "  from pandas import MultiIndex, Int64Index\n",
      "C:\\Users\\uovorop\\Anaconda3\\lib\\site-packages\\xgboost\\data.py:192: FutureWarning: pandas.Int64Index is deprecated and will be removed from pandas in a future version. Use pandas.Index with the appropriate dtype instead.\n",
      "  from pandas import MultiIndex, Int64Index\n",
      "C:\\Users\\uovorop\\Anaconda3\\lib\\site-packages\\xgboost\\data.py:192: FutureWarning: pandas.Int64Index is deprecated and will be removed from pandas in a future version. Use pandas.Index with the appropriate dtype instead.\n",
      "  from pandas import MultiIndex, Int64Index\n",
      "C:\\Users\\uovorop\\Anaconda3\\lib\\site-packages\\xgboost\\data.py:192: FutureWarning: pandas.Int64Index is deprecated and will be removed from pandas in a future version. Use pandas.Index with the appropriate dtype instead.\n",
      "  from pandas import MultiIndex, Int64Index\n",
      "C:\\Users\\uovorop\\Anaconda3\\lib\\site-packages\\xgboost\\data.py:192: FutureWarning: pandas.Int64Index is deprecated and will be removed from pandas in a future version. Use pandas.Index with the appropriate dtype instead.\n",
      "  from pandas import MultiIndex, Int64Index\n",
      "C:\\Users\\uovorop\\Anaconda3\\lib\\site-packages\\xgboost\\data.py:192: FutureWarning: pandas.Int64Index is deprecated and will be removed from pandas in a future version. Use pandas.Index with the appropriate dtype instead.\n",
      "  from pandas import MultiIndex, Int64Index\n",
      "C:\\Users\\uovorop\\Anaconda3\\lib\\site-packages\\xgboost\\data.py:192: FutureWarning: pandas.Int64Index is deprecated and will be removed from pandas in a future version. Use pandas.Index with the appropriate dtype instead.\n",
      "  from pandas import MultiIndex, Int64Index\n"
     ]
    },
    {
     "name": "stderr",
     "output_type": "stream",
     "text": [
      "C:\\Users\\uovorop\\Anaconda3\\lib\\site-packages\\xgboost\\data.py:192: FutureWarning: pandas.Int64Index is deprecated and will be removed from pandas in a future version. Use pandas.Index with the appropriate dtype instead.\n",
      "  from pandas import MultiIndex, Int64Index\n",
      "C:\\Users\\uovorop\\Anaconda3\\lib\\site-packages\\xgboost\\data.py:192: FutureWarning: pandas.Int64Index is deprecated and will be removed from pandas in a future version. Use pandas.Index with the appropriate dtype instead.\n",
      "  from pandas import MultiIndex, Int64Index\n",
      "C:\\Users\\uovorop\\Anaconda3\\lib\\site-packages\\xgboost\\data.py:192: FutureWarning: pandas.Int64Index is deprecated and will be removed from pandas in a future version. Use pandas.Index with the appropriate dtype instead.\n",
      "  from pandas import MultiIndex, Int64Index\n",
      "C:\\Users\\uovorop\\Anaconda3\\lib\\site-packages\\xgboost\\data.py:192: FutureWarning: pandas.Int64Index is deprecated and will be removed from pandas in a future version. Use pandas.Index with the appropriate dtype instead.\n",
      "  from pandas import MultiIndex, Int64Index\n",
      "C:\\Users\\uovorop\\Anaconda3\\lib\\site-packages\\xgboost\\data.py:192: FutureWarning: pandas.Int64Index is deprecated and will be removed from pandas in a future version. Use pandas.Index with the appropriate dtype instead.\n",
      "  from pandas import MultiIndex, Int64Index\n",
      "C:\\Users\\uovorop\\Anaconda3\\lib\\site-packages\\xgboost\\data.py:192: FutureWarning: pandas.Int64Index is deprecated and will be removed from pandas in a future version. Use pandas.Index with the appropriate dtype instead.\n",
      "  from pandas import MultiIndex, Int64Index\n",
      "C:\\Users\\uovorop\\Anaconda3\\lib\\site-packages\\xgboost\\data.py:192: FutureWarning: pandas.Int64Index is deprecated and will be removed from pandas in a future version. Use pandas.Index with the appropriate dtype instead.\n",
      "  from pandas import MultiIndex, Int64Index\n",
      "C:\\Users\\uovorop\\Anaconda3\\lib\\site-packages\\xgboost\\data.py:192: FutureWarning: pandas.Int64Index is deprecated and will be removed from pandas in a future version. Use pandas.Index with the appropriate dtype instead.\n",
      "  from pandas import MultiIndex, Int64Index\n"
     ]
    }
   ],
   "source": [
    "# Словарь с оптимизированными параметрами модели\n",
    "params = xgb_grid.best_params_\n",
    "params['n_estimators'] = 5000\n",
    "\n",
    "# Инициализация модели для обучения на данных по всем регионам\n",
    "xgb_regions = xgb_reg.set_params(**params)\n",
    "\n",
    "reg_learn = [] # пустой список для сохранения значений RMSE\n",
    "\n",
    "## Обучение модели по регионам\n",
    "for r in list(data_ph['region'].unique()):\n",
    "    reg_iter = [] # пустой список для итераций\n",
    "    reg_iter.append(le.inverse_transform([r])[0]) # добавление в список наименования региона\n",
    "    # ОБУЧЕНИЕ И ВАЛИДАЦИЯ\n",
    "    try:\n",
    "        # Разбиение данных на переменные и таргет\n",
    "        train = data_ph.loc[(data_ph['region'] == r)]\n",
    "        train_label = train['target']\n",
    "        train = train.drop(columns=['year', 'meteoid', 'target']) # удаление лишних столбцов\n",
    "        ## Разделение выборки на обучающую и тестовую (90/10) \n",
    "        X_train, X_test, y_train, y_test = train_test_split(train, train_label, test_size=0.1, random_state=2)\n",
    "        # Обучение модели\n",
    "        xgb_regions.fit(X_train, y_train, verbose=False)\n",
    "        # прогнозирование на тестовой выборке\n",
    "        xgb_pred = xgb_regions.predict(X_test)\n",
    "        # вычисление значения RMSE на тестовой выборке \n",
    "        xgb_rmse = mean_squared_error(y_test, xgb_pred, squared=False)\n",
    "        reg_iter.append(xgb_rmse) # добавление в список значения RMSE\n",
    "        # сохранение модели для выбранного региона в файл\n",
    "        xgb_regions.save_model(\"RESULTS/MODELS/xgb_reg_ph_{}.json\".format(le.inverse_transform([r])[0]))\n",
    "    except:\n",
    "        # заполнение отсутствующих значений\n",
    "        xgb_rmse = np.nan\n",
    "        reg_iter.append(xgb_rmse)\n",
    "    reg_learn.append(reg_iter) # добавление результатов итерации в список "
   ]
  },
  {
   "cell_type": "code",
   "execution_count": 62,
   "id": "3b63f743",
   "metadata": {},
   "outputs": [
    {
     "data": {
      "text/html": [
       "<div>\n",
       "<style scoped>\n",
       "    .dataframe tbody tr th:only-of-type {\n",
       "        vertical-align: middle;\n",
       "    }\n",
       "\n",
       "    .dataframe tbody tr th {\n",
       "        vertical-align: top;\n",
       "    }\n",
       "\n",
       "    .dataframe thead th {\n",
       "        text-align: right;\n",
       "    }\n",
       "</style>\n",
       "<table border=\"1\" class=\"dataframe\">\n",
       "  <thead>\n",
       "    <tr style=\"text-align: right;\">\n",
       "      <th></th>\n",
       "      <th>region</th>\n",
       "      <th>rmse_test</th>\n",
       "    </tr>\n",
       "  </thead>\n",
       "  <tbody>\n",
       "    <tr>\n",
       "      <th>11</th>\n",
       "      <td>Нижегородская область</td>\n",
       "      <td>8.790715</td>\n",
       "    </tr>\n",
       "    <tr>\n",
       "      <th>20</th>\n",
       "      <td>Республика Ингушетия</td>\n",
       "      <td>6.955401</td>\n",
       "    </tr>\n",
       "    <tr>\n",
       "      <th>4</th>\n",
       "      <td>Кабардино-Балкарская Республика</td>\n",
       "      <td>4.427180</td>\n",
       "    </tr>\n",
       "    <tr>\n",
       "      <th>37</th>\n",
       "      <td>Кемеровская область</td>\n",
       "      <td>4.354277</td>\n",
       "    </tr>\n",
       "    <tr>\n",
       "      <th>7</th>\n",
       "      <td>Красноярский край</td>\n",
       "      <td>3.893238</td>\n",
       "    </tr>\n",
       "    <tr>\n",
       "      <th>24</th>\n",
       "      <td>Республика Северная Осетия - Алания</td>\n",
       "      <td>3.659938</td>\n",
       "    </tr>\n",
       "    <tr>\n",
       "      <th>6</th>\n",
       "      <td>Краснодарский край</td>\n",
       "      <td>2.937276</td>\n",
       "    </tr>\n",
       "    <tr>\n",
       "      <th>34</th>\n",
       "      <td>Чеченская Республика</td>\n",
       "      <td>2.931645</td>\n",
       "    </tr>\n",
       "    <tr>\n",
       "      <th>31</th>\n",
       "      <td>Тульская область</td>\n",
       "      <td>2.906768</td>\n",
       "    </tr>\n",
       "    <tr>\n",
       "      <th>23</th>\n",
       "      <td>Республика Мордовия</td>\n",
       "      <td>2.845629</td>\n",
       "    </tr>\n",
       "    <tr>\n",
       "      <th>27</th>\n",
       "      <td>Рязанская область</td>\n",
       "      <td>2.788389</td>\n",
       "    </tr>\n",
       "    <tr>\n",
       "      <th>25</th>\n",
       "      <td>Республика Татарстан</td>\n",
       "      <td>2.761572</td>\n",
       "    </tr>\n",
       "    <tr>\n",
       "      <th>21</th>\n",
       "      <td>Республика Калмыкия</td>\n",
       "      <td>2.404758</td>\n",
       "    </tr>\n",
       "    <tr>\n",
       "      <th>26</th>\n",
       "      <td>Ростовская область</td>\n",
       "      <td>2.319953</td>\n",
       "    </tr>\n",
       "    <tr>\n",
       "      <th>5</th>\n",
       "      <td>Карачаево-Черкесская Республика</td>\n",
       "      <td>2.312479</td>\n",
       "    </tr>\n",
       "    <tr>\n",
       "      <th>18</th>\n",
       "      <td>Республика Адыгея</td>\n",
       "      <td>2.249019</td>\n",
       "    </tr>\n",
       "    <tr>\n",
       "      <th>35</th>\n",
       "      <td>Чувашская Республика</td>\n",
       "      <td>2.148021</td>\n",
       "    </tr>\n",
       "    <tr>\n",
       "      <th>8</th>\n",
       "      <td>Курганская область</td>\n",
       "      <td>2.126253</td>\n",
       "    </tr>\n",
       "    <tr>\n",
       "      <th>36</th>\n",
       "      <td>Амурская область</td>\n",
       "      <td>2.022847</td>\n",
       "    </tr>\n",
       "    <tr>\n",
       "      <th>29</th>\n",
       "      <td>Саратовская область</td>\n",
       "      <td>1.999810</td>\n",
       "    </tr>\n",
       "    <tr>\n",
       "      <th>13</th>\n",
       "      <td>Омская область</td>\n",
       "      <td>1.958048</td>\n",
       "    </tr>\n",
       "    <tr>\n",
       "      <th>33</th>\n",
       "      <td>Челябинская область</td>\n",
       "      <td>1.710264</td>\n",
       "    </tr>\n",
       "    <tr>\n",
       "      <th>1</th>\n",
       "      <td>Белгородская область</td>\n",
       "      <td>1.676790</td>\n",
       "    </tr>\n",
       "    <tr>\n",
       "      <th>9</th>\n",
       "      <td>Курская область</td>\n",
       "      <td>1.613103</td>\n",
       "    </tr>\n",
       "    <tr>\n",
       "      <th>12</th>\n",
       "      <td>Новосибирская область</td>\n",
       "      <td>1.552786</td>\n",
       "    </tr>\n",
       "    <tr>\n",
       "      <th>16</th>\n",
       "      <td>Пензенская область</td>\n",
       "      <td>1.410770</td>\n",
       "    </tr>\n",
       "    <tr>\n",
       "      <th>15</th>\n",
       "      <td>Орловская область</td>\n",
       "      <td>1.306386</td>\n",
       "    </tr>\n",
       "    <tr>\n",
       "      <th>30</th>\n",
       "      <td>Тамбовская область</td>\n",
       "      <td>1.292223</td>\n",
       "    </tr>\n",
       "    <tr>\n",
       "      <th>10</th>\n",
       "      <td>Липецкая область</td>\n",
       "      <td>1.289897</td>\n",
       "    </tr>\n",
       "    <tr>\n",
       "      <th>19</th>\n",
       "      <td>Республика Башкортостан</td>\n",
       "      <td>1.265069</td>\n",
       "    </tr>\n",
       "    <tr>\n",
       "      <th>2</th>\n",
       "      <td>Волгоградская область</td>\n",
       "      <td>1.223523</td>\n",
       "    </tr>\n",
       "    <tr>\n",
       "      <th>0</th>\n",
       "      <td>Алтайский край</td>\n",
       "      <td>1.205395</td>\n",
       "    </tr>\n",
       "    <tr>\n",
       "      <th>32</th>\n",
       "      <td>Ульяновская область</td>\n",
       "      <td>1.193875</td>\n",
       "    </tr>\n",
       "    <tr>\n",
       "      <th>39</th>\n",
       "      <td>Ставропольский край</td>\n",
       "      <td>1.086294</td>\n",
       "    </tr>\n",
       "    <tr>\n",
       "      <th>22</th>\n",
       "      <td>Республика Крым</td>\n",
       "      <td>1.043473</td>\n",
       "    </tr>\n",
       "    <tr>\n",
       "      <th>28</th>\n",
       "      <td>Самарская область</td>\n",
       "      <td>0.992683</td>\n",
       "    </tr>\n",
       "    <tr>\n",
       "      <th>3</th>\n",
       "      <td>Воронежская область</td>\n",
       "      <td>0.853558</td>\n",
       "    </tr>\n",
       "    <tr>\n",
       "      <th>14</th>\n",
       "      <td>Оренбургская область</td>\n",
       "      <td>0.802576</td>\n",
       "    </tr>\n",
       "    <tr>\n",
       "      <th>17</th>\n",
       "      <td>Приморский край</td>\n",
       "      <td>0.523128</td>\n",
       "    </tr>\n",
       "    <tr>\n",
       "      <th>38</th>\n",
       "      <td>Удмуртская Республика</td>\n",
       "      <td>0.080052</td>\n",
       "    </tr>\n",
       "  </tbody>\n",
       "</table>\n",
       "</div>"
      ],
      "text/plain": [
       "                                 region  rmse_test\n",
       "11                Нижегородская область   8.790715\n",
       "20                 Республика Ингушетия   6.955401\n",
       "4       Кабардино-Балкарская Республика   4.427180\n",
       "37                  Кемеровская область   4.354277\n",
       "7                     Красноярский край   3.893238\n",
       "24  Республика Северная Осетия - Алания   3.659938\n",
       "6                    Краснодарский край   2.937276\n",
       "34                 Чеченская Республика   2.931645\n",
       "31                     Тульская область   2.906768\n",
       "23                  Республика Мордовия   2.845629\n",
       "27                    Рязанская область   2.788389\n",
       "25                 Республика Татарстан   2.761572\n",
       "21                  Республика Калмыкия   2.404758\n",
       "26                   Ростовская область   2.319953\n",
       "5       Карачаево-Черкесская Республика   2.312479\n",
       "18                    Республика Адыгея   2.249019\n",
       "35                 Чувашская Республика   2.148021\n",
       "8                    Курганская область   2.126253\n",
       "36                     Амурская область   2.022847\n",
       "29                  Саратовская область   1.999810\n",
       "13                       Омская область   1.958048\n",
       "33                  Челябинская область   1.710264\n",
       "1                  Белгородская область   1.676790\n",
       "9                       Курская область   1.613103\n",
       "12                Новосибирская область   1.552786\n",
       "16                   Пензенская область   1.410770\n",
       "15                    Орловская область   1.306386\n",
       "30                   Тамбовская область   1.292223\n",
       "10                     Липецкая область   1.289897\n",
       "19              Республика Башкортостан   1.265069\n",
       "2                 Волгоградская область   1.223523\n",
       "0                        Алтайский край   1.205395\n",
       "32                  Ульяновская область   1.193875\n",
       "39                  Ставропольский край   1.086294\n",
       "22                      Республика Крым   1.043473\n",
       "28                    Самарская область   0.992683\n",
       "3                   Воронежская область   0.853558\n",
       "14                 Оренбургская область   0.802576\n",
       "17                      Приморский край   0.523128\n",
       "38                Удмуртская Республика   0.080052"
      ]
     },
     "execution_count": 62,
     "metadata": {},
     "output_type": "execute_result"
    }
   ],
   "source": [
    "# Создание и сохранение результатов качества оценки (RMSE) моделей \n",
    "region = pd.DataFrame(reg_learn, columns = ['region', 'rmse_test'])\n",
    "region = region[['region', 'rmse_test']]\n",
    "region.sort_values(by=['rmse_test'], ascending=False)"
   ]
  },
  {
   "cell_type": "code",
   "execution_count": 63,
   "id": "c994a920",
   "metadata": {},
   "outputs": [
    {
     "data": {
      "text/plain": [
       "'rmse_test: 2.273'"
      ]
     },
     "execution_count": 63,
     "metadata": {},
     "output_type": "execute_result"
    }
   ],
   "source": [
    "# Оценка среднего значения RMSE для всех регионов\n",
    "test = region.rmse_test.mean()\n",
    "\"rmse_test: {:.3f}\".format(test)"
   ]
  },
  {
   "cell_type": "code",
   "execution_count": 64,
   "id": "fb0d5b09",
   "metadata": {},
   "outputs": [],
   "source": [
    "# Сохранение данных с RMSE в файл\n",
    "file_xgb = region.to_csv('RESULTS/xgb_rmse_reg_phase.csv', sep=';', index=False, encoding='cp1251')"
   ]
  },
  {
   "cell_type": "markdown",
   "id": "5b0d0da6",
   "metadata": {},
   "source": [
    "#### 3.3.2 CatBoost"
   ]
  },
  {
   "cell_type": "code",
   "execution_count": 71,
   "id": "2aedbdbd",
   "metadata": {},
   "outputs": [],
   "source": [
    "# Словарь с оптимизированными параметрами модели\n",
    "params = cat_reg.get_params()\n",
    "params['iterations'] = 5000\n",
    "\n",
    "# Инициализация модели для обучения на данных по всем регионам\n",
    "cat_regions = CatBoostRegressor().set_params(**params)\n",
    "\n",
    "reg_learn = [] # пустой список для сохранения значений RMSE\n",
    "\n",
    "## Обучение модели по регионам\n",
    "for r in list(data_ph['region'].unique()):\n",
    "    reg_iter = [] # пустой список для итераций\n",
    "    reg_iter.append(le.inverse_transform([r])[0]) # добавление в список наименования региона\n",
    "    # ОБУЧЕНИЕ И ВАЛИДАЦИЯ\n",
    "    try:\n",
    "        # Разбиение данных на переменные и таргет\n",
    "        train = data_ph.loc[(data_ph['region'] == r)]\n",
    "        train_label = train['target']\n",
    "        train = train.drop(columns=['year', 'meteoid', 'target']) # удаление лишних столбцов\n",
    "        ## Разделение выборки на обучающую и тестовую (90/10) \n",
    "        X_train, X_test, y_train, y_test = train_test_split(train, train_label, test_size=0.1, random_state=2)\n",
    "        # Обучение модели\n",
    "        cat_regions.fit(X_train, y_train, verbose=False)\n",
    "        # прогнозирование на тестовой выборке\n",
    "        cat_pred = cat_regions.predict(X_test)\n",
    "        # вычисление значения RMSE на тестовой выборке \n",
    "        cat_rmse = mean_squared_error(y_test, cat_pred, squared=False)\n",
    "        reg_iter.append(cat_rmse) # добавление в список значения RMSE\n",
    "        # сохранение модели для выбранного региона в файл\n",
    "        cat_regions.save_model('RESULTS/MODELS/cat_reg_ph_{}'.format(le.inverse_transform([r])[0]), format=\"cbm\")\n",
    "    except:\n",
    "        # заполнение отсутствующих значений\n",
    "        cat_rmse = np.nan\n",
    "        reg_iter.append(cat_rmse)\n",
    "    reg_learn.append(reg_iter) # добавление результатов итерации в список "
   ]
  },
  {
   "cell_type": "code",
   "execution_count": 72,
   "id": "73d9b76d",
   "metadata": {},
   "outputs": [
    {
     "data": {
      "text/html": [
       "<div>\n",
       "<style scoped>\n",
       "    .dataframe tbody tr th:only-of-type {\n",
       "        vertical-align: middle;\n",
       "    }\n",
       "\n",
       "    .dataframe tbody tr th {\n",
       "        vertical-align: top;\n",
       "    }\n",
       "\n",
       "    .dataframe thead th {\n",
       "        text-align: right;\n",
       "    }\n",
       "</style>\n",
       "<table border=\"1\" class=\"dataframe\">\n",
       "  <thead>\n",
       "    <tr style=\"text-align: right;\">\n",
       "      <th></th>\n",
       "      <th>region</th>\n",
       "      <th>rmse_test</th>\n",
       "    </tr>\n",
       "  </thead>\n",
       "  <tbody>\n",
       "    <tr>\n",
       "      <th>11</th>\n",
       "      <td>Нижегородская область</td>\n",
       "      <td>7.383282</td>\n",
       "    </tr>\n",
       "    <tr>\n",
       "      <th>20</th>\n",
       "      <td>Республика Ингушетия</td>\n",
       "      <td>5.563646</td>\n",
       "    </tr>\n",
       "    <tr>\n",
       "      <th>37</th>\n",
       "      <td>Кемеровская область</td>\n",
       "      <td>4.329469</td>\n",
       "    </tr>\n",
       "    <tr>\n",
       "      <th>4</th>\n",
       "      <td>Кабардино-Балкарская Республика</td>\n",
       "      <td>4.201026</td>\n",
       "    </tr>\n",
       "    <tr>\n",
       "      <th>24</th>\n",
       "      <td>Республика Северная Осетия - Алания</td>\n",
       "      <td>3.890534</td>\n",
       "    </tr>\n",
       "    <tr>\n",
       "      <th>7</th>\n",
       "      <td>Красноярский край</td>\n",
       "      <td>3.781345</td>\n",
       "    </tr>\n",
       "    <tr>\n",
       "      <th>34</th>\n",
       "      <td>Чеченская Республика</td>\n",
       "      <td>3.629663</td>\n",
       "    </tr>\n",
       "    <tr>\n",
       "      <th>31</th>\n",
       "      <td>Тульская область</td>\n",
       "      <td>3.398532</td>\n",
       "    </tr>\n",
       "    <tr>\n",
       "      <th>23</th>\n",
       "      <td>Республика Мордовия</td>\n",
       "      <td>3.139595</td>\n",
       "    </tr>\n",
       "    <tr>\n",
       "      <th>27</th>\n",
       "      <td>Рязанская область</td>\n",
       "      <td>2.984546</td>\n",
       "    </tr>\n",
       "    <tr>\n",
       "      <th>6</th>\n",
       "      <td>Краснодарский край</td>\n",
       "      <td>2.809480</td>\n",
       "    </tr>\n",
       "    <tr>\n",
       "      <th>17</th>\n",
       "      <td>Приморский край</td>\n",
       "      <td>2.581935</td>\n",
       "    </tr>\n",
       "    <tr>\n",
       "      <th>25</th>\n",
       "      <td>Республика Татарстан</td>\n",
       "      <td>2.515451</td>\n",
       "    </tr>\n",
       "    <tr>\n",
       "      <th>5</th>\n",
       "      <td>Карачаево-Черкесская Республика</td>\n",
       "      <td>2.491590</td>\n",
       "    </tr>\n",
       "    <tr>\n",
       "      <th>21</th>\n",
       "      <td>Республика Калмыкия</td>\n",
       "      <td>2.381099</td>\n",
       "    </tr>\n",
       "    <tr>\n",
       "      <th>26</th>\n",
       "      <td>Ростовская область</td>\n",
       "      <td>2.278388</td>\n",
       "    </tr>\n",
       "    <tr>\n",
       "      <th>18</th>\n",
       "      <td>Республика Адыгея</td>\n",
       "      <td>2.186824</td>\n",
       "    </tr>\n",
       "    <tr>\n",
       "      <th>36</th>\n",
       "      <td>Амурская область</td>\n",
       "      <td>2.131423</td>\n",
       "    </tr>\n",
       "    <tr>\n",
       "      <th>8</th>\n",
       "      <td>Курганская область</td>\n",
       "      <td>2.036755</td>\n",
       "    </tr>\n",
       "    <tr>\n",
       "      <th>35</th>\n",
       "      <td>Чувашская Республика</td>\n",
       "      <td>1.917192</td>\n",
       "    </tr>\n",
       "    <tr>\n",
       "      <th>13</th>\n",
       "      <td>Омская область</td>\n",
       "      <td>1.908798</td>\n",
       "    </tr>\n",
       "    <tr>\n",
       "      <th>9</th>\n",
       "      <td>Курская область</td>\n",
       "      <td>1.700112</td>\n",
       "    </tr>\n",
       "    <tr>\n",
       "      <th>33</th>\n",
       "      <td>Челябинская область</td>\n",
       "      <td>1.621650</td>\n",
       "    </tr>\n",
       "    <tr>\n",
       "      <th>29</th>\n",
       "      <td>Саратовская область</td>\n",
       "      <td>1.503344</td>\n",
       "    </tr>\n",
       "    <tr>\n",
       "      <th>1</th>\n",
       "      <td>Белгородская область</td>\n",
       "      <td>1.473838</td>\n",
       "    </tr>\n",
       "    <tr>\n",
       "      <th>38</th>\n",
       "      <td>Удмуртская Республика</td>\n",
       "      <td>1.430375</td>\n",
       "    </tr>\n",
       "    <tr>\n",
       "      <th>12</th>\n",
       "      <td>Новосибирская область</td>\n",
       "      <td>1.359679</td>\n",
       "    </tr>\n",
       "    <tr>\n",
       "      <th>15</th>\n",
       "      <td>Орловская область</td>\n",
       "      <td>1.255116</td>\n",
       "    </tr>\n",
       "    <tr>\n",
       "      <th>16</th>\n",
       "      <td>Пензенская область</td>\n",
       "      <td>1.228311</td>\n",
       "    </tr>\n",
       "    <tr>\n",
       "      <th>14</th>\n",
       "      <td>Оренбургская область</td>\n",
       "      <td>1.206609</td>\n",
       "    </tr>\n",
       "    <tr>\n",
       "      <th>19</th>\n",
       "      <td>Республика Башкортостан</td>\n",
       "      <td>1.199257</td>\n",
       "    </tr>\n",
       "    <tr>\n",
       "      <th>2</th>\n",
       "      <td>Волгоградская область</td>\n",
       "      <td>1.187433</td>\n",
       "    </tr>\n",
       "    <tr>\n",
       "      <th>32</th>\n",
       "      <td>Ульяновская область</td>\n",
       "      <td>1.159033</td>\n",
       "    </tr>\n",
       "    <tr>\n",
       "      <th>39</th>\n",
       "      <td>Ставропольский край</td>\n",
       "      <td>1.147101</td>\n",
       "    </tr>\n",
       "    <tr>\n",
       "      <th>30</th>\n",
       "      <td>Тамбовская область</td>\n",
       "      <td>1.135203</td>\n",
       "    </tr>\n",
       "    <tr>\n",
       "      <th>22</th>\n",
       "      <td>Республика Крым</td>\n",
       "      <td>1.098833</td>\n",
       "    </tr>\n",
       "    <tr>\n",
       "      <th>10</th>\n",
       "      <td>Липецкая область</td>\n",
       "      <td>1.055958</td>\n",
       "    </tr>\n",
       "    <tr>\n",
       "      <th>0</th>\n",
       "      <td>Алтайский край</td>\n",
       "      <td>1.007952</td>\n",
       "    </tr>\n",
       "    <tr>\n",
       "      <th>3</th>\n",
       "      <td>Воронежская область</td>\n",
       "      <td>0.851059</td>\n",
       "    </tr>\n",
       "    <tr>\n",
       "      <th>28</th>\n",
       "      <td>Самарская область</td>\n",
       "      <td>0.758299</td>\n",
       "    </tr>\n",
       "  </tbody>\n",
       "</table>\n",
       "</div>"
      ],
      "text/plain": [
       "                                 region  rmse_test\n",
       "11                Нижегородская область   7.383282\n",
       "20                 Республика Ингушетия   5.563646\n",
       "37                  Кемеровская область   4.329469\n",
       "4       Кабардино-Балкарская Республика   4.201026\n",
       "24  Республика Северная Осетия - Алания   3.890534\n",
       "7                     Красноярский край   3.781345\n",
       "34                 Чеченская Республика   3.629663\n",
       "31                     Тульская область   3.398532\n",
       "23                  Республика Мордовия   3.139595\n",
       "27                    Рязанская область   2.984546\n",
       "6                    Краснодарский край   2.809480\n",
       "17                      Приморский край   2.581935\n",
       "25                 Республика Татарстан   2.515451\n",
       "5       Карачаево-Черкесская Республика   2.491590\n",
       "21                  Республика Калмыкия   2.381099\n",
       "26                   Ростовская область   2.278388\n",
       "18                    Республика Адыгея   2.186824\n",
       "36                     Амурская область   2.131423\n",
       "8                    Курганская область   2.036755\n",
       "35                 Чувашская Республика   1.917192\n",
       "13                       Омская область   1.908798\n",
       "9                       Курская область   1.700112\n",
       "33                  Челябинская область   1.621650\n",
       "29                  Саратовская область   1.503344\n",
       "1                  Белгородская область   1.473838\n",
       "38                Удмуртская Республика   1.430375\n",
       "12                Новосибирская область   1.359679\n",
       "15                    Орловская область   1.255116\n",
       "16                   Пензенская область   1.228311\n",
       "14                 Оренбургская область   1.206609\n",
       "19              Республика Башкортостан   1.199257\n",
       "2                 Волгоградская область   1.187433\n",
       "32                  Ульяновская область   1.159033\n",
       "39                  Ставропольский край   1.147101\n",
       "30                   Тамбовская область   1.135203\n",
       "22                      Республика Крым   1.098833\n",
       "10                     Липецкая область   1.055958\n",
       "0                        Алтайский край   1.007952\n",
       "3                   Воронежская область   0.851059\n",
       "28                    Самарская область   0.758299"
      ]
     },
     "execution_count": 72,
     "metadata": {},
     "output_type": "execute_result"
    }
   ],
   "source": [
    "# Созданиехранение результатов качества оценки (RMSE) моделей \n",
    "region = pd.DataFrame(reg_learn, columns = ['region', 'rmse_test'])\n",
    "region = region[['region', 'rmse_test']]\n",
    "region.sort_values(by=['rmse_test'], ascending=False)"
   ]
  },
  {
   "cell_type": "code",
   "execution_count": 73,
   "id": "2b4e56ed",
   "metadata": {},
   "outputs": [
    {
     "data": {
      "text/plain": [
       "'rmse_test: 2.273'"
      ]
     },
     "execution_count": 73,
     "metadata": {},
     "output_type": "execute_result"
    }
   ],
   "source": [
    "test = region.rmse_test.mean()\n",
    "\"rmse_test: {:.3f}\".format(test)"
   ]
  },
  {
   "cell_type": "code",
   "execution_count": 74,
   "id": "bf2a5c66",
   "metadata": {},
   "outputs": [],
   "source": [
    "# Сохранение данных в файл\n",
    "file_cat = region.to_csv('RESULTS/cat_rmse_reg_phase.csv', sep=';', index=False, encoding='cp1251')"
   ]
  },
  {
   "cell_type": "code",
   "execution_count": null,
   "id": "65d71540",
   "metadata": {},
   "outputs": [],
   "source": []
  }
 ],
 "metadata": {
  "kernelspec": {
   "display_name": "Python 3 (ipykernel)",
   "language": "python",
   "name": "python3"
  },
  "language_info": {
   "codemirror_mode": {
    "name": "ipython",
    "version": 3
   },
   "file_extension": ".py",
   "mimetype": "text/x-python",
   "name": "python",
   "nbconvert_exporter": "python",
   "pygments_lexer": "ipython3",
   "version": "3.8.13"
  }
 },
 "nbformat": 4,
 "nbformat_minor": 5
}
