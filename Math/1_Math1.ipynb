{
 "cells": [
  {
   "cell_type": "markdown",
   "metadata": {
    "id": "_kX74ytuOfgy"
   },
   "source": [
    "### Домашнее задание «Линейная алгебра. Векторы»"
   ]
  },
  {
   "cell_type": "markdown",
   "metadata": {},
   "source": [
    "= = = = = = = = = = = = = = = = = = = ="
   ]
  },
  {
   "cell_type": "markdown",
   "metadata": {
    "id": "rzDIWhwiKxdO"
   },
   "source": [
    "### Задание:\n",
    "Даны вектора x = (1,1), y = (2, 0) и z = (0,2)\n",
    "\n",
    "**Надо:**\n",
    "- Изобразить вектора на экране\n",
    "- Изобразить точку x + y + z\n",
    "- Найти угол между векторами x и y\n"
   ]
  },
  {
   "cell_type": "markdown",
   "metadata": {},
   "source": [
    "= = = = = = = = = = = = = = = = = = = ="
   ]
  },
  {
   "cell_type": "markdown",
   "metadata": {},
   "source": [
    "#### Загрузка необходимых бибилиотек"
   ]
  },
  {
   "cell_type": "code",
   "execution_count": 1,
   "metadata": {},
   "outputs": [],
   "source": [
    "import numpy as np\n",
    "import math\n",
    "import matplotlib.pyplot as plt"
   ]
  },
  {
   "cell_type": "markdown",
   "metadata": {},
   "source": [
    "= = = = = = = = = = = = = = = = = = = ="
   ]
  },
  {
   "cell_type": "markdown",
   "metadata": {},
   "source": [
    "#### Исходные данные"
   ]
  },
  {
   "cell_type": "code",
   "execution_count": 2,
   "metadata": {},
   "outputs": [],
   "source": [
    "# Значения векторов\n",
    "x = np.array([1, 1])\n",
    "y = np.array([2, 0])\n",
    "z = np.array([0, 2])"
   ]
  },
  {
   "cell_type": "markdown",
   "metadata": {},
   "source": [
    "#### 1. Изобразить вектора на экране"
   ]
  },
  {
   "cell_type": "code",
   "execution_count": 3,
   "metadata": {},
   "outputs": [
    {
     "data": {
      "image/png": "[encoded data removed]",
      "text/plain": [
       "<Figure size 432x288 with 1 Axes>"
      ]
     },
     "metadata": {
      "needs_background": "light"
     },
     "output_type": "display_data"
    }
   ],
   "source": [
    "# Визуализация значений точек векторов на плоскости\n",
    "plt.figure()\n",
    "plt.plot(x[0], x[1], 'o', color='r', label='x')\n",
    "plt.plot(y[0], y[1], 'o', color='b', label='y')\n",
    "plt.plot(z[0], z[1], 'o', color='g', label='z')\n",
    "plt.grid()\n",
    "plt.legend()\n",
    "plt.show();"
   ]
  },
  {
   "cell_type": "code",
   "execution_count": 4,
   "metadata": {},
   "outputs": [
    {
     "data": {
      "image/png": "[encoded data removed]",
      "text/plain": [
       "<Figure size 432x360 with 1 Axes>"
      ]
     },
     "metadata": {
      "needs_background": "light"
     },
     "output_type": "display_data"
    }
   ],
   "source": [
    "# Визуализация значений векторов на плоскости (из нулевой точки координат)\n",
    "plt.figure(figsize=(6,5))\n",
    "plt.quiver(0, 0, x[0], x[1], angles='xy', scale_units='xy', color='r', scale=1, label='x')\n",
    "plt.quiver(0, 0, y[0], y[1], angles='xy', scale_units='xy', color='b', scale=1, label='y')\n",
    "plt.quiver(0, 0, z[0], z[1], angles='xy', scale_units='xy', color='g', scale=1, label='z')\n",
    "plt.xlim(-0.5, 2.5)\n",
    "plt.ylim(-0.5, 2.5)\n",
    "plt.legend()\n",
    "plt.show();"
   ]
  },
  {
   "cell_type": "markdown",
   "metadata": {},
   "source": [
    "= = = = = = = = = = = = = = = = = = = ="
   ]
  },
  {
   "cell_type": "markdown",
   "metadata": {},
   "source": [
    "#### 2. Изобразить точку x + y + z"
   ]
  },
  {
   "cell_type": "code",
   "execution_count": 5,
   "metadata": {},
   "outputs": [
    {
     "data": {
      "image/png": "[encoded data removed]",
      "text/plain": [
       "<Figure size 432x288 with 1 Axes>"
      ]
     },
     "metadata": {
      "needs_background": "light"
     },
     "output_type": "display_data"
    }
   ],
   "source": [
    "xyz = x + y + z # расчет значений точки x + y + z\n",
    "\n",
    "plt.figure()\n",
    "plt.plot(x[0], x[1], 'o', color='r', label='x')\n",
    "plt.plot(y[0], y[1], 'o', color='b', label='y')\n",
    "plt.plot(z[0], z[1], 'o', color='g', label='z')\n",
    "plt.plot(xyz[0], xyz[1], 'o', color='orange', markersize=10, label='xyz')\n",
    "plt.grid()\n",
    "plt.legend()\n",
    "plt.show();"
   ]
  },
  {
   "cell_type": "markdown",
   "metadata": {},
   "source": [
    "= = = = = = = = = = = = = = = = = = = ="
   ]
  },
  {
   "cell_type": "markdown",
   "metadata": {},
   "source": [
    "#### 3. Найти угол между векторами x и y"
   ]
  },
  {
   "cell_type": "code",
   "execution_count": 6,
   "metadata": {},
   "outputs": [
    {
     "name": "stdout",
     "output_type": "stream",
     "text": [
      "Значение косинуса между векторами x и y равно 0.7071, что соответсвует значению угла 45.0 градусов.\n"
     ]
    }
   ],
   "source": [
    "dot_xy = np.dot(x, y) # скалярное произведение x и y\n",
    "dl_x = np.dot(x, x)**0.5 # длина вектора x\n",
    "dl_y = np.dot(y, y)**0.5 # длина вектора y\n",
    "cosinus = dot_xy / (dl_x * dl_y) # косинус угла между векторами x и y\n",
    "angle = math.degrees(math.acos(cosinus)) # угол между векторами x и y\n",
    "\n",
    "# вывод результатов расчета\n",
    "print(\"Значение косинуса между векторами x и y равно {:.4f}, что соответсвует значению угла {:.1f} градусов.\".\\\n",
    "      format(cosinus, angle))"
   ]
  },
  {
   "cell_type": "markdown",
   "metadata": {},
   "source": [
    "= = = = = = = = = = = = = = = = = = = ="
   ]
  }
 ],
 "metadata": {
  "colab": {
   "name": "HW_ 1",
   "provenance": []
  },
  "kernelspec": {
   "display_name": "Python 3",
   "language": "python",
   "name": "python3"
  },
  "language_info": {
   "codemirror_mode": {
    "name": "ipython",
    "version": 3
   },
   "file_extension": ".py",
   "mimetype": "text/x-python",
   "name": "python",
   "nbconvert_exporter": "python",
   "pygments_lexer": "ipython3",
   "version": "3.8.5"
  }
 },
 "nbformat": 4,
 "nbformat_minor": 1
}
