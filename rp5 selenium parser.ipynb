{
 "cells": [
  {
   "cell_type": "markdown",
   "metadata": {},
   "source": [
    "# Web-скрапер для получения архивных данных с гидрометеорологической информацией по метеостанциям"
   ]
  },
  {
   "cell_type": "markdown",
   "metadata": {},
   "source": [
    "### Описание задачи:\n",
    "Сайт <a href=\"https://rp5.ru/\">rp5.ru</a> представляет прогнозы погоды и информацию о фактической погоде, которая наблюдается на наземных метеостанциях. Из архива погоды размещенной на сайте получить данные с гидрометеорологической информацией по метеостанциям расположенным на территории РФ, для дальнейшего формирования базы данных  _**«Архив погоды»**_. Для решения данной задачи предполагается реализация следующих шагов:<br>\n",
    "1. Создание web-скрапера для получения архивных данных о погоде по метеостанциям.<br>\n",
    "2. Скачивание CSV-файлов с архивом погоды по метеостанциям.<br>\n",
    "3. Объединение полученных файлов в единую базу данных _**«Архив погоды»**_."
   ]
  },
  {
   "cell_type": "markdown",
   "metadata": {},
   "source": [
    "#### Load necessary library"
   ]
  },
  {
   "cell_type": "code",
   "execution_count": 1,
   "metadata": {},
   "outputs": [],
   "source": [
    "import pandas as pd\n",
    "import numpy as np\n",
    "from selenium import webdriver\n",
    "from bs4 import BeautifulSoup"
   ]
  },
  {
   "cell_type": "markdown",
   "metadata": {},
   "source": [
    "#### Web-парсер для обработки данных с сайта www.pr5.ru"
   ]
  },
  {
   "cell_type": "code",
   "execution_count": 2,
   "metadata": {},
   "outputs": [],
   "source": [
    "def load_weather (wd, URL, START_DATE, END_DATE, forma, codir):\n",
    "    try:\n",
    "        # запускаем selenium, выставляем неявное ожидание и переходим на страничку с архивом\n",
    "        wd.implicitly_wait(15)\n",
    "        wd.get(URL)\n",
    "\n",
    "        # здесь и далее для указания нужных элементов страницы \n",
    "        # используются XPath \n",
    "        # выделить нужный элемент -> Посмотреть код -> Copy -> Copy XPath \n",
    "        # переходим по вкладке «Архив погоды» \n",
    "        d_vkl = wd.find_element_by_xpath('//*[@id=\"tabSynopDLoad\"]')\n",
    "        d_vkl.click()\n",
    "\n",
    "        # заполняем начальную и конечную даты \n",
    "        start_date_input = wd.find_element_by_xpath('//*[@id=\"calender_dload\"]')\n",
    "        end_date_input = wd.find_element_by_xpath('//*[@id=\"calender_dload2\"]')\n",
    "\n",
    "        start_date_input.clear()\n",
    "        start_date_input.send_keys(START_DATE)\n",
    "\n",
    "        end_date_input.clear()\n",
    "        end_date_input.send_keys(END_DATE)\n",
    "\n",
    "        # выбираем формат файла\n",
    "        if forma == 'csv':\n",
    "            # формат файла 'csv'\n",
    "            radio_csv = wd.find_element_by_xpath('//*[@id=\"toFileMenu\"]/form/table[2]/tbody/tr[2]/td[3]/label/span')\n",
    "            radio_csv.click()\n",
    "            # выбираем кодировку файла\n",
    "            if codir == 'utf-8':\n",
    "                #кодировка (utf-8)\n",
    "                radio_utf = wd.find_element_by_xpath('//*[@id=\"toFileMenu\"]/form/table[2]/tbody/tr[3]/td[3]/label')\n",
    "            elif codir == 'ansi':\n",
    "                #кодировка (ansi)\n",
    "                radio_utf = wd.find_element_by_xpath('//*[@id=\"toFileMenu\"]/form/table[2]/tbody/tr[3]/td[2]/label')\n",
    "            else:\n",
    "                #кодировка (unicode)\n",
    "                radio_utf = wd.find_element_by_xpath('//*[@id=\"toFileMenu\"]/form/table[2]/tbody/tr[3]/td[4]/label')\n",
    "            radio_utf.click()\n",
    "        else:\n",
    "            # формат файла 'excel'\n",
    "            radio_csv = wd.find_element_by_xpath('//*[@id=\"toFileMenu\"]/form/table[2]/tbody/tr[2]/td[2]/label/span')\n",
    "            radio_csv.click()\n",
    "        \n",
    "        # нажимаем кнопку скачивания, чеез некоторое время появится ссылка на файл с архивом погоды\n",
    "        download_button = wd.\\\n",
    "            find_element_by_xpath('//*[@id=\"toFileMenu\"]/form/table[2]/tbody/tr[3]/td[6]/table/tbody/tr/td[1]/div/div')\n",
    "        download_button.click()\n",
    "\n",
    "        # скачиваем файл\n",
    "        try:\n",
    "            download_link = wd.find_element_by_xpath('//*[@id=\"f_result\"]/a')\n",
    "            download_link_href = download_link.get_attribute(\"href\")\n",
    "            wd.get(download_link_href)\n",
    "            txt = 'Файл загружен'\n",
    "        except:\n",
    "            txt = 'Файл не был загружен'\n",
    "        # возврат результатов (link и результат загрузки)\n",
    "    except:\n",
    "        txt = 'Архив отсутствует'\n",
    "    return URL, txt"
   ]
  },
  {
   "cell_type": "markdown",
   "metadata": {},
   "source": [
    "#### Создание входных данных"
   ]
  },
  {
   "cell_type": "code",
   "execution_count": 3,
   "metadata": {
    "scrolled": true
   },
   "outputs": [],
   "source": [
    "# Создание списка с ID метеостанций\n",
    "l = pd.read_excel(\"DATA/Список метеостанций и описание показателей.xlsx\", sheet_name='USSR', header=[0])\n",
    "links_rp5 = l['Link'].tolist()"
   ]
  },
  {
   "cell_type": "code",
   "execution_count": 4,
   "metadata": {},
   "outputs": [
    {
     "data": {
      "text/plain": [
       "'l = pd.read_csv(\"Meteo_link_empty.csv\", header=[0])\\nlinks_rp5 = l[\\'Link\\'].values.tolist()'"
      ]
     },
     "execution_count": 4,
     "metadata": {},
     "output_type": "execute_result"
    }
   ],
   "source": [
    "# Создание списка с ID метеостанций\n",
    "l = pd.read_csv(\"DATA/Meteo_link_full.csv\", sep=';', header=[0])\n",
    "links_rp5 = l['Link'].values.tolist()\n",
    "\n",
    "# Создание списка с ID метеостанций (пустые)\n",
    "'''l = pd.read_csv(\"Meteo_link_empty.csv\", header=[0])\n",
    "links_rp5 = l['Link'].values.tolist()'''"
   ]
  },
  {
   "cell_type": "code",
   "execution_count": 6,
   "metadata": {},
   "outputs": [],
   "source": [
    "# создание словаря\n",
    "dicts = []\n",
    "\n",
    "#выбор формата файла\n",
    "forma = 'csv'\n",
    "# выбор кодировки\n",
    "codir = 'utf-8'\n",
    "\n",
    "# для селениума нужен driver web-браузера, прописываем к нему путь\n",
    "DRIVER = 'C:/Users/uovorop/Downloads/EdgeDriver/msedgedriver.exe'\n",
    "#DRIVER = 'C:/Users/uovorop/Downloads/ChromeDriver/chromedriver.exe'\n",
    "\n",
    "# за какой период нужны данные\n",
    "START_DATE = '01.07.2021'\n",
    "END_DATE = '31.12.2021'\n",
    "\n",
    "# запуск драйвера для браузера\n",
    "wd = webdriver.Edge(DRIVER)\n",
    "#wd = webdriver.Chrome(DRIVER)"
   ]
  },
  {
   "cell_type": "markdown",
   "metadata": {},
   "source": [
    "#### Закачка Архива данных с сайта www.rp5.ru"
   ]
  },
  {
   "cell_type": "code",
   "execution_count": 7,
   "metadata": {},
   "outputs": [],
   "source": [
    "for link in links_rp5:\n",
    "    dicts.append(load_weather (wd, link, START_DATE, END_DATE, forma, codir))"
   ]
  },
  {
   "cell_type": "code",
   "execution_count": 8,
   "metadata": {},
   "outputs": [],
   "source": [
    "wd.close()"
   ]
  },
  {
   "cell_type": "code",
   "execution_count": 9,
   "metadata": {},
   "outputs": [
    {
     "name": "stdout",
     "output_type": "stream",
     "text": [
      "8\n"
     ]
    }
   ],
   "source": [
    "l_empty = []\n",
    "for l in dicts:\n",
    "    if l[1] == 'Архив отсутствует':\n",
    "        l_empty.append(l[0])\n",
    "print(len(l_empty))"
   ]
  },
  {
   "cell_type": "code",
   "execution_count": 10,
   "metadata": {},
   "outputs": [
    {
     "name": "stdout",
     "output_type": "stream",
     "text": [
      "223\n"
     ]
    }
   ],
   "source": [
    "l_failure = []\n",
    "for l in dicts:\n",
    "    if l[1] == 'Файл не был загружен':\n",
    "        l_failure.append(l[0])\n",
    "print(len(l_failure))"
   ]
  },
  {
   "cell_type": "code",
   "execution_count": 11,
   "metadata": {
    "scrolled": true
   },
   "outputs": [
    {
     "data": {
      "text/plain": [
       "['http://rp5.ru/archive.php?wmo_id=25356&lang=ru',\n",
       " 'http://rp5.ru/archive.php?wmo_id=26825&lang=ru',\n",
       " 'http://rp5.ru/archive.php?wmo_id=35067&lang=ru',\n",
       " 'http://rp5.ru/archive.php?wmo_id=37089&lang=ru',\n",
       " 'http://rp5.ru/archive.php?wmo_id=37279&lang=ru',\n",
       " 'http://rp5.ru/archive.php?wmo_id=37298&lang=ru',\n",
       " 'http://rp5.ru/archive.php?wmo_id=37959&lang=ru',\n",
       " 'http://rp5.ru/archive.php?wmo_id=38880&lang=ru']"
      ]
     },
     "execution_count": 11,
     "metadata": {},
     "output_type": "execute_result"
    }
   ],
   "source": [
    "l_empty"
   ]
  },
  {
   "cell_type": "code",
   "execution_count": 12,
   "metadata": {
    "scrolled": true
   },
   "outputs": [
    {
     "data": {
      "text/plain": [
       "['http://rp5.ru/archive.php?wmo_id=20087&lang=ru',\n",
       " 'http://rp5.ru/archive.php?wmo_id=20107&lang=ru',\n",
       " 'http://rp5.ru/archive.php?wmo_id=20471&lang=ru',\n",
       " 'http://rp5.ru/archive.php?wmo_id=20476&lang=ru',\n",
       " 'http://rp5.ru/archive.php?wmo_id=20665&lang=ru',\n",
       " 'http://rp5.ru/archive.php?wmo_id=20674&lang=ru',\n",
       " 'http://rp5.ru/archive.php?wmo_id=20744&lang=ru',\n",
       " 'http://rp5.ru/archive.php?wmo_id=20871&lang=ru',\n",
       " 'http://rp5.ru/archive.php?wmo_id=20891&lang=ru',\n",
       " 'http://rp5.ru/archive.php?wmo_id=20946&lang=ru',\n",
       " 'http://rp5.ru/archive.php?wmo_id=20967&lang=ru',\n",
       " 'http://rp5.ru/archive.php?wmo_id=20973&lang=ru',\n",
       " 'http://rp5.ru/archive.php?wmo_id=20982&lang=ru',\n",
       " 'http://rp5.ru/archive.php?wmo_id=21711&lang=ru',\n",
       " 'http://rp5.ru/archive.php?wmo_id=21802&lang=ru',\n",
       " 'http://rp5.ru/archive.php?wmo_id=21921&lang=ru',\n",
       " 'http://rp5.ru/archive.php?wmo_id=21931&lang=ru',\n",
       " 'http://rp5.ru/archive.php?wmo_id=22028&lang=ru',\n",
       " 'http://rp5.ru/archive.php?wmo_id=22095&lang=ru',\n",
       " 'http://rp5.ru/archive.php?wmo_id=22235&lang=ru',\n",
       " 'http://rp5.ru/archive.php?wmo_id=22271&lang=ru',\n",
       " 'http://rp5.ru/archive.php?wmo_id=22305&lang=ru',\n",
       " 'http://rp5.ru/archive.php?wmo_id=22349&lang=ru',\n",
       " 'http://rp5.ru/archive.php?wmo_id=22717&lang=ru',\n",
       " 'http://rp5.ru/archive.php?wmo_id=22778&lang=ru',\n",
       " 'http://rp5.ru/archive.php?wmo_id=22820&lang=ru',\n",
       " 'http://rp5.ru/archive.php?wmo_id=22854&lang=ru',\n",
       " 'http://rp5.ru/archive.php?wmo_id=22891&lang=ru',\n",
       " 'http://rp5.ru/archive.php?wmo_id=22897&lang=ru',\n",
       " 'http://rp5.ru/archive.php?wmo_id=22907&lang=ru',\n",
       " 'http://rp5.ru/archive.php?wmo_id=23022&lang=ru',\n",
       " 'http://rp5.ru/archive.php?wmo_id=23471&lang=ru',\n",
       " 'http://rp5.ru/archive.php?wmo_id=24817&lang=ru',\n",
       " 'http://rp5.ru/archive.php?wmo_id=24982&lang=ru',\n",
       " 'http://rp5.ru/archive.php?wmo_id=25150&lang=ru',\n",
       " 'http://rp5.ru/archive.php?wmo_id=25151&lang=ru',\n",
       " 'http://rp5.ru/archive.php?wmo_id=25378&lang=ru',\n",
       " 'http://rp5.ru/archive.php?wmo_id=25503&lang=ru',\n",
       " 'http://rp5.ru/archive.php?wmo_id=25703&lang=ru',\n",
       " 'http://rp5.ru/archive.php?wmo_id=25914&lang=ru',\n",
       " 'http://rp5.ru/archive.php?wmo_id=26038&lang=ru',\n",
       " 'http://rp5.ru/archive.php?wmo_id=26060&lang=ru',\n",
       " 'http://rp5.ru/archive.php?wmo_id=26072&lang=ru',\n",
       " 'http://rp5.ru/archive.php?wmo_id=26339&lang=ru',\n",
       " 'http://rp5.ru/archive.php?wmo_id=26348&lang=ru',\n",
       " 'http://rp5.ru/archive.php?wmo_id=26633&lang=ru',\n",
       " 'http://rp5.ru/archive.php?wmo_id=26894&lang=ru',\n",
       " 'http://rp5.ru/archive.php?wmo_id=26961&lang=ru',\n",
       " 'http://rp5.ru/archive.php?wmo_id=26976&lang=ru',\n",
       " 'http://rp5.ru/archive.php?wmo_id=26997&lang=ru',\n",
       " 'http://rp5.ru/archive.php?wmo_id=27346&lang=ru',\n",
       " 'http://rp5.ru/archive.php?wmo_id=27355&lang=ru',\n",
       " 'http://rp5.ru/archive.php?wmo_id=27373&lang=ru',\n",
       " 'http://rp5.ru/archive.php?wmo_id=27606&lang=ru',\n",
       " 'http://rp5.ru/archive.php?wmo_id=27625&lang=ru',\n",
       " 'http://rp5.ru/archive.php?wmo_id=27776&lang=ru',\n",
       " 'http://rp5.ru/archive.php?wmo_id=27906&lang=ru',\n",
       " 'http://rp5.ru/archive.php?wmo_id=27947&lang=ru',\n",
       " 'http://rp5.ru/archive.php?wmo_id=28116&lang=ru',\n",
       " 'http://rp5.ru/archive.php?wmo_id=28224&lang=ru',\n",
       " 'http://rp5.ru/archive.php?wmo_id=28240&lang=ru',\n",
       " 'http://rp5.ru/archive.php?wmo_id=28248&lang=ru',\n",
       " 'http://rp5.ru/archive.php?wmo_id=28275&lang=ru',\n",
       " 'http://rp5.ru/archive.php?wmo_id=28319&lang=ru',\n",
       " 'http://rp5.ru/archive.php?wmo_id=28434&lang=ru',\n",
       " 'http://rp5.ru/archive.php?wmo_id=28449&lang=ru',\n",
       " 'http://rp5.ru/archive.php?wmo_id=28481&lang=ru',\n",
       " 'http://rp5.ru/archive.php?wmo_id=28502&lang=ru',\n",
       " 'http://rp5.ru/archive.php?wmo_id=28581&lang=ru',\n",
       " 'http://rp5.ru/archive.php?wmo_id=28630&lang=ru',\n",
       " 'http://rp5.ru/archive.php?wmo_id=28904&lang=ru',\n",
       " 'http://rp5.ru/archive.php?wmo_id=28927&lang=ru',\n",
       " 'http://rp5.ru/archive.php?wmo_id=28984&lang=ru',\n",
       " 'http://rp5.ru/archive.php?wmo_id=29068&lang=ru',\n",
       " 'http://rp5.ru/archive.php?wmo_id=29224&lang=ru',\n",
       " 'http://rp5.ru/archive.php?wmo_id=29332&lang=ru',\n",
       " 'http://rp5.ru/archive.php?wmo_id=29348&lang=ru',\n",
       " 'http://rp5.ru/archive.php?wmo_id=29355&lang=ru',\n",
       " 'http://rp5.ru/archive.php?wmo_id=29379&lang=ru',\n",
       " 'http://rp5.ru/archive.php?wmo_id=29464&lang=ru',\n",
       " 'http://rp5.ru/archive.php?wmo_id=29467&lang=ru',\n",
       " 'http://rp5.ru/archive.php?wmo_id=29481&lang=ru',\n",
       " 'http://rp5.ru/archive.php?wmo_id=29540&lang=ru',\n",
       " 'http://rp5.ru/archive.php?wmo_id=29551&lang=ru',\n",
       " 'http://rp5.ru/archive.php?wmo_id=29562&lang=ru',\n",
       " 'http://rp5.ru/archive.php?wmo_id=29563&lang=ru',\n",
       " 'http://rp5.ru/archive.php?wmo_id=29570&lang=ru',\n",
       " 'http://rp5.ru/archive.php?wmo_id=29581&lang=ru',\n",
       " 'http://rp5.ru/archive.php?wmo_id=29587&lang=ru',\n",
       " 'http://rp5.ru/archive.php?wmo_id=29590&lang=ru',\n",
       " 'http://rp5.ru/archive.php?wmo_id=29612&lang=ru',\n",
       " 'http://rp5.ru/archive.php?wmo_id=29631&lang=ru',\n",
       " 'http://rp5.ru/archive.php?wmo_id=29632&lang=ru',\n",
       " 'http://rp5.ru/archive.php?wmo_id=29649&lang=ru',\n",
       " 'http://rp5.ru/archive.php?wmo_id=29745&lang=ru',\n",
       " 'http://rp5.ru/archive.php?wmo_id=29759&lang=ru',\n",
       " 'http://rp5.ru/archive.php?wmo_id=29822&lang=ru',\n",
       " 'http://rp5.ru/archive.php?wmo_id=29832&lang=ru',\n",
       " 'http://rp5.ru/archive.php?wmo_id=29840&lang=ru',\n",
       " 'http://rp5.ru/archive.php?wmo_id=29854&lang=ru',\n",
       " 'http://rp5.ru/archive.php?wmo_id=29866&lang=ru',\n",
       " 'http://rp5.ru/archive.php?wmo_id=29869&lang=ru',\n",
       " 'http://rp5.ru/archive.php?wmo_id=29937&lang=ru',\n",
       " 'http://rp5.ru/archive.php?wmo_id=30028&lang=ru',\n",
       " 'http://rp5.ru/archive.php?wmo_id=30054&lang=ru',\n",
       " 'http://rp5.ru/archive.php?wmo_id=30074&lang=ru',\n",
       " 'http://rp5.ru/archive.php?wmo_id=30218&lang=ru',\n",
       " 'http://rp5.ru/archive.php?wmo_id=30372&lang=ru',\n",
       " 'http://rp5.ru/archive.php?wmo_id=30457&lang=ru',\n",
       " 'http://rp5.ru/archive.php?wmo_id=30493&lang=ru',\n",
       " 'http://rp5.ru/archive.php?wmo_id=30504&lang=ru',\n",
       " 'http://rp5.ru/archive.php?wmo_id=30802&lang=ru',\n",
       " 'http://rp5.ru/archive.php?wmo_id=30862&lang=ru',\n",
       " 'http://rp5.ru/archive.php?wmo_id=30875&lang=ru',\n",
       " 'http://rp5.ru/archive.php?wmo_id=30934&lang=ru',\n",
       " 'http://rp5.ru/archive.php?wmo_id=30957&lang=ru',\n",
       " 'http://rp5.ru/archive.php?wmo_id=30961&lang=ru',\n",
       " 'http://rp5.ru/archive.php?wmo_id=30965&lang=ru',\n",
       " 'http://rp5.ru/archive.php?wmo_id=30967&lang=ru',\n",
       " 'http://rp5.ru/archive.php?wmo_id=30971&lang=ru',\n",
       " 'http://rp5.ru/archive.php?wmo_id=31005&lang=ru',\n",
       " 'http://rp5.ru/archive.php?wmo_id=31235&lang=ru',\n",
       " 'http://rp5.ru/archive.php?wmo_id=31253&lang=ru',\n",
       " 'http://rp5.ru/archive.php?wmo_id=31286&lang=ru',\n",
       " 'http://rp5.ru/archive.php?wmo_id=31299&lang=ru',\n",
       " 'http://rp5.ru/archive.php?wmo_id=31300&lang=ru',\n",
       " 'http://rp5.ru/archive.php?wmo_id=31373&lang=ru',\n",
       " 'http://rp5.ru/archive.php?wmo_id=31388&lang=ru',\n",
       " 'http://rp5.ru/archive.php?wmo_id=31397&lang=ru',\n",
       " 'http://rp5.ru/archive.php?wmo_id=31436&lang=ru',\n",
       " 'http://rp5.ru/archive.php?wmo_id=31445&lang=ru',\n",
       " 'http://rp5.ru/archive.php?wmo_id=31478&lang=ru',\n",
       " 'http://rp5.ru/archive.php?wmo_id=31683&lang=ru',\n",
       " 'http://rp5.ru/archive.php?wmo_id=31707&lang=ru',\n",
       " 'http://rp5.ru/archive.php?wmo_id=31710&lang=ru',\n",
       " 'http://rp5.ru/archive.php?wmo_id=31733&lang=ru',\n",
       " 'http://rp5.ru/archive.php?wmo_id=31754&lang=ru',\n",
       " 'http://rp5.ru/archive.php?wmo_id=32509&lang=ru',\n",
       " 'http://rp5.ru/archive.php?wmo_id=32596&lang=ru',\n",
       " 'http://rp5.ru/archive.php?wmo_id=33027&lang=ru',\n",
       " 'http://rp5.ru/archive.php?wmo_id=33036&lang=ru',\n",
       " 'http://rp5.ru/archive.php?wmo_id=33041&lang=ru',\n",
       " 'http://rp5.ru/archive.php?wmo_id=33203&lang=ru',\n",
       " 'http://rp5.ru/archive.php?wmo_id=33275&lang=ru',\n",
       " 'http://rp5.ru/archive.php?wmo_id=33288&lang=ru',\n",
       " 'http://rp5.ru/archive.php?wmo_id=33347&lang=ru',\n",
       " 'http://rp5.ru/archive.php?wmo_id=33409&lang=ru',\n",
       " 'http://rp5.ru/archive.php?wmo_id=33439&lang=ru',\n",
       " 'http://rp5.ru/archive.php?wmo_id=33464&lang=ru',\n",
       " 'http://rp5.ru/archive.php?wmo_id=33466&lang=ru',\n",
       " 'http://rp5.ru/archive.php?wmo_id=33514&lang=ru',\n",
       " 'http://rp5.ru/archive.php?wmo_id=33705&lang=ru',\n",
       " 'http://rp5.ru/archive.php?wmo_id=33788&lang=ru',\n",
       " 'http://rp5.ru/archive.php?wmo_id=33835&lang=ru',\n",
       " 'http://rp5.ru/archive.php?wmo_id=33966&lang=ru',\n",
       " 'http://rp5.ru/archive.php?wmo_id=34109&lang=ru',\n",
       " 'http://rp5.ru/archive.php?wmo_id=34146&lang=ru',\n",
       " 'http://rp5.ru/archive.php?wmo_id=34321&lang=ru',\n",
       " 'http://rp5.ru/archive.php?wmo_id=34401&lang=ru',\n",
       " 'http://rp5.ru/archive.php?wmo_id=34407&lang=ru',\n",
       " 'http://rp5.ru/archive.php?wmo_id=34421&lang=ru',\n",
       " 'http://rp5.ru/archive.php?wmo_id=34476&lang=ru',\n",
       " 'http://rp5.ru/archive.php?wmo_id=34555&lang=ru',\n",
       " 'http://rp5.ru/archive.php?wmo_id=34560&lang=ru',\n",
       " 'http://rp5.ru/archive.php?wmo_id=34581&lang=ru',\n",
       " 'http://rp5.ru/archive.php?wmo_id=34719&lang=ru',\n",
       " 'http://rp5.ru/archive.php?wmo_id=34772&lang=ru',\n",
       " 'http://rp5.ru/archive.php?wmo_id=34785&lang=ru',\n",
       " 'http://rp5.ru/archive.php?wmo_id=34798&lang=ru',\n",
       " 'http://rp5.ru/archive.php?wmo_id=34825&lang=ru',\n",
       " 'http://rp5.ru/archive.php?wmo_id=34838&lang=ru',\n",
       " 'http://rp5.ru/archive.php?wmo_id=34861&lang=ru',\n",
       " 'http://rp5.ru/archive.php?wmo_id=34866&lang=ru',\n",
       " 'http://rp5.ru/archive.php?wmo_id=34880&lang=ru',\n",
       " 'http://rp5.ru/archive.php?wmo_id=34887&lang=ru',\n",
       " 'http://rp5.ru/archive.php?wmo_id=34915&lang=ru',\n",
       " 'http://rp5.ru/archive.php?wmo_id=34949&lang=ru',\n",
       " 'http://rp5.ru/archive.php?wmo_id=34958&lang=ru',\n",
       " 'http://rp5.ru/archive.php?wmo_id=35078&lang=ru',\n",
       " 'http://rp5.ru/archive.php?wmo_id=35082&lang=ru',\n",
       " 'http://rp5.ru/archive.php?wmo_id=35107&lang=ru',\n",
       " 'http://rp5.ru/archive.php?wmo_id=35117&lang=ru',\n",
       " 'http://rp5.ru/archive.php?wmo_id=35582&lang=ru',\n",
       " 'http://rp5.ru/archive.php?wmo_id=35594&lang=ru',\n",
       " 'http://rp5.ru/archive.php?wmo_id=36045&lang=ru',\n",
       " 'http://rp5.ru/archive.php?wmo_id=36058&lang=ru',\n",
       " 'http://rp5.ru/archive.php?wmo_id=36061&lang=ru',\n",
       " 'http://rp5.ru/archive.php?wmo_id=36064&lang=ru',\n",
       " 'http://rp5.ru/archive.php?wmo_id=36231&lang=ru',\n",
       " 'http://rp5.ru/archive.php?wmo_id=36307&lang=ru',\n",
       " 'http://rp5.ru/archive.php?wmo_id=36358&lang=ru',\n",
       " 'http://rp5.ru/archive.php?wmo_id=36428&lang=ru',\n",
       " 'http://rp5.ru/archive.php?wmo_id=36442&lang=ru',\n",
       " 'http://rp5.ru/archive.php?wmo_id=36443&lang=ru',\n",
       " 'http://rp5.ru/archive.php?wmo_id=36498&lang=ru',\n",
       " 'http://rp5.ru/archive.php?wmo_id=37017&lang=ru',\n",
       " 'http://rp5.ru/archive.php?wmo_id=37036&lang=ru',\n",
       " 'http://rp5.ru/archive.php?wmo_id=37054&lang=ru',\n",
       " 'http://rp5.ru/archive.php?wmo_id=37079&lang=ru',\n",
       " 'http://rp5.ru/archive.php?wmo_id=37107&lang=ru',\n",
       " 'http://rp5.ru/archive.php?wmo_id=37193&lang=ru',\n",
       " 'http://rp5.ru/archive.php?wmo_id=37212&lang=ru',\n",
       " 'http://rp5.ru/archive.php?wmo_id=37463&lang=ru',\n",
       " 'http://rp5.ru/archive.php?wmo_id=37545&lang=ru',\n",
       " 'http://rp5.ru/archive.php?wmo_id=37699&lang=ru',\n",
       " 'http://rp5.ru/archive.php?wmo_id=38204&lang=ru',\n",
       " 'http://rp5.ru/archive.php?wmo_id=38301&lang=ru',\n",
       " 'http://rp5.ru/archive.php?wmo_id=38316&lang=ru',\n",
       " 'http://rp5.ru/archive.php?wmo_id=38345&lang=ru',\n",
       " 'http://rp5.ru/archive.php?wmo_id=38358&lang=ru',\n",
       " 'http://rp5.ru/archive.php?wmo_id=38396&lang=ru',\n",
       " 'http://rp5.ru/archive.php?wmo_id=38553&lang=ru',\n",
       " 'http://rp5.ru/archive.php?wmo_id=38574&lang=ru',\n",
       " 'http://rp5.ru/archive.php?wmo_id=38687&lang=ru',\n",
       " 'http://rp5.ru/archive.php?wmo_id=38705&lang=ru',\n",
       " 'http://rp5.ru/archive.php?wmo_id=38799&lang=ru',\n",
       " 'http://rp5.ru/archive.php?wmo_id=38836&lang=ru',\n",
       " 'http://rp5.ru/archive.php?wmo_id=38869&lang=ru',\n",
       " 'http://rp5.ru/archive.php?wmo_id=38875&lang=ru',\n",
       " 'http://rp5.ru/archive.php?wmo_id=38878&lang=ru',\n",
       " 'http://rp5.ru/archive.php?wmo_id=38957&lang=ru',\n",
       " 'http://rp5.ru/archive.php?wmo_id=20069&lang=ru',\n",
       " 'http://rp5.ru/archive.php?wmo_id=26242&lang=ru']"
      ]
     },
     "execution_count": 12,
     "metadata": {},
     "output_type": "execute_result"
    }
   ],
   "source": [
    "l_failure"
   ]
  },
  {
   "cell_type": "markdown",
   "metadata": {},
   "source": [
    "#### Повторяемая часть кода\n",
    "Повторить описанную ниже часть кода, до тех пор пока длина списка \"l_recycle\" не будет равна нулю"
   ]
  },
  {
   "cell_type": "code",
   "execution_count": 36,
   "metadata": {},
   "outputs": [
    {
     "name": "stdout",
     "output_type": "stream",
     "text": [
      "1\n"
     ]
    }
   ],
   "source": [
    "l_recycle = []\n",
    "for l in dicts2:\n",
    "    if l[1] == 'Файл не был загружен':\n",
    "        l_recycle.append(l[0])\n",
    "print(len(l_recycle))"
   ]
  },
  {
   "cell_type": "code",
   "execution_count": 37,
   "metadata": {},
   "outputs": [
    {
     "data": {
      "text/plain": [
       "['http://rp5.ru/archive.php?wmo_id=31005&lang=ru']"
      ]
     },
     "execution_count": 37,
     "metadata": {},
     "output_type": "execute_result"
    }
   ],
   "source": [
    "l_recycle"
   ]
  },
  {
   "cell_type": "code",
   "execution_count": 38,
   "metadata": {},
   "outputs": [],
   "source": [
    "# создание словаря\n",
    "dicts2 = []\n",
    "\n",
    "#выбор формата файла\n",
    "forma2 = 'csv'\n",
    "# выбор кодировки\n",
    "codir2 = 'utf-8'\n",
    "\n",
    "# для селениума нужен driver web-браузера, прописываем к нему путь\n",
    "DRIVER2 = 'C:/Users/uovorop/Downloads/EdgeDriver/msedgedriver.exe'\n",
    "#DRIVER = 'C:/Users/uovorop/Downloads/ChromeDriver/chromedriver.exe'\n",
    "\n",
    "# за какой период нужны данные\n",
    "START_DATE2 = '01.07.2021'\n",
    "END_DATE2 = '31.12.2021'\n",
    "\n",
    "# запуск драйвера для браузера\n",
    "wd2 = webdriver.Edge(DRIVER)\n",
    "#wd = webdriver.Chrome(DRIVER)"
   ]
  },
  {
   "cell_type": "code",
   "execution_count": 39,
   "metadata": {},
   "outputs": [],
   "source": [
    "#for link in l_failure:\n",
    "#for link in l_recycle:\n",
    "for link in l_empty:\n",
    "    dicts2.append(load_weather (wd2, link, START_DATE2, END_DATE2, forma2, codir2))"
   ]
  },
  {
   "cell_type": "code",
   "execution_count": 40,
   "metadata": {},
   "outputs": [],
   "source": [
    "wd2.close()"
   ]
  },
  {
   "cell_type": "code",
   "execution_count": 41,
   "metadata": {},
   "outputs": [],
   "source": [
    "l_load = []\n",
    "for l in dicts:\n",
    "    if l[1] == 'Файл загружен':\n",
    "        l_load.append(l[0])\n",
    "print(len(l_load))\n",
    "\n",
    "l_full = l_load + l_recycle\n",
    "# Сохранение данных в файл CSV-формата\n",
    "pd.DataFrame(l_full).to_csv('Meteo_link_full.csv', index=False)"
   ]
  },
  {
   "cell_type": "code",
   "execution_count": 30,
   "metadata": {},
   "outputs": [],
   "source": []
  }
 ],
 "metadata": {
  "kernelspec": {
   "display_name": "Python 3 (ipykernel)",
   "language": "python",
   "name": "python3"
  },
  "language_info": {
   "codemirror_mode": {
    "name": "ipython",
    "version": 3
   },
   "file_extension": ".py",
   "mimetype": "text/x-python",
   "name": "python",
   "nbconvert_exporter": "python",
   "pygments_lexer": "ipython3",
   "version": "3.8.5"
  }
 },
 "nbformat": 4,
 "nbformat_minor": 4
}
